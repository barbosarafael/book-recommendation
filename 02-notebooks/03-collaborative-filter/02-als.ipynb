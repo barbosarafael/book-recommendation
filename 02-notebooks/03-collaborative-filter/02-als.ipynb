{
 "cells": [
  {
   "cell_type": "markdown",
   "id": "0d0c88a0-a174-428c-b8d1-16a230cf2c10",
   "metadata": {},
   "source": [
    "## ALS"
   ]
  },
  {
   "cell_type": "markdown",
   "id": "0b0895c2-1fd3-454c-a649-8b65e9de0718",
   "metadata": {},
   "source": [
    "## 0. Setup"
   ]
  },
  {
   "cell_type": "code",
   "execution_count": 1,
   "id": "f8e33445-0ade-4247-8b79-366f0334d705",
   "metadata": {},
   "outputs": [
    {
     "name": "stderr",
     "output_type": "stream",
     "text": [
      "/home/rafa/Documentos/github/book-recommendation/venv/lib/python3.10/site-packages/tqdm/auto.py:21: TqdmWarning: IProgress not found. Please update jupyter and ipywidgets. See https://ipywidgets.readthedocs.io/en/stable/user_install.html\n",
      "  from .autonotebook import tqdm as notebook_tqdm\n"
     ]
    }
   ],
   "source": [
    "#---- Bibliotecas:\n",
    "\n",
    "# Análise e manipulação de dados:\n",
    "\n",
    "import pandas as pd\n",
    "import numpy as np\n",
    "\n",
    "# Visualização de dados:\n",
    "\n",
    "import plotly.io as pio\n",
    "import plotly.express as px\n",
    "\n",
    "# Manuseio nos dados\n",
    "\n",
    "from os import chdir\n",
    "\n",
    "# ALS\n",
    "\n",
    "from implicit import als"
   ]
  },
  {
   "cell_type": "code",
   "execution_count": 2,
   "id": "618182d6-1b39-419c-9565-f67895e2fdea",
   "metadata": {},
   "outputs": [],
   "source": [
    "#---- Mudando o diretório raiz para a pasta principal do projeto\n",
    "\n",
    "chdir('../../')\n",
    "\n",
    "#---- Template dos gráficos:\n",
    "\n",
    "pio.templates.default = \"plotly_white\"\n",
    "\n",
    "#---- Carregando as funções\n",
    "\n",
    "from functions import *"
   ]
  },
  {
   "cell_type": "markdown",
   "id": "9fbf7e14-c725-47fe-bf83-98e4fd5b3111",
   "metadata": {},
   "source": [
    "## 1. Extração dos dados"
   ]
  },
  {
   "cell_type": "code",
   "execution_count": 3,
   "id": "2758b971-880e-4de0-aa84-726fac4d4995",
   "metadata": {},
   "outputs": [
    {
     "data": {
      "text/plain": [
       "<22569x158236 sparse matrix of type '<class 'numpy.int64'>'\n",
       "\twith 346011 stored elements in Compressed Sparse Row format>"
      ]
     },
     "execution_count": 3,
     "metadata": {},
     "output_type": "execute_result"
    }
   ],
   "source": [
    "#---- Dados de treino\n",
    "\n",
    "train_data = load_sparse_csr('03-data/02-processed/04-ALS-train-data.npz')\n",
    "\n",
    "train_data"
   ]
  },
  {
   "cell_type": "code",
   "execution_count": 4,
   "id": "29e69a6c-126a-4255-90c6-83bf0b58b79b",
   "metadata": {},
   "outputs": [
    {
     "data": {
      "text/html": [
       "<div>\n",
       "<style scoped>\n",
       "    .dataframe tbody tr th:only-of-type {\n",
       "        vertical-align: middle;\n",
       "    }\n",
       "\n",
       "    .dataframe tbody tr th {\n",
       "        vertical-align: top;\n",
       "    }\n",
       "\n",
       "    .dataframe thead th {\n",
       "        text-align: right;\n",
       "    }\n",
       "</style>\n",
       "<table border=\"1\" class=\"dataframe\">\n",
       "  <thead>\n",
       "    <tr style=\"text-align: right;\">\n",
       "      <th></th>\n",
       "      <th>User-ID</th>\n",
       "      <th>ISBN</th>\n",
       "      <th>Book-Rating</th>\n",
       "      <th>Book-Title</th>\n",
       "      <th>Book-Author</th>\n",
       "      <th>Year-Of-Publication</th>\n",
       "      <th>Publisher</th>\n",
       "      <th>Age</th>\n",
       "      <th>city</th>\n",
       "      <th>state</th>\n",
       "      <th>country</th>\n",
       "      <th>RN</th>\n",
       "    </tr>\n",
       "  </thead>\n",
       "  <tbody>\n",
       "    <tr>\n",
       "      <th>0</th>\n",
       "      <td>276747</td>\n",
       "      <td>1885408226</td>\n",
       "      <td>7</td>\n",
       "      <td>The Golden Rule of Schmoozing</td>\n",
       "      <td>Aye Jaye</td>\n",
       "      <td>1998</td>\n",
       "      <td>Listen &amp;amp; Live Audio</td>\n",
       "      <td>25.0</td>\n",
       "      <td>iowa city</td>\n",
       "      <td>iowa</td>\n",
       "      <td>usa</td>\n",
       "      <td>5</td>\n",
       "    </tr>\n",
       "    <tr>\n",
       "      <th>1</th>\n",
       "      <td>276762</td>\n",
       "      <td>N3453124715</td>\n",
       "      <td>4</td>\n",
       "      <td>None</td>\n",
       "      <td>None</td>\n",
       "      <td>None</td>\n",
       "      <td>None</td>\n",
       "      <td>25.0</td>\n",
       "      <td>duisburg</td>\n",
       "      <td>nordrhein-westfalen</td>\n",
       "      <td>germany</td>\n",
       "      <td>4</td>\n",
       "    </tr>\n",
       "    <tr>\n",
       "      <th>2</th>\n",
       "      <td>276772</td>\n",
       "      <td>3596151465</td>\n",
       "      <td>10</td>\n",
       "      <td>Henry der Held.</td>\n",
       "      <td>Roddy Doyle</td>\n",
       "      <td>2001</td>\n",
       "      <td>Fischer (Tb.), Frankfurt</td>\n",
       "      <td>NaN</td>\n",
       "      <td>bonn</td>\n",
       "      <td>nordrhein-westfalen</td>\n",
       "      <td>germany</td>\n",
       "      <td>3</td>\n",
       "    </tr>\n",
       "    <tr>\n",
       "      <th>3</th>\n",
       "      <td>276786</td>\n",
       "      <td>8478442588</td>\n",
       "      <td>6</td>\n",
       "      <td>El Elogio de La Sombra</td>\n",
       "      <td>Tanazaki</td>\n",
       "      <td>1998</td>\n",
       "      <td>Siruela</td>\n",
       "      <td>34.0</td>\n",
       "      <td>madrid</td>\n",
       "      <td>madrid</td>\n",
       "      <td>spain</td>\n",
       "      <td>4</td>\n",
       "    </tr>\n",
       "    <tr>\n",
       "      <th>4</th>\n",
       "      <td>276788</td>\n",
       "      <td>055310666X</td>\n",
       "      <td>10</td>\n",
       "      <td>False Memory</td>\n",
       "      <td>Dean R. Koontz</td>\n",
       "      <td>1999</td>\n",
       "      <td>Bantam Books</td>\n",
       "      <td>NaN</td>\n",
       "      <td>mentone</td>\n",
       "      <td>california</td>\n",
       "      <td>usa</td>\n",
       "      <td>3</td>\n",
       "    </tr>\n",
       "  </tbody>\n",
       "</table>\n",
       "</div>"
      ],
      "text/plain": [
       "   User-ID         ISBN  Book-Rating                     Book-Title  \\\n",
       "0   276747   1885408226            7  The Golden Rule of Schmoozing   \n",
       "1   276762  N3453124715            4                           None   \n",
       "2   276772   3596151465           10                Henry der Held.   \n",
       "3   276786   8478442588            6         El Elogio de La Sombra   \n",
       "4   276788   055310666X           10                   False Memory   \n",
       "\n",
       "      Book-Author Year-Of-Publication                 Publisher   Age  \\\n",
       "0        Aye Jaye                1998   Listen &amp; Live Audio  25.0   \n",
       "1            None                None                      None  25.0   \n",
       "2     Roddy Doyle                2001  Fischer (Tb.), Frankfurt   NaN   \n",
       "3        Tanazaki                1998                   Siruela  34.0   \n",
       "4  Dean R. Koontz                1999              Bantam Books   NaN   \n",
       "\n",
       "        city                 state   country  RN  \n",
       "0  iowa city                  iowa       usa   5  \n",
       "1   duisburg   nordrhein-westfalen   germany   4  \n",
       "2       bonn   nordrhein-westfalen   germany   3  \n",
       "3     madrid                madrid     spain   4  \n",
       "4    mentone            california       usa   3  "
      ]
     },
     "execution_count": 4,
     "metadata": {},
     "output_type": "execute_result"
    }
   ],
   "source": [
    "#---- Dados de teste\n",
    "\n",
    "df_test = pd.read_parquet('03-data/02-processed/02-test_data.parquet')\n",
    "\n",
    "df_test.head()"
   ]
  },
  {
   "cell_type": "code",
   "execution_count": 5,
   "id": "1fcee8c7-286e-4045-8ec2-765963491577",
   "metadata": {},
   "outputs": [
    {
     "name": "stdout",
     "output_type": "stream",
     "text": [
      "<class 'pandas.core.frame.DataFrame'>\n",
      "RangeIndex: 22568 entries, 0 to 22567\n",
      "Data columns (total 12 columns):\n",
      " #   Column               Non-Null Count  Dtype  \n",
      "---  ------               --------------  -----  \n",
      " 0   User-ID              22568 non-null  int64  \n",
      " 1   ISBN                 22568 non-null  object \n",
      " 2   Book-Rating          22568 non-null  int64  \n",
      " 3   Book-Title           18886 non-null  object \n",
      " 4   Book-Author          18886 non-null  object \n",
      " 5   Year-Of-Publication  18886 non-null  object \n",
      " 6   Publisher            18886 non-null  object \n",
      " 7   Age                  15357 non-null  float64\n",
      " 8   city                 22568 non-null  object \n",
      " 9   state                22568 non-null  object \n",
      " 10  country              22568 non-null  object \n",
      " 11  RN                   22568 non-null  int64  \n",
      "dtypes: float64(1), int64(3), object(8)\n",
      "memory usage: 2.1+ MB\n"
     ]
    }
   ],
   "source": [
    "df_test.info()"
   ]
  },
  {
   "cell_type": "code",
   "execution_count": 6,
   "id": "19d3c3af-0778-484a-b5e3-97fb0cc63668",
   "metadata": {},
   "outputs": [
    {
     "data": {
      "text/html": [
       "<div>\n",
       "<style scoped>\n",
       "    .dataframe tbody tr th:only-of-type {\n",
       "        vertical-align: middle;\n",
       "    }\n",
       "\n",
       "    .dataframe tbody tr th {\n",
       "        vertical-align: top;\n",
       "    }\n",
       "\n",
       "    .dataframe thead th {\n",
       "        text-align: right;\n",
       "    }\n",
       "</style>\n",
       "<table border=\"1\" class=\"dataframe\">\n",
       "  <thead>\n",
       "    <tr style=\"text-align: right;\">\n",
       "      <th></th>\n",
       "      <th>User-ID</th>\n",
       "      <th>ISBN</th>\n",
       "      <th>Book-Rating</th>\n",
       "      <th>Book-Title</th>\n",
       "      <th>Book-Author</th>\n",
       "      <th>Year-Of-Publication</th>\n",
       "      <th>Publisher</th>\n",
       "      <th>Age</th>\n",
       "      <th>city</th>\n",
       "      <th>state</th>\n",
       "      <th>country</th>\n",
       "      <th>RN</th>\n",
       "      <th>USER_ID_CAT</th>\n",
       "      <th>IBSN_ID_CAT</th>\n",
       "      <th>USER_ID_INT</th>\n",
       "      <th>ISBN_ID_INT</th>\n",
       "    </tr>\n",
       "  </thead>\n",
       "  <tbody>\n",
       "    <tr>\n",
       "      <th>0</th>\n",
       "      <td>276747</td>\n",
       "      <td>0060517794</td>\n",
       "      <td>9</td>\n",
       "      <td>Little Altars Everywhere</td>\n",
       "      <td>Rebecca Wells</td>\n",
       "      <td>2003</td>\n",
       "      <td>HarperTorch</td>\n",
       "      <td>25.0</td>\n",
       "      <td>iowa city</td>\n",
       "      <td>iowa</td>\n",
       "      <td>usa</td>\n",
       "      <td>1</td>\n",
       "      <td>22404</td>\n",
       "      <td>3844</td>\n",
       "      <td>1</td>\n",
       "      <td>1</td>\n",
       "    </tr>\n",
       "    <tr>\n",
       "      <th>1</th>\n",
       "      <td>276747</td>\n",
       "      <td>0671537458</td>\n",
       "      <td>9</td>\n",
       "      <td>Waiting to Exhale</td>\n",
       "      <td>Terry McMillan</td>\n",
       "      <td>1995</td>\n",
       "      <td>Pocket</td>\n",
       "      <td>25.0</td>\n",
       "      <td>iowa city</td>\n",
       "      <td>iowa</td>\n",
       "      <td>usa</td>\n",
       "      <td>2</td>\n",
       "      <td>22404</td>\n",
       "      <td>78067</td>\n",
       "      <td>1</td>\n",
       "      <td>2</td>\n",
       "    </tr>\n",
       "    <tr>\n",
       "      <th>2</th>\n",
       "      <td>276747</td>\n",
       "      <td>0679776818</td>\n",
       "      <td>8</td>\n",
       "      <td>Birdsong: A Novel of Love and War</td>\n",
       "      <td>Sebastian Faulks</td>\n",
       "      <td>1997</td>\n",
       "      <td>Vintage Books USA</td>\n",
       "      <td>25.0</td>\n",
       "      <td>iowa city</td>\n",
       "      <td>iowa</td>\n",
       "      <td>usa</td>\n",
       "      <td>3</td>\n",
       "      <td>22404</td>\n",
       "      <td>83361</td>\n",
       "      <td>1</td>\n",
       "      <td>3</td>\n",
       "    </tr>\n",
       "    <tr>\n",
       "      <th>3</th>\n",
       "      <td>276747</td>\n",
       "      <td>0943066433</td>\n",
       "      <td>7</td>\n",
       "      <td>How to Deal With Difficult People</td>\n",
       "      <td>Rick Brinkman</td>\n",
       "      <td>1995</td>\n",
       "      <td>Careertrack Inc.</td>\n",
       "      <td>25.0</td>\n",
       "      <td>iowa city</td>\n",
       "      <td>iowa</td>\n",
       "      <td>usa</td>\n",
       "      <td>4</td>\n",
       "      <td>22404</td>\n",
       "      <td>118092</td>\n",
       "      <td>1</td>\n",
       "      <td>4</td>\n",
       "    </tr>\n",
       "    <tr>\n",
       "      <th>4</th>\n",
       "      <td>276762</td>\n",
       "      <td>0380711524</td>\n",
       "      <td>5</td>\n",
       "      <td>See Jane Run</td>\n",
       "      <td>Joy Fielding</td>\n",
       "      <td>1992</td>\n",
       "      <td>Avon</td>\n",
       "      <td>25.0</td>\n",
       "      <td>duisburg</td>\n",
       "      <td>nordrhein-westfalen</td>\n",
       "      <td>germany</td>\n",
       "      <td>1</td>\n",
       "      <td>22405</td>\n",
       "      <td>37575</td>\n",
       "      <td>2</td>\n",
       "      <td>5</td>\n",
       "    </tr>\n",
       "  </tbody>\n",
       "</table>\n",
       "</div>"
      ],
      "text/plain": [
       "   User-ID        ISBN  Book-Rating                         Book-Title  \\\n",
       "0   276747  0060517794            9           Little Altars Everywhere   \n",
       "1   276747  0671537458            9                  Waiting to Exhale   \n",
       "2   276747  0679776818            8  Birdsong: A Novel of Love and War   \n",
       "3   276747  0943066433            7  How to Deal With Difficult People   \n",
       "4   276762  0380711524            5                       See Jane Run   \n",
       "\n",
       "        Book-Author Year-Of-Publication          Publisher   Age       city  \\\n",
       "0     Rebecca Wells                2003        HarperTorch  25.0  iowa city   \n",
       "1    Terry McMillan                1995             Pocket  25.0  iowa city   \n",
       "2  Sebastian Faulks                1997  Vintage Books USA  25.0  iowa city   \n",
       "3     Rick Brinkman                1995   Careertrack Inc.  25.0  iowa city   \n",
       "4      Joy Fielding                1992               Avon  25.0   duisburg   \n",
       "\n",
       "                  state   country  RN  USER_ID_CAT  IBSN_ID_CAT  USER_ID_INT  \\\n",
       "0                  iowa       usa   1        22404         3844            1   \n",
       "1                  iowa       usa   2        22404        78067            1   \n",
       "2                  iowa       usa   3        22404        83361            1   \n",
       "3                  iowa       usa   4        22404       118092            1   \n",
       "4   nordrhein-westfalen   germany   1        22405        37575            2   \n",
       "\n",
       "   ISBN_ID_INT  \n",
       "0            1  \n",
       "1            2  \n",
       "2            3  \n",
       "3            4  \n",
       "4            5  "
      ]
     },
     "execution_count": 6,
     "metadata": {},
     "output_type": "execute_result"
    }
   ],
   "source": [
    "#---- Dados de treino\n",
    "\n",
    "df_train = pd.read_parquet('03-data/02-processed/05-ALS-df-train-data.parquet')\n",
    "\n",
    "df_train.head()"
   ]
  },
  {
   "cell_type": "code",
   "execution_count": 7,
   "id": "87a7da13-e436-48ff-a71d-c7df249a6b33",
   "metadata": {},
   "outputs": [],
   "source": [
    "# #---- De-para's:\n",
    "\n",
    "# de_para_isbn = pd.read_parquet('03-data/02-processed/05-ALS-DE-PARA-ISBN.parquet')\n",
    "# de_para_user = pd.read_parquet('03-data/02-processed/06-ALS-DE-PARA-USER.parquet')"
   ]
  },
  {
   "cell_type": "code",
   "execution_count": 8,
   "id": "2fa6de53-e224-4f38-828e-b7fd221a3970",
   "metadata": {},
   "outputs": [],
   "source": [
    "# #---- Full data:\n",
    "\n",
    "# df_full = pd.read_parquet('03-data/02-processed/03-full_data.parquet')\n",
    "\n",
    "# df_full.head()"
   ]
  },
  {
   "cell_type": "markdown",
   "id": "defd2953-ac2c-480e-bce8-4ff0db1d7f22",
   "metadata": {},
   "source": [
    "## 2. Modelagem"
   ]
  },
  {
   "cell_type": "code",
   "execution_count": 9,
   "id": "0daad1dc-d43a-4bfe-b478-adae8bcc2977",
   "metadata": {},
   "outputs": [
    {
     "name": "stderr",
     "output_type": "stream",
     "text": [
      "/home/rafa/Documentos/github/book-recommendation/venv/lib/python3.10/site-packages/implicit/cpu/als.py:95: RuntimeWarning: OpenBLAS is configured to use 8 threads. It is highly recommended to disable its internal threadpool by setting the environment variable 'OPENBLAS_NUM_THREADS=1' or by calling 'threadpoolctl.threadpool_limits(1, \"blas\")'. Having OpenBLAS use a threadpool can lead to severe performance issues here.\n",
      "  check_blas_config()\n"
     ]
    },
    {
     "data": {
      "text/plain": [
       "<implicit.cpu.als.AlternatingLeastSquares at 0x7d3538bb1f90>"
      ]
     },
     "execution_count": 9,
     "metadata": {},
     "output_type": "execute_result"
    }
   ],
   "source": [
    "model = als.AlternatingLeastSquares(factors = 30)\n",
    "\n",
    "model"
   ]
  },
  {
   "cell_type": "code",
   "execution_count": 10,
   "id": "3bbe802b-58ce-44e2-9c71-c20c2d57ecae",
   "metadata": {
    "scrolled": true
   },
   "outputs": [
    {
     "name": "stderr",
     "output_type": "stream",
     "text": [
      "100%|███████████████████████████████████████████| 15/15 [02:34<00:00, 10.32s/it]\n"
     ]
    }
   ],
   "source": [
    "model.fit(train_data)"
   ]
  },
  {
   "cell_type": "markdown",
   "id": "06a39be7-e3ea-466a-8d99-54483c9ed54e",
   "metadata": {},
   "source": [
    "## 3. Recomendações"
   ]
  },
  {
   "cell_type": "markdown",
   "id": "272fd3bc-3465-49f0-8bf9-810a8f98bdee",
   "metadata": {},
   "source": [
    "### 3.1. Nível usuário"
   ]
  },
  {
   "cell_type": "code",
   "execution_count": 11,
   "id": "63772f12-abdf-43f8-939c-fa0e630112a1",
   "metadata": {},
   "outputs": [
    {
     "data": {
      "text/plain": [
       "14098"
      ]
     },
     "execution_count": 11,
     "metadata": {},
     "output_type": "execute_result"
    }
   ],
   "source": [
    "user_id_rec = 171011\n",
    "\n",
    "de_para_user_id_rec = df_train.query(f'`User-ID` == {user_id_rec}')['USER_ID_INT'].iloc[0]\n",
    "\n",
    "de_para_user_id_rec"
   ]
  },
  {
   "cell_type": "code",
   "execution_count": 12,
   "id": "bcc5ab51-e340-429a-8c3b-cf5ec49533cf",
   "metadata": {},
   "outputs": [
    {
     "data": {
      "text/html": [
       "<div>\n",
       "<style scoped>\n",
       "    .dataframe tbody tr th:only-of-type {\n",
       "        vertical-align: middle;\n",
       "    }\n",
       "\n",
       "    .dataframe tbody tr th {\n",
       "        vertical-align: top;\n",
       "    }\n",
       "\n",
       "    .dataframe thead th {\n",
       "        text-align: right;\n",
       "    }\n",
       "</style>\n",
       "<table border=\"1\" class=\"dataframe\">\n",
       "  <thead>\n",
       "    <tr style=\"text-align: right;\">\n",
       "      <th></th>\n",
       "      <th>ISBN</th>\n",
       "      <th>Book-Title</th>\n",
       "      <th>Book-Rating</th>\n",
       "    </tr>\n",
       "  </thead>\n",
       "  <tbody>\n",
       "    <tr>\n",
       "      <th>221525</th>\n",
       "      <td>0439064872</td>\n",
       "      <td>Harry Potter and the Chamber of Secrets (Book 2)</td>\n",
       "      <td>10</td>\n",
       "    </tr>\n",
       "    <tr>\n",
       "      <th>221526</th>\n",
       "      <td>0439136369</td>\n",
       "      <td>Harry Potter and the Prisoner of Azkaban (Book 3)</td>\n",
       "      <td>10</td>\n",
       "    </tr>\n",
       "    <tr>\n",
       "      <th>221527</th>\n",
       "      <td>0439139597</td>\n",
       "      <td>Harry Potter and the Goblet of Fire (Book 4)</td>\n",
       "      <td>10</td>\n",
       "    </tr>\n",
       "    <tr>\n",
       "      <th>221528</th>\n",
       "      <td>043935806X</td>\n",
       "      <td>Harry Potter and the Order of the Phoenix (Boo...</td>\n",
       "      <td>10</td>\n",
       "    </tr>\n",
       "    <tr>\n",
       "      <th>221529</th>\n",
       "      <td>043936213X</td>\n",
       "      <td>Harry Potter and the Sorcerer's Stone (Book 1)</td>\n",
       "      <td>10</td>\n",
       "    </tr>\n",
       "    <tr>\n",
       "      <th>221524</th>\n",
       "      <td>0140386335</td>\n",
       "      <td>The Neverending Story</td>\n",
       "      <td>9</td>\n",
       "    </tr>\n",
       "  </tbody>\n",
       "</table>\n",
       "</div>"
      ],
      "text/plain": [
       "              ISBN                                         Book-Title  \\\n",
       "221525  0439064872   Harry Potter and the Chamber of Secrets (Book 2)   \n",
       "221526  0439136369  Harry Potter and the Prisoner of Azkaban (Book 3)   \n",
       "221527  0439139597       Harry Potter and the Goblet of Fire (Book 4)   \n",
       "221528  043935806X  Harry Potter and the Order of the Phoenix (Boo...   \n",
       "221529  043936213X     Harry Potter and the Sorcerer's Stone (Book 1)   \n",
       "221524  0140386335                              The Neverending Story   \n",
       "\n",
       "        Book-Rating  \n",
       "221525           10  \n",
       "221526           10  \n",
       "221527           10  \n",
       "221528           10  \n",
       "221529           10  \n",
       "221524            9  "
      ]
     },
     "execution_count": 12,
     "metadata": {},
     "output_type": "execute_result"
    }
   ],
   "source": [
    "#---- TOP 10 livros mais bem avaliados pelo usuário\n",
    "\n",
    "df_train\\\n",
    "    .query(f'`User-ID` == {user_id_rec}')\\\n",
    "    .query(f'`Book-Rating` != 0')\\\n",
    "    .sort_values(by = 'Book-Rating', ascending = False)[['ISBN', 'Book-Title', 'Book-Rating']]\\\n",
    "    .drop_duplicates()\\\n",
    "    .head(10)"
   ]
  },
  {
   "cell_type": "code",
   "execution_count": 13,
   "id": "ad2b6b3e-bdeb-41d6-abcc-a3ebf09685a4",
   "metadata": {},
   "outputs": [
    {
     "data": {
      "text/plain": [
       "['The Neverending Story',\n",
       " 'Harry Potter and the Chamber of Secrets (Book 2)',\n",
       " 'Harry Potter and the Prisoner of Azkaban (Book 3)',\n",
       " 'Harry Potter and the Goblet of Fire (Book 4)',\n",
       " 'Harry Potter and the Order of the Phoenix (Book 5)',\n",
       " \"Harry Potter and the Sorcerer's Stone (Book 1)\"]"
      ]
     },
     "execution_count": 13,
     "metadata": {},
     "output_type": "execute_result"
    }
   ],
   "source": [
    "#---- Lista de ISBN que o usuário já leu\n",
    "\n",
    "readed_isbn_by_user = df_train\\\n",
    "    .query(f'`User-ID` == {user_id_rec}')['Book-Title']\\\n",
    "    .unique()\\\n",
    "    .tolist()\n",
    "\n",
    "readed_isbn_by_user"
   ]
  },
  {
   "cell_type": "code",
   "execution_count": 14,
   "id": "3395b123-e47c-4012-9582-802e3cab2d74",
   "metadata": {},
   "outputs": [],
   "source": [
    "not_recommended_list_to_user = df_train\\\n",
    "    .query(f'`Book-Title`.isin({readed_isbn_by_user})')['ISBN_ID_INT']\\\n",
    "    .unique()\\\n",
    "    .tolist()"
   ]
  },
  {
   "cell_type": "code",
   "execution_count": 15,
   "id": "bf2660f1-46c4-4fe1-8ac2-004f530067ba",
   "metadata": {},
   "outputs": [
    {
     "name": "stdout",
     "output_type": "stream",
     "text": [
      "Recomendações: (array([ 1623,   810,  1478,  2081,  2529, 19063,  1851,  5298,  5404,\n",
      "         831], dtype=int32), array([0.7069525 , 0.32919478, 0.3209007 , 0.27279955, 0.2562572 ,\n",
      "       0.2552646 , 0.21154246, 0.19130623, 0.1830472 , 0.17414919],\n",
      "      dtype=float32))\n"
     ]
    },
    {
     "data": {
      "text/plain": [
       "array(['The Hobbit : The Enchanting Prelude to The Lord of the Rings',\n",
       "       None, 'The Fellowship of the Ring (The Lord of the Rings, Part 1)',\n",
       "       \"Harry Potter and the Sorcerer's Stone (Harry Potter (Paperback))\",\n",
       "       'American Gods', 'The Two Towers (The Lord of the Rings, Part 2)',\n",
       "       'The Bad Beginning (A Series of Unfortunate Events, Book 1)',\n",
       "       'Red Dragon',\n",
       "       'The Reptile Room (A Series of Unfortunate Events, Book 2)',\n",
       "       'The Return of the King (The Lord of the Rings, Part 3)'],\n",
       "      dtype=object)"
      ]
     },
     "execution_count": 15,
     "metadata": {},
     "output_type": "execute_result"
    }
   ],
   "source": [
    "#---- Top10 recomendações para o usuário\n",
    "\n",
    "recommendations = model.recommend(de_para_user_id_rec,\n",
    "                                  train_data[de_para_user_id_rec], \n",
    "                                  filter_already_liked_items = True,\n",
    "                                  N = 10,\n",
    "                                  filter_items = not_recommended_list_to_user)\n",
    "\n",
    "print(f'Recomendações: {recommendations}')\n",
    "\n",
    "list_recommendations = recommendations[0].tolist()\n",
    "\n",
    "#---- De-para das recomendações para ISBN\n",
    "\n",
    "isbn_recommendations = df_train\\\n",
    "    .query(f'ISBN_ID_INT.isin({list_recommendations})')['ISBN']\\\n",
    "    .unique()\\\n",
    "    .tolist()\n",
    "\n",
    "df_train\\\n",
    "    .pipe(filter_list_ordered, \n",
    "          col = 'ISBN', \n",
    "          list_filter = isbn_recommendations)\\\n",
    "    [['ISBN', 'Book-Title']]\\\n",
    "    .drop_duplicates()['Book-Title'].unique()"
   ]
  },
  {
   "cell_type": "code",
   "execution_count": 19,
   "id": "f00403e7-332d-45d3-992c-0c8b67c3f679",
   "metadata": {},
   "outputs": [
    {
     "data": {
      "text/html": [
       "<div>\n",
       "<style scoped>\n",
       "    .dataframe tbody tr th:only-of-type {\n",
       "        vertical-align: middle;\n",
       "    }\n",
       "\n",
       "    .dataframe tbody tr th {\n",
       "        vertical-align: top;\n",
       "    }\n",
       "\n",
       "    .dataframe thead th {\n",
       "        text-align: right;\n",
       "    }\n",
       "</style>\n",
       "<table border=\"1\" class=\"dataframe\">\n",
       "  <thead>\n",
       "    <tr style=\"text-align: right;\">\n",
       "      <th></th>\n",
       "      <th>User-ID</th>\n",
       "      <th>ISBN</th>\n",
       "      <th>Book-Rating</th>\n",
       "      <th>Book-Title</th>\n",
       "      <th>Book-Author</th>\n",
       "      <th>Year-Of-Publication</th>\n",
       "      <th>Publisher</th>\n",
       "      <th>Age</th>\n",
       "      <th>city</th>\n",
       "      <th>state</th>\n",
       "      <th>country</th>\n",
       "      <th>RN</th>\n",
       "    </tr>\n",
       "  </thead>\n",
       "  <tbody>\n",
       "    <tr>\n",
       "      <th>14097</th>\n",
       "      <td>171011</td>\n",
       "      <td>0590032747</td>\n",
       "      <td>9</td>\n",
       "      <td>Why I'm Afraid of Bees</td>\n",
       "      <td>R. L. Stine</td>\n",
       "      <td>1999</td>\n",
       "      <td>Apple</td>\n",
       "      <td>13.0</td>\n",
       "      <td>pipe creek</td>\n",
       "      <td>texas</td>\n",
       "      <td>usa</td>\n",
       "      <td>7</td>\n",
       "    </tr>\n",
       "  </tbody>\n",
       "</table>\n",
       "</div>"
      ],
      "text/plain": [
       "       User-ID        ISBN  Book-Rating              Book-Title  Book-Author  \\\n",
       "14097   171011  0590032747            9  Why I'm Afraid of Bees  R. L. Stine   \n",
       "\n",
       "      Year-Of-Publication Publisher   Age        city   state country  RN  \n",
       "14097                1999     Apple  13.0  pipe creek   texas     usa   7  "
      ]
     },
     "execution_count": 19,
     "metadata": {},
     "output_type": "execute_result"
    }
   ],
   "source": [
    "df_test\\\n",
    "    .query(f'`User-ID` == {user_id_rec}')"
   ]
  },
  {
   "cell_type": "code",
   "execution_count": null,
   "id": "eb40f651-9636-4517-8d94-5f2ee0a4bfd0",
   "metadata": {},
   "outputs": [],
   "source": [
    "#---- Fazer a avaliação quantitativa, pois a amostra é viesada"
   ]
  },
  {
   "cell_type": "markdown",
   "id": "d1f63b5b-545d-4c93-8edd-ff7d68a7fb43",
   "metadata": {},
   "source": [
    "### 3.2. Nível item (PAREI AQUI: ADAPTAR PARA O NOVO DATAFRAME)"
   ]
  },
  {
   "cell_type": "code",
   "execution_count": 16,
   "id": "1c55a498-8538-411c-bd38-51272db09454",
   "metadata": {},
   "outputs": [
    {
     "ename": "NameError",
     "evalue": "name 'de_para_isbn' is not defined",
     "output_type": "error",
     "traceback": [
      "\u001b[0;31m---------------------------------------------------------------------------\u001b[0m",
      "\u001b[0;31mNameError\u001b[0m                                 Traceback (most recent call last)",
      "Cell \u001b[0;32mIn[16], line 2\u001b[0m\n\u001b[1;32m      1\u001b[0m isnb_rec \u001b[38;5;241m=\u001b[39m \u001b[38;5;124m'\u001b[39m\u001b[38;5;124m043935806X\u001b[39m\u001b[38;5;124m'\u001b[39m\n\u001b[0;32m----> 2\u001b[0m de_para_isbn_rec \u001b[38;5;241m=\u001b[39m \u001b[43mde_para_isbn\u001b[49m\u001b[38;5;241m.\u001b[39mquery(\u001b[38;5;124mf\u001b[39m\u001b[38;5;124m'\u001b[39m\u001b[38;5;124m`ISBN` == \u001b[39m\u001b[38;5;124m\"\u001b[39m\u001b[38;5;132;01m{\u001b[39;00misnb_rec\u001b[38;5;132;01m}\u001b[39;00m\u001b[38;5;124m\"\u001b[39m\u001b[38;5;124m'\u001b[39m)[\u001b[38;5;124m'\u001b[39m\u001b[38;5;124mISBN_ID_INT\u001b[39m\u001b[38;5;124m'\u001b[39m]\u001b[38;5;241m.\u001b[39miloc[\u001b[38;5;241m0\u001b[39m]\n\u001b[1;32m      3\u001b[0m de_para_isbn_rec\n",
      "\u001b[0;31mNameError\u001b[0m: name 'de_para_isbn' is not defined"
     ]
    }
   ],
   "source": [
    "isnb_rec = '043935806X'\n",
    "de_para_isbn_rec = de_para_isbn.query(f'`ISBN` == \"{isnb_rec}\"')['ISBN_ID_INT'].iloc[0]\n",
    "de_para_isbn_rec"
   ]
  },
  {
   "cell_type": "code",
   "execution_count": null,
   "id": "931dcbda-1c05-4a01-a6cb-2db90d82c124",
   "metadata": {},
   "outputs": [],
   "source": [
    "#---- Vamos recomendar outros livros a partir desse livro:\n",
    "\n",
    "df_full\\\n",
    "    .query(f'`ISBN` == \"{isnb_rec}\"')['Book-Title']\\\n",
    "    .unique()[0]"
   ]
  },
  {
   "cell_type": "code",
   "execution_count": null,
   "id": "25724825-39ca-40d6-b39f-626f09fecc50",
   "metadata": {},
   "outputs": [],
   "source": [
    "#---- Top10 recomendação para um livro:\n",
    "\n",
    "recommendations = model.similar_items(itemid = de_para_isbn_rec)\n",
    "\n",
    "list_recommendations = recommendations[0].tolist()\n",
    "\n",
    "#---- De-para das recomendações para ISBN\n",
    "\n",
    "isbn_recommendations = de_para_isbn\\\n",
    "    .query(f'ISBN_ID_INT.isin({list_recommendations})')['ISBN']\\\n",
    "    .tolist()\n",
    "\n",
    "df_full\\\n",
    "    .pipe(filter_list_ordered, \n",
    "          col = 'ISBN', \n",
    "          list_filter = isbn_recommendations)\\\n",
    "    [['ISBN', 'Book-Title']]\\\n",
    "    .drop_duplicates()"
   ]
  },
  {
   "cell_type": "code",
   "execution_count": null,
   "id": "0dc8a756-053d-49a6-8ecb-88599ad7bab1",
   "metadata": {},
   "outputs": [],
   "source": [
    "test = pd.DataFrame.sparse.from_spmatrix(train_data)\n",
    "\n",
    "test"
   ]
  },
  {
   "cell_type": "code",
   "execution_count": null,
   "id": "1bc98d23-9a96-4a7f-b317-9be7f1b46ed4",
   "metadata": {},
   "outputs": [],
   "source": [
    "#---------- PAREI AQUI:\n",
    "\n",
    "# - Fazer a parte do item\n",
    "# - Ler sobre o ALS"
   ]
  },
  {
   "cell_type": "markdown",
   "id": "b1681ac7-2282-4e0a-bcd4-f2b8f7d9ec5c",
   "metadata": {},
   "source": [
    "# TO-DO's\n",
    "\n",
    "- Ler um pouco mais sobre a teoria do ALS\n",
    "- Criar um código que exclua o primeiro item da recomendação do usuário"
   ]
  },
  {
   "cell_type": "markdown",
   "id": "d32be969-11eb-4a50-94a8-513469847d7a",
   "metadata": {},
   "source": [
    "# Validações"
   ]
  },
  {
   "cell_type": "code",
   "execution_count": null,
   "id": "1569e068-0507-459d-b371-55334394d773",
   "metadata": {},
   "outputs": [],
   "source": [
    "df_train['FLAG_HP'] = np.where(df_train['Book-Title'].str.contains('Potter'), 1, 0)"
   ]
  },
  {
   "cell_type": "code",
   "execution_count": null,
   "id": "1d580b91-35cf-49e7-9903-70d410b6fa67",
   "metadata": {},
   "outputs": [],
   "source": [
    "test = df_train[['User-ID', 'FLAG_HP']]\\\n",
    "    .value_counts()\\\n",
    "    .reset_index()\\\n",
    "    .sort_values(by = ['User-ID', 'FLAG_HP'])\n",
    "\n",
    "test['percent'] = test['count'] / test.groupby('User-ID')['count'].transform('sum') * 100\n",
    "\n",
    "test\\\n",
    "    .sort_values(by = 'percent', ascending = False)\\\n",
    "    .query('FLAG_HP == 1 & count >= 3')\\\n",
    "    .head(20)"
   ]
  },
  {
   "cell_type": "code",
   "execution_count": null,
   "id": "194d9904-2702-4ffa-a6cd-fbc2f7eea79d",
   "metadata": {},
   "outputs": [],
   "source": [
    "df_train\\\n",
    "    .query('`User-ID` == 252829')\\\n",
    "    .sort_values(by = 'Book-Title')"
   ]
  },
  {
   "cell_type": "code",
   "execution_count": null,
   "id": "b21ae3ba-3c89-4b60-969f-79910fe5b91b",
   "metadata": {},
   "outputs": [],
   "source": []
  }
 ],
 "metadata": {
  "kernelspec": {
   "display_name": "Python 3 (ipykernel)",
   "language": "python",
   "name": "python3"
  },
  "language_info": {
   "codemirror_mode": {
    "name": "ipython",
    "version": 3
   },
   "file_extension": ".py",
   "mimetype": "text/x-python",
   "name": "python",
   "nbconvert_exporter": "python",
   "pygments_lexer": "ipython3",
   "version": "3.10.12"
  }
 },
 "nbformat": 4,
 "nbformat_minor": 5
}
