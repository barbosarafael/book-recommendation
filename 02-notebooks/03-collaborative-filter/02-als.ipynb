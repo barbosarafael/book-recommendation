{
 "cells": [
  {
   "cell_type": "markdown",
   "id": "0d0c88a0-a174-428c-b8d1-16a230cf2c10",
   "metadata": {},
   "source": [
    "## ALS"
   ]
  },
  {
   "cell_type": "markdown",
   "id": "0b0895c2-1fd3-454c-a649-8b65e9de0718",
   "metadata": {},
   "source": [
    "## 0. Setup"
   ]
  },
  {
   "cell_type": "code",
   "execution_count": 48,
   "id": "2f018bd7-7e50-47f0-bc33-ff9ebd827172",
   "metadata": {},
   "outputs": [
    {
     "name": "stdout",
     "output_type": "stream",
     "text": [
      "time: 226 µs (started: 2024-03-25 21:29:29 -03:00)\n"
     ]
    }
   ],
   "source": [
    "%load_ext autotime"
   ]
  },
  {
   "cell_type": "code",
   "execution_count": 1,
   "id": "f8e33445-0ade-4247-8b79-366f0334d705",
   "metadata": {},
   "outputs": [
    {
     "name": "stderr",
     "output_type": "stream",
     "text": [
      "/home/rafa/Documentos/github/book-recommendation/venv/lib/python3.10/site-packages/tqdm/auto.py:21: TqdmWarning: IProgress not found. Please update jupyter and ipywidgets. See https://ipywidgets.readthedocs.io/en/stable/user_install.html\n",
      "  from .autonotebook import tqdm as notebook_tqdm\n"
     ]
    }
   ],
   "source": [
    "#---- Bibliotecas:\n",
    "\n",
    "# Análise e manipulação de dados:\n",
    "\n",
    "import pandas as pd\n",
    "import numpy as np\n",
    "\n",
    "# Visualização de dados:\n",
    "\n",
    "import plotly.io as pio\n",
    "import plotly.express as px\n",
    "\n",
    "# Manuseio nos dados\n",
    "\n",
    "from os import chdir\n",
    "\n",
    "# ALS\n",
    "\n",
    "from implicit import als"
   ]
  },
  {
   "cell_type": "code",
   "execution_count": 2,
   "id": "618182d6-1b39-419c-9565-f67895e2fdea",
   "metadata": {},
   "outputs": [],
   "source": [
    "#---- Mudando o diretório raiz para a pasta principal do projeto\n",
    "\n",
    "chdir('../../')\n",
    "\n",
    "#---- Template dos gráficos:\n",
    "\n",
    "pio.templates.default = \"plotly_white\"\n",
    "\n",
    "#---- Carregando as funções\n",
    "\n",
    "from functions import *"
   ]
  },
  {
   "cell_type": "markdown",
   "id": "9fbf7e14-c725-47fe-bf83-98e4fd5b3111",
   "metadata": {},
   "source": [
    "## 1. Extração dos dados"
   ]
  },
  {
   "cell_type": "code",
   "execution_count": 3,
   "id": "2758b971-880e-4de0-aa84-726fac4d4995",
   "metadata": {},
   "outputs": [
    {
     "data": {
      "text/plain": [
       "<22569x158236 sparse matrix of type '<class 'numpy.int64'>'\n",
       "\twith 346011 stored elements in Compressed Sparse Row format>"
      ]
     },
     "execution_count": 3,
     "metadata": {},
     "output_type": "execute_result"
    }
   ],
   "source": [
    "#---- Dados de treino\n",
    "\n",
    "train_data = load_sparse_csr('03-data/02-processed/04-ALS-train-data.npz')\n",
    "\n",
    "train_data"
   ]
  },
  {
   "cell_type": "code",
   "execution_count": 4,
   "id": "29e69a6c-126a-4255-90c6-83bf0b58b79b",
   "metadata": {},
   "outputs": [
    {
     "data": {
      "text/html": [
       "<div>\n",
       "<style scoped>\n",
       "    .dataframe tbody tr th:only-of-type {\n",
       "        vertical-align: middle;\n",
       "    }\n",
       "\n",
       "    .dataframe tbody tr th {\n",
       "        vertical-align: top;\n",
       "    }\n",
       "\n",
       "    .dataframe thead th {\n",
       "        text-align: right;\n",
       "    }\n",
       "</style>\n",
       "<table border=\"1\" class=\"dataframe\">\n",
       "  <thead>\n",
       "    <tr style=\"text-align: right;\">\n",
       "      <th></th>\n",
       "      <th>User-ID</th>\n",
       "      <th>ISBN</th>\n",
       "      <th>Book-Rating</th>\n",
       "      <th>Book-Title</th>\n",
       "      <th>Book-Author</th>\n",
       "      <th>Year-Of-Publication</th>\n",
       "      <th>Publisher</th>\n",
       "      <th>Age</th>\n",
       "      <th>city</th>\n",
       "      <th>state</th>\n",
       "      <th>country</th>\n",
       "      <th>RN</th>\n",
       "    </tr>\n",
       "  </thead>\n",
       "  <tbody>\n",
       "    <tr>\n",
       "      <th>0</th>\n",
       "      <td>276747</td>\n",
       "      <td>1885408226</td>\n",
       "      <td>7</td>\n",
       "      <td>The Golden Rule of Schmoozing</td>\n",
       "      <td>Aye Jaye</td>\n",
       "      <td>1998</td>\n",
       "      <td>Listen &amp;amp; Live Audio</td>\n",
       "      <td>25.0</td>\n",
       "      <td>iowa city</td>\n",
       "      <td>iowa</td>\n",
       "      <td>usa</td>\n",
       "      <td>5</td>\n",
       "    </tr>\n",
       "    <tr>\n",
       "      <th>1</th>\n",
       "      <td>276762</td>\n",
       "      <td>N3453124715</td>\n",
       "      <td>4</td>\n",
       "      <td>None</td>\n",
       "      <td>None</td>\n",
       "      <td>None</td>\n",
       "      <td>None</td>\n",
       "      <td>25.0</td>\n",
       "      <td>duisburg</td>\n",
       "      <td>nordrhein-westfalen</td>\n",
       "      <td>germany</td>\n",
       "      <td>4</td>\n",
       "    </tr>\n",
       "    <tr>\n",
       "      <th>2</th>\n",
       "      <td>276772</td>\n",
       "      <td>3596151465</td>\n",
       "      <td>10</td>\n",
       "      <td>Henry der Held.</td>\n",
       "      <td>Roddy Doyle</td>\n",
       "      <td>2001</td>\n",
       "      <td>Fischer (Tb.), Frankfurt</td>\n",
       "      <td>NaN</td>\n",
       "      <td>bonn</td>\n",
       "      <td>nordrhein-westfalen</td>\n",
       "      <td>germany</td>\n",
       "      <td>3</td>\n",
       "    </tr>\n",
       "    <tr>\n",
       "      <th>3</th>\n",
       "      <td>276786</td>\n",
       "      <td>8478442588</td>\n",
       "      <td>6</td>\n",
       "      <td>El Elogio de La Sombra</td>\n",
       "      <td>Tanazaki</td>\n",
       "      <td>1998</td>\n",
       "      <td>Siruela</td>\n",
       "      <td>34.0</td>\n",
       "      <td>madrid</td>\n",
       "      <td>madrid</td>\n",
       "      <td>spain</td>\n",
       "      <td>4</td>\n",
       "    </tr>\n",
       "    <tr>\n",
       "      <th>4</th>\n",
       "      <td>276788</td>\n",
       "      <td>055310666X</td>\n",
       "      <td>10</td>\n",
       "      <td>False Memory</td>\n",
       "      <td>Dean R. Koontz</td>\n",
       "      <td>1999</td>\n",
       "      <td>Bantam Books</td>\n",
       "      <td>NaN</td>\n",
       "      <td>mentone</td>\n",
       "      <td>california</td>\n",
       "      <td>usa</td>\n",
       "      <td>3</td>\n",
       "    </tr>\n",
       "  </tbody>\n",
       "</table>\n",
       "</div>"
      ],
      "text/plain": [
       "   User-ID         ISBN  Book-Rating                     Book-Title  \\\n",
       "0   276747   1885408226            7  The Golden Rule of Schmoozing   \n",
       "1   276762  N3453124715            4                           None   \n",
       "2   276772   3596151465           10                Henry der Held.   \n",
       "3   276786   8478442588            6         El Elogio de La Sombra   \n",
       "4   276788   055310666X           10                   False Memory   \n",
       "\n",
       "      Book-Author Year-Of-Publication                 Publisher   Age  \\\n",
       "0        Aye Jaye                1998   Listen &amp; Live Audio  25.0   \n",
       "1            None                None                      None  25.0   \n",
       "2     Roddy Doyle                2001  Fischer (Tb.), Frankfurt   NaN   \n",
       "3        Tanazaki                1998                   Siruela  34.0   \n",
       "4  Dean R. Koontz                1999              Bantam Books   NaN   \n",
       "\n",
       "        city                 state   country  RN  \n",
       "0  iowa city                  iowa       usa   5  \n",
       "1   duisburg   nordrhein-westfalen   germany   4  \n",
       "2       bonn   nordrhein-westfalen   germany   3  \n",
       "3     madrid                madrid     spain   4  \n",
       "4    mentone            california       usa   3  "
      ]
     },
     "execution_count": 4,
     "metadata": {},
     "output_type": "execute_result"
    }
   ],
   "source": [
    "#---- Dados de teste\n",
    "\n",
    "df_test = pd.read_parquet('03-data/02-processed/02-test_data.parquet')\n",
    "\n",
    "df_test.head()"
   ]
  },
  {
   "cell_type": "code",
   "execution_count": 5,
   "id": "1fcee8c7-286e-4045-8ec2-765963491577",
   "metadata": {},
   "outputs": [
    {
     "name": "stdout",
     "output_type": "stream",
     "text": [
      "<class 'pandas.core.frame.DataFrame'>\n",
      "RangeIndex: 22568 entries, 0 to 22567\n",
      "Data columns (total 12 columns):\n",
      " #   Column               Non-Null Count  Dtype  \n",
      "---  ------               --------------  -----  \n",
      " 0   User-ID              22568 non-null  int64  \n",
      " 1   ISBN                 22568 non-null  object \n",
      " 2   Book-Rating          22568 non-null  int64  \n",
      " 3   Book-Title           18886 non-null  object \n",
      " 4   Book-Author          18886 non-null  object \n",
      " 5   Year-Of-Publication  18886 non-null  object \n",
      " 6   Publisher            18886 non-null  object \n",
      " 7   Age                  15357 non-null  float64\n",
      " 8   city                 22568 non-null  object \n",
      " 9   state                22568 non-null  object \n",
      " 10  country              22568 non-null  object \n",
      " 11  RN                   22568 non-null  int64  \n",
      "dtypes: float64(1), int64(3), object(8)\n",
      "memory usage: 2.1+ MB\n"
     ]
    }
   ],
   "source": [
    "df_test.info()"
   ]
  },
  {
   "cell_type": "code",
   "execution_count": 6,
   "id": "19d3c3af-0778-484a-b5e3-97fb0cc63668",
   "metadata": {},
   "outputs": [
    {
     "data": {
      "text/html": [
       "<div>\n",
       "<style scoped>\n",
       "    .dataframe tbody tr th:only-of-type {\n",
       "        vertical-align: middle;\n",
       "    }\n",
       "\n",
       "    .dataframe tbody tr th {\n",
       "        vertical-align: top;\n",
       "    }\n",
       "\n",
       "    .dataframe thead th {\n",
       "        text-align: right;\n",
       "    }\n",
       "</style>\n",
       "<table border=\"1\" class=\"dataframe\">\n",
       "  <thead>\n",
       "    <tr style=\"text-align: right;\">\n",
       "      <th></th>\n",
       "      <th>User-ID</th>\n",
       "      <th>ISBN</th>\n",
       "      <th>Book-Rating</th>\n",
       "      <th>Book-Title</th>\n",
       "      <th>Book-Author</th>\n",
       "      <th>Year-Of-Publication</th>\n",
       "      <th>Publisher</th>\n",
       "      <th>Age</th>\n",
       "      <th>city</th>\n",
       "      <th>state</th>\n",
       "      <th>country</th>\n",
       "      <th>RN</th>\n",
       "      <th>USER_ID_CAT</th>\n",
       "      <th>IBSN_ID_CAT</th>\n",
       "      <th>USER_ID_INT</th>\n",
       "      <th>ISBN_ID_INT</th>\n",
       "    </tr>\n",
       "  </thead>\n",
       "  <tbody>\n",
       "    <tr>\n",
       "      <th>0</th>\n",
       "      <td>276747</td>\n",
       "      <td>0060517794</td>\n",
       "      <td>9</td>\n",
       "      <td>Little Altars Everywhere</td>\n",
       "      <td>Rebecca Wells</td>\n",
       "      <td>2003</td>\n",
       "      <td>HarperTorch</td>\n",
       "      <td>25.0</td>\n",
       "      <td>iowa city</td>\n",
       "      <td>iowa</td>\n",
       "      <td>usa</td>\n",
       "      <td>1</td>\n",
       "      <td>22404</td>\n",
       "      <td>3844</td>\n",
       "      <td>1</td>\n",
       "      <td>1</td>\n",
       "    </tr>\n",
       "    <tr>\n",
       "      <th>1</th>\n",
       "      <td>276747</td>\n",
       "      <td>0671537458</td>\n",
       "      <td>9</td>\n",
       "      <td>Waiting to Exhale</td>\n",
       "      <td>Terry McMillan</td>\n",
       "      <td>1995</td>\n",
       "      <td>Pocket</td>\n",
       "      <td>25.0</td>\n",
       "      <td>iowa city</td>\n",
       "      <td>iowa</td>\n",
       "      <td>usa</td>\n",
       "      <td>2</td>\n",
       "      <td>22404</td>\n",
       "      <td>78067</td>\n",
       "      <td>1</td>\n",
       "      <td>2</td>\n",
       "    </tr>\n",
       "    <tr>\n",
       "      <th>2</th>\n",
       "      <td>276747</td>\n",
       "      <td>0679776818</td>\n",
       "      <td>8</td>\n",
       "      <td>Birdsong: A Novel of Love and War</td>\n",
       "      <td>Sebastian Faulks</td>\n",
       "      <td>1997</td>\n",
       "      <td>Vintage Books USA</td>\n",
       "      <td>25.0</td>\n",
       "      <td>iowa city</td>\n",
       "      <td>iowa</td>\n",
       "      <td>usa</td>\n",
       "      <td>3</td>\n",
       "      <td>22404</td>\n",
       "      <td>83361</td>\n",
       "      <td>1</td>\n",
       "      <td>3</td>\n",
       "    </tr>\n",
       "    <tr>\n",
       "      <th>3</th>\n",
       "      <td>276747</td>\n",
       "      <td>0943066433</td>\n",
       "      <td>7</td>\n",
       "      <td>How to Deal With Difficult People</td>\n",
       "      <td>Rick Brinkman</td>\n",
       "      <td>1995</td>\n",
       "      <td>Careertrack Inc.</td>\n",
       "      <td>25.0</td>\n",
       "      <td>iowa city</td>\n",
       "      <td>iowa</td>\n",
       "      <td>usa</td>\n",
       "      <td>4</td>\n",
       "      <td>22404</td>\n",
       "      <td>118092</td>\n",
       "      <td>1</td>\n",
       "      <td>4</td>\n",
       "    </tr>\n",
       "    <tr>\n",
       "      <th>4</th>\n",
       "      <td>276762</td>\n",
       "      <td>0380711524</td>\n",
       "      <td>5</td>\n",
       "      <td>See Jane Run</td>\n",
       "      <td>Joy Fielding</td>\n",
       "      <td>1992</td>\n",
       "      <td>Avon</td>\n",
       "      <td>25.0</td>\n",
       "      <td>duisburg</td>\n",
       "      <td>nordrhein-westfalen</td>\n",
       "      <td>germany</td>\n",
       "      <td>1</td>\n",
       "      <td>22405</td>\n",
       "      <td>37575</td>\n",
       "      <td>2</td>\n",
       "      <td>5</td>\n",
       "    </tr>\n",
       "  </tbody>\n",
       "</table>\n",
       "</div>"
      ],
      "text/plain": [
       "   User-ID        ISBN  Book-Rating                         Book-Title  \\\n",
       "0   276747  0060517794            9           Little Altars Everywhere   \n",
       "1   276747  0671537458            9                  Waiting to Exhale   \n",
       "2   276747  0679776818            8  Birdsong: A Novel of Love and War   \n",
       "3   276747  0943066433            7  How to Deal With Difficult People   \n",
       "4   276762  0380711524            5                       See Jane Run   \n",
       "\n",
       "        Book-Author Year-Of-Publication          Publisher   Age       city  \\\n",
       "0     Rebecca Wells                2003        HarperTorch  25.0  iowa city   \n",
       "1    Terry McMillan                1995             Pocket  25.0  iowa city   \n",
       "2  Sebastian Faulks                1997  Vintage Books USA  25.0  iowa city   \n",
       "3     Rick Brinkman                1995   Careertrack Inc.  25.0  iowa city   \n",
       "4      Joy Fielding                1992               Avon  25.0   duisburg   \n",
       "\n",
       "                  state   country  RN  USER_ID_CAT  IBSN_ID_CAT  USER_ID_INT  \\\n",
       "0                  iowa       usa   1        22404         3844            1   \n",
       "1                  iowa       usa   2        22404        78067            1   \n",
       "2                  iowa       usa   3        22404        83361            1   \n",
       "3                  iowa       usa   4        22404       118092            1   \n",
       "4   nordrhein-westfalen   germany   1        22405        37575            2   \n",
       "\n",
       "   ISBN_ID_INT  \n",
       "0            1  \n",
       "1            2  \n",
       "2            3  \n",
       "3            4  \n",
       "4            5  "
      ]
     },
     "execution_count": 6,
     "metadata": {},
     "output_type": "execute_result"
    }
   ],
   "source": [
    "#---- Dados de treino\n",
    "\n",
    "df_train = pd.read_parquet('03-data/02-processed/05-ALS-df-train-data.parquet')\n",
    "\n",
    "df_train.head()"
   ]
  },
  {
   "cell_type": "code",
   "execution_count": 7,
   "id": "87a7da13-e436-48ff-a71d-c7df249a6b33",
   "metadata": {},
   "outputs": [],
   "source": [
    "# #---- De-para's:\n",
    "\n",
    "# de_para_isbn = pd.read_parquet('03-data/02-processed/05-ALS-DE-PARA-ISBN.parquet')\n",
    "# de_para_user = pd.read_parquet('03-data/02-processed/06-ALS-DE-PARA-USER.parquet')"
   ]
  },
  {
   "cell_type": "code",
   "execution_count": 8,
   "id": "2fa6de53-e224-4f38-828e-b7fd221a3970",
   "metadata": {},
   "outputs": [],
   "source": [
    "# #---- Full data:\n",
    "\n",
    "# df_full = pd.read_parquet('03-data/02-processed/03-full_data.parquet')\n",
    "\n",
    "# df_full.head()"
   ]
  },
  {
   "cell_type": "markdown",
   "id": "defd2953-ac2c-480e-bce8-4ff0db1d7f22",
   "metadata": {},
   "source": [
    "## 2. Modelagem"
   ]
  },
  {
   "cell_type": "code",
   "execution_count": 9,
   "id": "0daad1dc-d43a-4bfe-b478-adae8bcc2977",
   "metadata": {},
   "outputs": [
    {
     "name": "stderr",
     "output_type": "stream",
     "text": [
      "/home/rafa/Documentos/github/book-recommendation/venv/lib/python3.10/site-packages/implicit/cpu/als.py:95: RuntimeWarning: OpenBLAS is configured to use 8 threads. It is highly recommended to disable its internal threadpool by setting the environment variable 'OPENBLAS_NUM_THREADS=1' or by calling 'threadpoolctl.threadpool_limits(1, \"blas\")'. Having OpenBLAS use a threadpool can lead to severe performance issues here.\n",
      "  check_blas_config()\n"
     ]
    },
    {
     "data": {
      "text/plain": [
       "<implicit.cpu.als.AlternatingLeastSquares at 0x74dd346115d0>"
      ]
     },
     "execution_count": 9,
     "metadata": {},
     "output_type": "execute_result"
    }
   ],
   "source": [
    "model = als.AlternatingLeastSquares(factors = 30, random_state = 42)\n",
    "\n",
    "model"
   ]
  },
  {
   "cell_type": "code",
   "execution_count": 10,
   "id": "3bbe802b-58ce-44e2-9c71-c20c2d57ecae",
   "metadata": {
    "scrolled": true
   },
   "outputs": [
    {
     "name": "stderr",
     "output_type": "stream",
     "text": [
      "100%|███████████████████████████████████████████| 15/15 [02:05<00:00,  8.36s/it]\n"
     ]
    }
   ],
   "source": [
    "model.fit(train_data)"
   ]
  },
  {
   "cell_type": "markdown",
   "id": "06a39be7-e3ea-466a-8d99-54483c9ed54e",
   "metadata": {},
   "source": [
    "## 3. Recomendações"
   ]
  },
  {
   "cell_type": "code",
   "execution_count": 46,
   "id": "63772f12-abdf-43f8-939c-fa0e630112a1",
   "metadata": {},
   "outputs": [
    {
     "data": {
      "text/plain": [
       "1"
      ]
     },
     "execution_count": 46,
     "metadata": {},
     "output_type": "execute_result"
    }
   ],
   "source": [
    "user_id_rec = 171011\n",
    "\n",
    "de_para_user_id_rec = df_train.query(f'`User-ID` == {user_id_rec}')['USER_ID_INT'].iloc[0]\n",
    "\n",
    "de_para_user_id_rec"
   ]
  },
  {
   "cell_type": "code",
   "execution_count": 12,
   "id": "bcc5ab51-e340-429a-8c3b-cf5ec49533cf",
   "metadata": {},
   "outputs": [
    {
     "data": {
      "text/html": [
       "<div>\n",
       "<style scoped>\n",
       "    .dataframe tbody tr th:only-of-type {\n",
       "        vertical-align: middle;\n",
       "    }\n",
       "\n",
       "    .dataframe tbody tr th {\n",
       "        vertical-align: top;\n",
       "    }\n",
       "\n",
       "    .dataframe thead th {\n",
       "        text-align: right;\n",
       "    }\n",
       "</style>\n",
       "<table border=\"1\" class=\"dataframe\">\n",
       "  <thead>\n",
       "    <tr style=\"text-align: right;\">\n",
       "      <th></th>\n",
       "      <th>ISBN</th>\n",
       "      <th>Book-Title</th>\n",
       "      <th>Book-Rating</th>\n",
       "    </tr>\n",
       "  </thead>\n",
       "  <tbody>\n",
       "    <tr>\n",
       "      <th>221525</th>\n",
       "      <td>0439064872</td>\n",
       "      <td>Harry Potter and the Chamber of Secrets (Book 2)</td>\n",
       "      <td>10</td>\n",
       "    </tr>\n",
       "    <tr>\n",
       "      <th>221526</th>\n",
       "      <td>0439136369</td>\n",
       "      <td>Harry Potter and the Prisoner of Azkaban (Book 3)</td>\n",
       "      <td>10</td>\n",
       "    </tr>\n",
       "    <tr>\n",
       "      <th>221527</th>\n",
       "      <td>0439139597</td>\n",
       "      <td>Harry Potter and the Goblet of Fire (Book 4)</td>\n",
       "      <td>10</td>\n",
       "    </tr>\n",
       "    <tr>\n",
       "      <th>221528</th>\n",
       "      <td>043935806X</td>\n",
       "      <td>Harry Potter and the Order of the Phoenix (Boo...</td>\n",
       "      <td>10</td>\n",
       "    </tr>\n",
       "    <tr>\n",
       "      <th>221529</th>\n",
       "      <td>043936213X</td>\n",
       "      <td>Harry Potter and the Sorcerer's Stone (Book 1)</td>\n",
       "      <td>10</td>\n",
       "    </tr>\n",
       "    <tr>\n",
       "      <th>221524</th>\n",
       "      <td>0140386335</td>\n",
       "      <td>The Neverending Story</td>\n",
       "      <td>9</td>\n",
       "    </tr>\n",
       "  </tbody>\n",
       "</table>\n",
       "</div>"
      ],
      "text/plain": [
       "              ISBN                                         Book-Title  \\\n",
       "221525  0439064872   Harry Potter and the Chamber of Secrets (Book 2)   \n",
       "221526  0439136369  Harry Potter and the Prisoner of Azkaban (Book 3)   \n",
       "221527  0439139597       Harry Potter and the Goblet of Fire (Book 4)   \n",
       "221528  043935806X  Harry Potter and the Order of the Phoenix (Boo...   \n",
       "221529  043936213X     Harry Potter and the Sorcerer's Stone (Book 1)   \n",
       "221524  0140386335                              The Neverending Story   \n",
       "\n",
       "        Book-Rating  \n",
       "221525           10  \n",
       "221526           10  \n",
       "221527           10  \n",
       "221528           10  \n",
       "221529           10  \n",
       "221524            9  "
      ]
     },
     "execution_count": 12,
     "metadata": {},
     "output_type": "execute_result"
    }
   ],
   "source": [
    "#---- TOP 10 livros mais bem avaliados pelo usuário\n",
    "\n",
    "df_train\\\n",
    "    .query(f'`User-ID` == {user_id_rec}')\\\n",
    "    .query(f'`Book-Rating` != 0')\\\n",
    "    .sort_values(by = 'Book-Rating', ascending = False)[['ISBN', 'Book-Title', 'Book-Rating']]\\\n",
    "    .drop_duplicates()\\\n",
    "    .head(10)"
   ]
  },
  {
   "cell_type": "code",
   "execution_count": 13,
   "id": "ad2b6b3e-bdeb-41d6-abcc-a3ebf09685a4",
   "metadata": {},
   "outputs": [
    {
     "data": {
      "text/plain": [
       "['The Neverending Story',\n",
       " 'Harry Potter and the Chamber of Secrets (Book 2)',\n",
       " 'Harry Potter and the Prisoner of Azkaban (Book 3)',\n",
       " 'Harry Potter and the Goblet of Fire (Book 4)',\n",
       " 'Harry Potter and the Order of the Phoenix (Book 5)',\n",
       " \"Harry Potter and the Sorcerer's Stone (Book 1)\"]"
      ]
     },
     "execution_count": 13,
     "metadata": {},
     "output_type": "execute_result"
    }
   ],
   "source": [
    "#---- Lista de ISBN que o usuário já leu\n",
    "\n",
    "readed_isbn_by_user = df_train\\\n",
    "    .query(f'`User-ID` == {user_id_rec}')['Book-Title']\\\n",
    "    .unique()\\\n",
    "    .tolist()\n",
    "\n",
    "readed_isbn_by_user"
   ]
  },
  {
   "cell_type": "code",
   "execution_count": 14,
   "id": "3395b123-e47c-4012-9582-802e3cab2d74",
   "metadata": {},
   "outputs": [],
   "source": [
    "not_recommended_list_to_user = df_train\\\n",
    "    .query(f'`Book-Title`.isin({readed_isbn_by_user})')['ISBN_ID_INT']\\\n",
    "    .unique()\\\n",
    "    .tolist()"
   ]
  },
  {
   "cell_type": "code",
   "execution_count": 15,
   "id": "bf2660f1-46c4-4fe1-8ac2-004f530067ba",
   "metadata": {},
   "outputs": [
    {
     "name": "stdout",
     "output_type": "stream",
     "text": [
      "Recomendações: (array([ 1623,   810,  1478,  2081,  2077, 19063,  2529,   200,  1316,\n",
      "         305], dtype=int32), array([0.6973636 , 0.3413098 , 0.31499463, 0.2582363 , 0.24672447,\n",
      "       0.24356365, 0.24171497, 0.23169836, 0.2124185 , 0.20761147],\n",
      "      dtype=float32))\n"
     ]
    },
    {
     "data": {
      "text/plain": [
       "array(['To Kill a Mockingbird', 'Fahrenheit 451',\n",
       "       'The Hobbit : The Enchanting Prelude to The Lord of the Rings',\n",
       "       'Angels &amp; Demons',\n",
       "       'The Fellowship of the Ring (The Lord of the Rings, Part 1)',\n",
       "       \"Harry Potter and the Sorcerer's Stone (Harry Potter (Paperback))\",\n",
       "       'The Catcher in the Rye',\n",
       "       'The Two Towers (The Lord of the Rings, Part 2)',\n",
       "       'The Bad Beginning (A Series of Unfortunate Events, Book 1)',\n",
       "       'The Return of the King (The Lord of the Rings, Part 3)'],\n",
       "      dtype=object)"
      ]
     },
     "execution_count": 15,
     "metadata": {},
     "output_type": "execute_result"
    }
   ],
   "source": [
    "#---- Top10 recomendações para o usuário\n",
    "\n",
    "recommendations = model.recommend(de_para_user_id_rec,\n",
    "                                  train_data[de_para_user_id_rec], \n",
    "                                  filter_already_liked_items = True,\n",
    "                                  N = 10,\n",
    "                                  filter_items = not_recommended_list_to_user)\n",
    "\n",
    "print(f'Recomendações: {recommendations}')\n",
    "\n",
    "list_recommendations = recommendations[0].tolist()\n",
    "\n",
    "#---- De-para das recomendações para ISBN\n",
    "\n",
    "isbn_recommendations = df_train\\\n",
    "    .query(f'ISBN_ID_INT.isin({list_recommendations})')['ISBN']\\\n",
    "    .unique()\\\n",
    "    .tolist()\n",
    "\n",
    "df_train\\\n",
    "    .pipe(filter_list_ordered, \n",
    "          col = 'ISBN', \n",
    "          list_filter = isbn_recommendations)\\\n",
    "    [['ISBN', 'Book-Title']]\\\n",
    "    .drop_duplicates()['Book-Title'].unique()"
   ]
  },
  {
   "cell_type": "markdown",
   "id": "33a3aead-31da-4f61-a0fb-3e06433f7484",
   "metadata": {},
   "source": [
    "## 4. Avaliação das métricas"
   ]
  },
  {
   "cell_type": "code",
   "execution_count": null,
   "id": "8ae007b5-776d-4ee5-885d-becf6c9356cf",
   "metadata": {},
   "outputs": [],
   "source": [
    "# Criar uma função que olhe a coluna User-ID e faça as TOP N recomendações. Resultado: lista\n",
    "# Validar se dentro dessa lista de recomendações, está o livro-teste\n",
    "# Criaremos uma flag: se o livro está dentro das recomendações, 1, senão 0\n",
    "# Proporção dos valores 1 (Precision @ K)"
   ]
  },
  {
   "cell_type": "code",
   "execution_count": 67,
   "id": "a016c04d-b1f3-47f6-b734-bb5791812424",
   "metadata": {},
   "outputs": [
    {
     "name": "stdout",
     "output_type": "stream",
     "text": [
      "time: 3.91 ms (started: 2024-03-25 21:42:16 -03:00)\n"
     ]
    }
   ],
   "source": [
    "#---- Criando uma função para recomendar K itens a partir do nome do usuário\n",
    "\n",
    "def choose_books_als(user_id_to_rec: str, df_de_para: pd.DataFrame, rec_matrix, n: int = 10):\n",
    "\n",
    "    # User_id para fazer a recomendação:\n",
    "\n",
    "    user_id_de_para = df_de_para\\\n",
    "        .query(f'`User-ID` == {user_id_to_rec}')['USER_ID_INT'].iloc[0]\n",
    "\n",
    "    recommendations = model.recommend(user_id_de_para,\n",
    "                                      rec_matrix[user_id_de_para], \n",
    "                                      filter_already_liked_items = True,\n",
    "                                      N = n)\n",
    "\n",
    "    list_recommendations = recommendations[0].tolist()\n",
    "\n",
    "    #---- De-para das recomendações para ISBN\n",
    "\n",
    "    isbn_recommendations = df_de_para\\\n",
    "        .query(f'ISBN_ID_INT.isin({list_recommendations})')['ISBN']\\\n",
    "        .unique()\\\n",
    "        .tolist()\n",
    "    \n",
    "    list_recommendations = df_train\\\n",
    "        .pipe(filter_list_ordered, \n",
    "              col = 'ISBN', \n",
    "              list_filter = isbn_recommendations)\\\n",
    "        [['ISBN', 'Book-Title']]\\\n",
    "        .drop_duplicates()['ISBN'].unique()\n",
    "\n",
    "    return list_recommendations"
   ]
  },
  {
   "cell_type": "code",
   "execution_count": 68,
   "id": "282dba91-aeae-42b1-8d8f-87778200d501",
   "metadata": {},
   "outputs": [
    {
     "data": {
      "text/plain": [
       "array(['0345339681', '0439139600', '0345339703', '059035342X',\n",
       "       '0439064864', '0439136350', '0590353403', '0316769487',\n",
       "       '0345339711', '0345339738'], dtype=object)"
      ]
     },
     "execution_count": 68,
     "metadata": {},
     "output_type": "execute_result"
    },
    {
     "name": "stdout",
     "output_type": "stream",
     "text": [
      "time: 613 ms (started: 2024-03-25 21:42:16 -03:00)\n"
     ]
    }
   ],
   "source": [
    "choose_books_als(user_id_to_rec = 171011, df_de_para = df_train, rec_matrix = train_data)"
   ]
  },
  {
   "cell_type": "code",
   "execution_count": 71,
   "id": "1ca2d84d-336c-476b-9e46-160b4991a0a7",
   "metadata": {},
   "outputs": [
    {
     "name": "stdout",
     "output_type": "stream",
     "text": [
      "time: 1.68 ms (started: 2024-03-25 21:47:16 -03:00)\n"
     ]
    }
   ],
   "source": [
    "df_test_copy = df_test\\\n",
    "    .sample(10)"
   ]
  },
  {
   "cell_type": "code",
   "execution_count": 72,
   "id": "91f0b418-2142-42c8-878e-1d22de198a2e",
   "metadata": {},
   "outputs": [
    {
     "name": "stdout",
     "output_type": "stream",
     "text": [
      "time: 4.42 s (started: 2024-03-25 21:47:17 -03:00)\n"
     ]
    }
   ],
   "source": [
    "df_test_copy['ALEATORIO'] = df_test_copy\\\n",
    "    .apply(lambda x: choose_books_als(user_id_to_rec = x['User-ID'], \n",
    "                                      df_de_para = df_train, \n",
    "                                      rec_matrix = train_data), axis = 1)"
   ]
  },
  {
   "cell_type": "code",
   "execution_count": 73,
   "id": "b7b9da5b-cb6a-4f1a-afd5-af8900e3a39e",
   "metadata": {},
   "outputs": [
    {
     "data": {
      "text/html": [
       "<div>\n",
       "<style scoped>\n",
       "    .dataframe tbody tr th:only-of-type {\n",
       "        vertical-align: middle;\n",
       "    }\n",
       "\n",
       "    .dataframe tbody tr th {\n",
       "        vertical-align: top;\n",
       "    }\n",
       "\n",
       "    .dataframe thead th {\n",
       "        text-align: right;\n",
       "    }\n",
       "</style>\n",
       "<table border=\"1\" class=\"dataframe\">\n",
       "  <thead>\n",
       "    <tr style=\"text-align: right;\">\n",
       "      <th></th>\n",
       "      <th>User-ID</th>\n",
       "      <th>ISBN</th>\n",
       "      <th>Book-Rating</th>\n",
       "      <th>Book-Title</th>\n",
       "      <th>Book-Author</th>\n",
       "      <th>Year-Of-Publication</th>\n",
       "      <th>Publisher</th>\n",
       "      <th>Age</th>\n",
       "      <th>city</th>\n",
       "      <th>state</th>\n",
       "      <th>country</th>\n",
       "      <th>RN</th>\n",
       "      <th>ALEATORIO</th>\n",
       "    </tr>\n",
       "  </thead>\n",
       "  <tbody>\n",
       "    <tr>\n",
       "      <th>14113</th>\n",
       "      <td>171104</td>\n",
       "      <td>1551923548</td>\n",
       "      <td>8</td>\n",
       "      <td>Rhymes With Useless</td>\n",
       "      <td>Terence Young</td>\n",
       "      <td>2001</td>\n",
       "      <td>Laurel Glen</td>\n",
       "      <td>NaN</td>\n",
       "      <td>port moody</td>\n",
       "      <td>british columbia</td>\n",
       "      <td>canada</td>\n",
       "      <td>5</td>\n",
       "      <td>[0316776963, 0385492081, 0375725784, 067151005...</td>\n",
       "    </tr>\n",
       "    <tr>\n",
       "      <th>11918</th>\n",
       "      <td>143609</td>\n",
       "      <td>0812510607</td>\n",
       "      <td>6</td>\n",
       "      <td>Good Behavior</td>\n",
       "      <td>Donald E. Westlake</td>\n",
       "      <td>1988</td>\n",
       "      <td>Tor Books (Mm)</td>\n",
       "      <td>NaN</td>\n",
       "      <td>seattle</td>\n",
       "      <td>washington</td>\n",
       "      <td>usa</td>\n",
       "      <td>11</td>\n",
       "      <td>[0440211727, 0345337662, 0060928336, 034538446...</td>\n",
       "    </tr>\n",
       "    <tr>\n",
       "      <th>18121</th>\n",
       "      <td>222427</td>\n",
       "      <td>3257056125</td>\n",
       "      <td>6</td>\n",
       "      <td>Der Geliebte der Mutter.</td>\n",
       "      <td>Urs Widmer</td>\n",
       "      <td>2002</td>\n",
       "      <td>Diogenes</td>\n",
       "      <td>25.0</td>\n",
       "      <td>carouge</td>\n",
       "      <td>geneva</td>\n",
       "      <td>switzerland</td>\n",
       "      <td>11</td>\n",
       "      <td>[0345342968, 0679723161, 0345337662, 051513287...</td>\n",
       "    </tr>\n",
       "    <tr>\n",
       "      <th>10485</th>\n",
       "      <td>126054</td>\n",
       "      <td>1576732207</td>\n",
       "      <td>8</td>\n",
       "      <td>Heart's Delight - Valentine Anthology (Palisad...</td>\n",
       "      <td>Karen Ball</td>\n",
       "      <td>1997</td>\n",
       "      <td>Palisades</td>\n",
       "      <td>NaN</td>\n",
       "      <td>syracuse</td>\n",
       "      <td>new york</td>\n",
       "      <td>usa</td>\n",
       "      <td>3</td>\n",
       "      <td>[0385504209, 0671021001, 0312195516, 031666634...</td>\n",
       "    </tr>\n",
       "    <tr>\n",
       "      <th>17489</th>\n",
       "      <td>213873</td>\n",
       "      <td>091581109X</td>\n",
       "      <td>10</td>\n",
       "      <td>Creating Money: Keys to Abundance (Life Master...</td>\n",
       "      <td>Sanaya Roman</td>\n",
       "      <td>1988</td>\n",
       "      <td>H.J. Kramer</td>\n",
       "      <td>57.0</td>\n",
       "      <td>vancouver</td>\n",
       "      <td>british columbia</td>\n",
       "      <td>canada</td>\n",
       "      <td>5</td>\n",
       "      <td>[0440241073, 0312195516, 0440224764, 031666634...</td>\n",
       "    </tr>\n",
       "  </tbody>\n",
       "</table>\n",
       "</div>"
      ],
      "text/plain": [
       "       User-ID        ISBN  Book-Rating  \\\n",
       "14113   171104  1551923548            8   \n",
       "11918   143609  0812510607            6   \n",
       "18121   222427  3257056125            6   \n",
       "10485   126054  1576732207            8   \n",
       "17489   213873  091581109X           10   \n",
       "\n",
       "                                              Book-Title         Book-Author  \\\n",
       "14113                                Rhymes With Useless       Terence Young   \n",
       "11918                                      Good Behavior  Donald E. Westlake   \n",
       "18121                           Der Geliebte der Mutter.          Urs Widmer   \n",
       "10485  Heart's Delight - Valentine Anthology (Palisad...          Karen Ball   \n",
       "17489  Creating Money: Keys to Abundance (Life Master...        Sanaya Roman   \n",
       "\n",
       "      Year-Of-Publication       Publisher   Age        city  \\\n",
       "14113                2001     Laurel Glen   NaN  port moody   \n",
       "11918                1988  Tor Books (Mm)   NaN     seattle   \n",
       "18121                2002        Diogenes  25.0     carouge   \n",
       "10485                1997       Palisades   NaN    syracuse   \n",
       "17489                1988     H.J. Kramer  57.0   vancouver   \n",
       "\n",
       "                   state       country  RN  \\\n",
       "14113   british columbia        canada   5   \n",
       "11918         washington           usa  11   \n",
       "18121             geneva   switzerland  11   \n",
       "10485           new york           usa   3   \n",
       "17489   british columbia        canada   5   \n",
       "\n",
       "                                               ALEATORIO  \n",
       "14113  [0316776963, 0385492081, 0375725784, 067151005...  \n",
       "11918  [0440211727, 0345337662, 0060928336, 034538446...  \n",
       "18121  [0345342968, 0679723161, 0345337662, 051513287...  \n",
       "10485  [0385504209, 0671021001, 0312195516, 031666634...  \n",
       "17489  [0440241073, 0312195516, 0440224764, 031666634...  "
      ]
     },
     "execution_count": 73,
     "metadata": {},
     "output_type": "execute_result"
    },
    {
     "name": "stdout",
     "output_type": "stream",
     "text": [
      "time: 18.5 ms (started: 2024-03-25 21:47:21 -03:00)\n"
     ]
    }
   ],
   "source": [
    "df_test_copy\\\n",
    "    .head(5)"
   ]
  },
  {
   "cell_type": "markdown",
   "id": "f9b4ee29-1f4e-4e26-814d-ea8725a2d1fa",
   "metadata": {},
   "source": [
    "# Para a próxima rodada de estudo:\n",
    "\n",
    "- Otimizar o código\n",
    "- Continuar a avaliação da métrica"
   ]
  },
  {
   "cell_type": "markdown",
   "id": "b1681ac7-2282-4e0a-bcd4-f2b8f7d9ec5c",
   "metadata": {},
   "source": [
    "# TO-DO's\n",
    "\n",
    "- Ler um pouco mais sobre a teoria do ALS\n",
    "- Criar um código que exclua o primeiro item da recomendação do usuário"
   ]
  },
  {
   "cell_type": "markdown",
   "id": "d32be969-11eb-4a50-94a8-513469847d7a",
   "metadata": {},
   "source": [
    "# Validações"
   ]
  },
  {
   "cell_type": "code",
   "execution_count": null,
   "id": "1569e068-0507-459d-b371-55334394d773",
   "metadata": {},
   "outputs": [],
   "source": [
    "df_train['FLAG_HP'] = np.where(df_train['Book-Title'].str.contains('Potter'), 1, 0)"
   ]
  },
  {
   "cell_type": "code",
   "execution_count": null,
   "id": "1d580b91-35cf-49e7-9903-70d410b6fa67",
   "metadata": {},
   "outputs": [],
   "source": [
    "test = df_train[['User-ID', 'FLAG_HP']]\\\n",
    "    .value_counts()\\\n",
    "    .reset_index()\\\n",
    "    .sort_values(by = ['User-ID', 'FLAG_HP'])\n",
    "\n",
    "test['percent'] = test['count'] / test.groupby('User-ID')['count'].transform('sum') * 100\n",
    "\n",
    "test\\\n",
    "    .sort_values(by = 'percent', ascending = False)\\\n",
    "    .query('FLAG_HP == 1 & count >= 3')\\\n",
    "    .head(20)"
   ]
  },
  {
   "cell_type": "code",
   "execution_count": null,
   "id": "194d9904-2702-4ffa-a6cd-fbc2f7eea79d",
   "metadata": {},
   "outputs": [],
   "source": [
    "df_train\\\n",
    "    .query('`User-ID` == 252829')\\\n",
    "    .sort_values(by = 'Book-Title')"
   ]
  },
  {
   "cell_type": "code",
   "execution_count": null,
   "id": "b21ae3ba-3c89-4b60-969f-79910fe5b91b",
   "metadata": {},
   "outputs": [],
   "source": []
  }
 ],
 "metadata": {
  "kernelspec": {
   "display_name": "Python 3 (ipykernel)",
   "language": "python",
   "name": "python3"
  },
  "language_info": {
   "codemirror_mode": {
    "name": "ipython",
    "version": 3
   },
   "file_extension": ".py",
   "mimetype": "text/x-python",
   "name": "python",
   "nbconvert_exporter": "python",
   "pygments_lexer": "ipython3",
   "version": "3.10.12"
  }
 },
 "nbformat": 4,
 "nbformat_minor": 5
}
