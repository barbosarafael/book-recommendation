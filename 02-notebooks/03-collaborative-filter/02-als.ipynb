{
 "cells": [
  {
   "cell_type": "markdown",
   "id": "0d0c88a0-a174-428c-b8d1-16a230cf2c10",
   "metadata": {},
   "source": [
    "## ALS"
   ]
  },
  {
   "cell_type": "markdown",
   "id": "0b0895c2-1fd3-454c-a649-8b65e9de0718",
   "metadata": {},
   "source": [
    "## 0. Setup"
   ]
  },
  {
   "cell_type": "code",
   "execution_count": 1,
   "id": "2f018bd7-7e50-47f0-bc33-ff9ebd827172",
   "metadata": {},
   "outputs": [
    {
     "name": "stdout",
     "output_type": "stream",
     "text": [
      "time: 197 µs (started: 2024-03-27 21:23:15 -03:00)\n"
     ]
    }
   ],
   "source": [
    "%load_ext autotime"
   ]
  },
  {
   "cell_type": "code",
   "execution_count": 2,
   "id": "f8e33445-0ade-4247-8b79-366f0334d705",
   "metadata": {},
   "outputs": [
    {
     "name": "stdout",
     "output_type": "stream",
     "text": [
      "time: 1.39 s (started: 2024-03-27 21:23:15 -03:00)\n"
     ]
    },
    {
     "name": "stderr",
     "output_type": "stream",
     "text": [
      "/home/rafa/Documentos/github/book-recommendation/venv/lib/python3.10/site-packages/tqdm/auto.py:21: TqdmWarning: IProgress not found. Please update jupyter and ipywidgets. See https://ipywidgets.readthedocs.io/en/stable/user_install.html\n",
      "  from .autonotebook import tqdm as notebook_tqdm\n"
     ]
    }
   ],
   "source": [
    "#---- Bibliotecas:\n",
    "\n",
    "# Análise e manipulação de dados:\n",
    "\n",
    "import pandas as pd\n",
    "import swifter\n",
    "import numpy as np\n",
    "\n",
    "# Visualização de dados:\n",
    "\n",
    "import plotly.io as pio\n",
    "import plotly.express as px\n",
    "\n",
    "# Manuseio nos dados\n",
    "\n",
    "from os import chdir\n",
    "\n",
    "# ALS\n",
    "\n",
    "from implicit import als"
   ]
  },
  {
   "cell_type": "code",
   "execution_count": 3,
   "id": "618182d6-1b39-419c-9565-f67895e2fdea",
   "metadata": {},
   "outputs": [
    {
     "name": "stdout",
     "output_type": "stream",
     "text": [
      "time: 222 ms (started: 2024-03-27 21:23:17 -03:00)\n"
     ]
    }
   ],
   "source": [
    "#---- Mudando o diretório raiz para a pasta principal do projeto\n",
    "\n",
    "chdir('../../')\n",
    "\n",
    "#---- Template dos gráficos:\n",
    "\n",
    "pio.templates.default = \"plotly_white\"\n",
    "\n",
    "#---- Carregando as funções\n",
    "\n",
    "from functions import *"
   ]
  },
  {
   "cell_type": "markdown",
   "id": "9fbf7e14-c725-47fe-bf83-98e4fd5b3111",
   "metadata": {},
   "source": [
    "## 1. Extração dos dados"
   ]
  },
  {
   "cell_type": "code",
   "execution_count": 4,
   "id": "2758b971-880e-4de0-aa84-726fac4d4995",
   "metadata": {},
   "outputs": [
    {
     "data": {
      "text/plain": [
       "<22569x158236 sparse matrix of type '<class 'numpy.int64'>'\n",
       "\twith 346011 stored elements in Compressed Sparse Row format>"
      ]
     },
     "execution_count": 4,
     "metadata": {},
     "output_type": "execute_result"
    },
    {
     "name": "stdout",
     "output_type": "stream",
     "text": [
      "time: 24.1 ms (started: 2024-03-27 21:23:17 -03:00)\n"
     ]
    }
   ],
   "source": [
    "#---- Dados de treino\n",
    "\n",
    "train_data = load_sparse_csr('03-data/02-processed/04-ALS-train-data.npz')\n",
    "\n",
    "train_data"
   ]
  },
  {
   "cell_type": "code",
   "execution_count": 5,
   "id": "29e69a6c-126a-4255-90c6-83bf0b58b79b",
   "metadata": {},
   "outputs": [
    {
     "data": {
      "text/html": [
       "<div>\n",
       "<style scoped>\n",
       "    .dataframe tbody tr th:only-of-type {\n",
       "        vertical-align: middle;\n",
       "    }\n",
       "\n",
       "    .dataframe tbody tr th {\n",
       "        vertical-align: top;\n",
       "    }\n",
       "\n",
       "    .dataframe thead th {\n",
       "        text-align: right;\n",
       "    }\n",
       "</style>\n",
       "<table border=\"1\" class=\"dataframe\">\n",
       "  <thead>\n",
       "    <tr style=\"text-align: right;\">\n",
       "      <th></th>\n",
       "      <th>User-ID</th>\n",
       "      <th>ISBN</th>\n",
       "      <th>Book-Rating</th>\n",
       "      <th>Book-Title</th>\n",
       "      <th>Book-Author</th>\n",
       "      <th>Year-Of-Publication</th>\n",
       "      <th>Publisher</th>\n",
       "      <th>Age</th>\n",
       "      <th>city</th>\n",
       "      <th>state</th>\n",
       "      <th>country</th>\n",
       "      <th>RN</th>\n",
       "    </tr>\n",
       "  </thead>\n",
       "  <tbody>\n",
       "    <tr>\n",
       "      <th>0</th>\n",
       "      <td>276747</td>\n",
       "      <td>1885408226</td>\n",
       "      <td>7</td>\n",
       "      <td>The Golden Rule of Schmoozing</td>\n",
       "      <td>Aye Jaye</td>\n",
       "      <td>1998</td>\n",
       "      <td>Listen &amp;amp; Live Audio</td>\n",
       "      <td>25.0</td>\n",
       "      <td>iowa city</td>\n",
       "      <td>iowa</td>\n",
       "      <td>usa</td>\n",
       "      <td>5</td>\n",
       "    </tr>\n",
       "    <tr>\n",
       "      <th>1</th>\n",
       "      <td>276762</td>\n",
       "      <td>N3453124715</td>\n",
       "      <td>4</td>\n",
       "      <td>None</td>\n",
       "      <td>None</td>\n",
       "      <td>None</td>\n",
       "      <td>None</td>\n",
       "      <td>25.0</td>\n",
       "      <td>duisburg</td>\n",
       "      <td>nordrhein-westfalen</td>\n",
       "      <td>germany</td>\n",
       "      <td>4</td>\n",
       "    </tr>\n",
       "    <tr>\n",
       "      <th>2</th>\n",
       "      <td>276772</td>\n",
       "      <td>3596151465</td>\n",
       "      <td>10</td>\n",
       "      <td>Henry der Held.</td>\n",
       "      <td>Roddy Doyle</td>\n",
       "      <td>2001</td>\n",
       "      <td>Fischer (Tb.), Frankfurt</td>\n",
       "      <td>NaN</td>\n",
       "      <td>bonn</td>\n",
       "      <td>nordrhein-westfalen</td>\n",
       "      <td>germany</td>\n",
       "      <td>3</td>\n",
       "    </tr>\n",
       "    <tr>\n",
       "      <th>3</th>\n",
       "      <td>276786</td>\n",
       "      <td>8478442588</td>\n",
       "      <td>6</td>\n",
       "      <td>El Elogio de La Sombra</td>\n",
       "      <td>Tanazaki</td>\n",
       "      <td>1998</td>\n",
       "      <td>Siruela</td>\n",
       "      <td>34.0</td>\n",
       "      <td>madrid</td>\n",
       "      <td>madrid</td>\n",
       "      <td>spain</td>\n",
       "      <td>4</td>\n",
       "    </tr>\n",
       "    <tr>\n",
       "      <th>4</th>\n",
       "      <td>276788</td>\n",
       "      <td>055310666X</td>\n",
       "      <td>10</td>\n",
       "      <td>False Memory</td>\n",
       "      <td>Dean R. Koontz</td>\n",
       "      <td>1999</td>\n",
       "      <td>Bantam Books</td>\n",
       "      <td>NaN</td>\n",
       "      <td>mentone</td>\n",
       "      <td>california</td>\n",
       "      <td>usa</td>\n",
       "      <td>3</td>\n",
       "    </tr>\n",
       "  </tbody>\n",
       "</table>\n",
       "</div>"
      ],
      "text/plain": [
       "   User-ID         ISBN  Book-Rating                     Book-Title  \\\n",
       "0   276747   1885408226            7  The Golden Rule of Schmoozing   \n",
       "1   276762  N3453124715            4                           None   \n",
       "2   276772   3596151465           10                Henry der Held.   \n",
       "3   276786   8478442588            6         El Elogio de La Sombra   \n",
       "4   276788   055310666X           10                   False Memory   \n",
       "\n",
       "      Book-Author Year-Of-Publication                 Publisher   Age  \\\n",
       "0        Aye Jaye                1998   Listen &amp; Live Audio  25.0   \n",
       "1            None                None                      None  25.0   \n",
       "2     Roddy Doyle                2001  Fischer (Tb.), Frankfurt   NaN   \n",
       "3        Tanazaki                1998                   Siruela  34.0   \n",
       "4  Dean R. Koontz                1999              Bantam Books   NaN   \n",
       "\n",
       "        city                 state   country  RN  \n",
       "0  iowa city                  iowa       usa   5  \n",
       "1   duisburg   nordrhein-westfalen   germany   4  \n",
       "2       bonn   nordrhein-westfalen   germany   3  \n",
       "3     madrid                madrid     spain   4  \n",
       "4    mentone            california       usa   3  "
      ]
     },
     "execution_count": 5,
     "metadata": {},
     "output_type": "execute_result"
    },
    {
     "name": "stdout",
     "output_type": "stream",
     "text": [
      "time: 72.9 ms (started: 2024-03-27 21:23:17 -03:00)\n"
     ]
    }
   ],
   "source": [
    "#---- Dados de teste\n",
    "\n",
    "df_test = pd.read_parquet('03-data/02-processed/02-test_data.parquet')\n",
    "\n",
    "df_test.head()"
   ]
  },
  {
   "cell_type": "code",
   "execution_count": 6,
   "id": "1fcee8c7-286e-4045-8ec2-765963491577",
   "metadata": {},
   "outputs": [
    {
     "name": "stdout",
     "output_type": "stream",
     "text": [
      "<class 'pandas.core.frame.DataFrame'>\n",
      "RangeIndex: 22568 entries, 0 to 22567\n",
      "Data columns (total 12 columns):\n",
      " #   Column               Non-Null Count  Dtype  \n",
      "---  ------               --------------  -----  \n",
      " 0   User-ID              22568 non-null  int64  \n",
      " 1   ISBN                 22568 non-null  object \n",
      " 2   Book-Rating          22568 non-null  int64  \n",
      " 3   Book-Title           18886 non-null  object \n",
      " 4   Book-Author          18886 non-null  object \n",
      " 5   Year-Of-Publication  18886 non-null  object \n",
      " 6   Publisher            18886 non-null  object \n",
      " 7   Age                  15357 non-null  float64\n",
      " 8   city                 22568 non-null  object \n",
      " 9   state                22568 non-null  object \n",
      " 10  country              22568 non-null  object \n",
      " 11  RN                   22568 non-null  int64  \n",
      "dtypes: float64(1), int64(3), object(8)\n",
      "memory usage: 2.1+ MB\n",
      "time: 20.5 ms (started: 2024-03-27 21:23:17 -03:00)\n"
     ]
    }
   ],
   "source": [
    "df_test.info()"
   ]
  },
  {
   "cell_type": "code",
   "execution_count": 7,
   "id": "19d3c3af-0778-484a-b5e3-97fb0cc63668",
   "metadata": {},
   "outputs": [
    {
     "data": {
      "text/html": [
       "<div>\n",
       "<style scoped>\n",
       "    .dataframe tbody tr th:only-of-type {\n",
       "        vertical-align: middle;\n",
       "    }\n",
       "\n",
       "    .dataframe tbody tr th {\n",
       "        vertical-align: top;\n",
       "    }\n",
       "\n",
       "    .dataframe thead th {\n",
       "        text-align: right;\n",
       "    }\n",
       "</style>\n",
       "<table border=\"1\" class=\"dataframe\">\n",
       "  <thead>\n",
       "    <tr style=\"text-align: right;\">\n",
       "      <th></th>\n",
       "      <th>User-ID</th>\n",
       "      <th>ISBN</th>\n",
       "      <th>Book-Rating</th>\n",
       "      <th>Book-Title</th>\n",
       "      <th>Book-Author</th>\n",
       "      <th>Year-Of-Publication</th>\n",
       "      <th>Publisher</th>\n",
       "      <th>Age</th>\n",
       "      <th>city</th>\n",
       "      <th>state</th>\n",
       "      <th>country</th>\n",
       "      <th>RN</th>\n",
       "      <th>USER_ID_CAT</th>\n",
       "      <th>IBSN_ID_CAT</th>\n",
       "      <th>USER_ID_INT</th>\n",
       "      <th>ISBN_ID_INT</th>\n",
       "    </tr>\n",
       "  </thead>\n",
       "  <tbody>\n",
       "    <tr>\n",
       "      <th>0</th>\n",
       "      <td>276747</td>\n",
       "      <td>0060517794</td>\n",
       "      <td>9</td>\n",
       "      <td>Little Altars Everywhere</td>\n",
       "      <td>Rebecca Wells</td>\n",
       "      <td>2003</td>\n",
       "      <td>HarperTorch</td>\n",
       "      <td>25.0</td>\n",
       "      <td>iowa city</td>\n",
       "      <td>iowa</td>\n",
       "      <td>usa</td>\n",
       "      <td>1</td>\n",
       "      <td>22404</td>\n",
       "      <td>3844</td>\n",
       "      <td>1</td>\n",
       "      <td>1</td>\n",
       "    </tr>\n",
       "    <tr>\n",
       "      <th>1</th>\n",
       "      <td>276747</td>\n",
       "      <td>0671537458</td>\n",
       "      <td>9</td>\n",
       "      <td>Waiting to Exhale</td>\n",
       "      <td>Terry McMillan</td>\n",
       "      <td>1995</td>\n",
       "      <td>Pocket</td>\n",
       "      <td>25.0</td>\n",
       "      <td>iowa city</td>\n",
       "      <td>iowa</td>\n",
       "      <td>usa</td>\n",
       "      <td>2</td>\n",
       "      <td>22404</td>\n",
       "      <td>78067</td>\n",
       "      <td>1</td>\n",
       "      <td>2</td>\n",
       "    </tr>\n",
       "    <tr>\n",
       "      <th>2</th>\n",
       "      <td>276747</td>\n",
       "      <td>0679776818</td>\n",
       "      <td>8</td>\n",
       "      <td>Birdsong: A Novel of Love and War</td>\n",
       "      <td>Sebastian Faulks</td>\n",
       "      <td>1997</td>\n",
       "      <td>Vintage Books USA</td>\n",
       "      <td>25.0</td>\n",
       "      <td>iowa city</td>\n",
       "      <td>iowa</td>\n",
       "      <td>usa</td>\n",
       "      <td>3</td>\n",
       "      <td>22404</td>\n",
       "      <td>83361</td>\n",
       "      <td>1</td>\n",
       "      <td>3</td>\n",
       "    </tr>\n",
       "    <tr>\n",
       "      <th>3</th>\n",
       "      <td>276747</td>\n",
       "      <td>0943066433</td>\n",
       "      <td>7</td>\n",
       "      <td>How to Deal With Difficult People</td>\n",
       "      <td>Rick Brinkman</td>\n",
       "      <td>1995</td>\n",
       "      <td>Careertrack Inc.</td>\n",
       "      <td>25.0</td>\n",
       "      <td>iowa city</td>\n",
       "      <td>iowa</td>\n",
       "      <td>usa</td>\n",
       "      <td>4</td>\n",
       "      <td>22404</td>\n",
       "      <td>118092</td>\n",
       "      <td>1</td>\n",
       "      <td>4</td>\n",
       "    </tr>\n",
       "    <tr>\n",
       "      <th>4</th>\n",
       "      <td>276762</td>\n",
       "      <td>0380711524</td>\n",
       "      <td>5</td>\n",
       "      <td>See Jane Run</td>\n",
       "      <td>Joy Fielding</td>\n",
       "      <td>1992</td>\n",
       "      <td>Avon</td>\n",
       "      <td>25.0</td>\n",
       "      <td>duisburg</td>\n",
       "      <td>nordrhein-westfalen</td>\n",
       "      <td>germany</td>\n",
       "      <td>1</td>\n",
       "      <td>22405</td>\n",
       "      <td>37575</td>\n",
       "      <td>2</td>\n",
       "      <td>5</td>\n",
       "    </tr>\n",
       "  </tbody>\n",
       "</table>\n",
       "</div>"
      ],
      "text/plain": [
       "   User-ID        ISBN  Book-Rating                         Book-Title  \\\n",
       "0   276747  0060517794            9           Little Altars Everywhere   \n",
       "1   276747  0671537458            9                  Waiting to Exhale   \n",
       "2   276747  0679776818            8  Birdsong: A Novel of Love and War   \n",
       "3   276747  0943066433            7  How to Deal With Difficult People   \n",
       "4   276762  0380711524            5                       See Jane Run   \n",
       "\n",
       "        Book-Author Year-Of-Publication          Publisher   Age       city  \\\n",
       "0     Rebecca Wells                2003        HarperTorch  25.0  iowa city   \n",
       "1    Terry McMillan                1995             Pocket  25.0  iowa city   \n",
       "2  Sebastian Faulks                1997  Vintage Books USA  25.0  iowa city   \n",
       "3     Rick Brinkman                1995   Careertrack Inc.  25.0  iowa city   \n",
       "4      Joy Fielding                1992               Avon  25.0   duisburg   \n",
       "\n",
       "                  state   country  RN  USER_ID_CAT  IBSN_ID_CAT  USER_ID_INT  \\\n",
       "0                  iowa       usa   1        22404         3844            1   \n",
       "1                  iowa       usa   2        22404        78067            1   \n",
       "2                  iowa       usa   3        22404        83361            1   \n",
       "3                  iowa       usa   4        22404       118092            1   \n",
       "4   nordrhein-westfalen   germany   1        22405        37575            2   \n",
       "\n",
       "   ISBN_ID_INT  \n",
       "0            1  \n",
       "1            2  \n",
       "2            3  \n",
       "3            4  \n",
       "4            5  "
      ]
     },
     "execution_count": 7,
     "metadata": {},
     "output_type": "execute_result"
    },
    {
     "name": "stdout",
     "output_type": "stream",
     "text": [
      "time: 513 ms (started: 2024-03-27 21:23:17 -03:00)\n"
     ]
    }
   ],
   "source": [
    "#---- Dados de treino\n",
    "\n",
    "df_train = pd.read_parquet('03-data/02-processed/05-ALS-df-train-data.parquet')\n",
    "\n",
    "df_train.head()"
   ]
  },
  {
   "cell_type": "code",
   "execution_count": 8,
   "id": "87a7da13-e436-48ff-a71d-c7df249a6b33",
   "metadata": {},
   "outputs": [
    {
     "name": "stdout",
     "output_type": "stream",
     "text": [
      "time: 269 µs (started: 2024-03-27 21:23:18 -03:00)\n"
     ]
    }
   ],
   "source": [
    "# #---- De-para's:\n",
    "\n",
    "# de_para_isbn = pd.read_parquet('03-data/02-processed/05-ALS-DE-PARA-ISBN.parquet')\n",
    "# de_para_user = pd.read_parquet('03-data/02-processed/06-ALS-DE-PARA-USER.parquet')"
   ]
  },
  {
   "cell_type": "code",
   "execution_count": 9,
   "id": "2fa6de53-e224-4f38-828e-b7fd221a3970",
   "metadata": {},
   "outputs": [
    {
     "name": "stdout",
     "output_type": "stream",
     "text": [
      "time: 7.43 ms (started: 2024-03-27 21:23:18 -03:00)\n"
     ]
    }
   ],
   "source": [
    "# #---- Full data:\n",
    "\n",
    "# df_full = pd.read_parquet('03-data/02-processed/03-full_data.parquet')\n",
    "\n",
    "# df_full.head()"
   ]
  },
  {
   "cell_type": "markdown",
   "id": "defd2953-ac2c-480e-bce8-4ff0db1d7f22",
   "metadata": {},
   "source": [
    "## 2. Modelagem"
   ]
  },
  {
   "cell_type": "code",
   "execution_count": 10,
   "id": "0daad1dc-d43a-4bfe-b478-adae8bcc2977",
   "metadata": {},
   "outputs": [
    {
     "name": "stderr",
     "output_type": "stream",
     "text": [
      "/home/rafa/Documentos/github/book-recommendation/venv/lib/python3.10/site-packages/implicit/cpu/als.py:95: RuntimeWarning: OpenBLAS is configured to use 8 threads. It is highly recommended to disable its internal threadpool by setting the environment variable 'OPENBLAS_NUM_THREADS=1' or by calling 'threadpoolctl.threadpool_limits(1, \"blas\")'. Having OpenBLAS use a threadpool can lead to severe performance issues here.\n",
      "  check_blas_config()\n"
     ]
    },
    {
     "data": {
      "text/plain": [
       "<implicit.cpu.als.AlternatingLeastSquares at 0x7c880bb9be80>"
      ]
     },
     "execution_count": 10,
     "metadata": {},
     "output_type": "execute_result"
    },
    {
     "name": "stdout",
     "output_type": "stream",
     "text": [
      "time: 28.6 ms (started: 2024-03-27 21:23:18 -03:00)\n"
     ]
    }
   ],
   "source": [
    "model = als.AlternatingLeastSquares(factors = 30, random_state = 42)\n",
    "\n",
    "model"
   ]
  },
  {
   "cell_type": "code",
   "execution_count": 11,
   "id": "3bbe802b-58ce-44e2-9c71-c20c2d57ecae",
   "metadata": {
    "scrolled": true
   },
   "outputs": [
    {
     "name": "stderr",
     "output_type": "stream",
     "text": [
      "100%|███████████████████████████████████████████| 15/15 [01:59<00:00,  7.94s/it]"
     ]
    },
    {
     "name": "stdout",
     "output_type": "stream",
     "text": [
      "time: 1min 59s (started: 2024-03-27 21:23:18 -03:00)\n"
     ]
    },
    {
     "name": "stderr",
     "output_type": "stream",
     "text": [
      "\n"
     ]
    }
   ],
   "source": [
    "model.fit(train_data)"
   ]
  },
  {
   "cell_type": "code",
   "execution_count": 13,
   "id": "c9ccbcbe-e302-4fa2-832f-dc395455870e",
   "metadata": {},
   "outputs": [
    {
     "name": "stdout",
     "output_type": "stream",
     "text": [
      "time: 192 ms (started: 2024-03-27 21:25:17 -03:00)\n"
     ]
    }
   ],
   "source": [
    "#---- DE-PARA USER_ID e ISBN:\n",
    "\n",
    "de_para_user_id = dict(zip(df_train['User-ID'].tolist(), df_train['USER_ID_INT'].tolist()))\n",
    "de_para_isbn = dict(zip(df_train['ISBN'].tolist(), df_train['ISBN_ID_INT'].tolist()))"
   ]
  },
  {
   "cell_type": "markdown",
   "id": "06a39be7-e3ea-466a-8d99-54483c9ed54e",
   "metadata": {},
   "source": [
    "## 3. Recomendações"
   ]
  },
  {
   "cell_type": "code",
   "execution_count": 31,
   "id": "63772f12-abdf-43f8-939c-fa0e630112a1",
   "metadata": {},
   "outputs": [
    {
     "data": {
      "text/plain": [
       "1"
      ]
     },
     "execution_count": 31,
     "metadata": {},
     "output_type": "execute_result"
    },
    {
     "name": "stdout",
     "output_type": "stream",
     "text": [
      "time: 3.13 ms (started: 2024-03-27 21:50:28 -03:00)\n"
     ]
    }
   ],
   "source": [
    "user_id_rec = 276747\n",
    "\n",
    "de_para_user_id_rec = de_para_user_id[user_id_rec]\n",
    "\n",
    "de_para_user_id_rec"
   ]
  },
  {
   "cell_type": "code",
   "execution_count": 14,
   "id": "bcc5ab51-e340-429a-8c3b-cf5ec49533cf",
   "metadata": {},
   "outputs": [
    {
     "data": {
      "text/html": [
       "<div>\n",
       "<style scoped>\n",
       "    .dataframe tbody tr th:only-of-type {\n",
       "        vertical-align: middle;\n",
       "    }\n",
       "\n",
       "    .dataframe tbody tr th {\n",
       "        vertical-align: top;\n",
       "    }\n",
       "\n",
       "    .dataframe thead th {\n",
       "        text-align: right;\n",
       "    }\n",
       "</style>\n",
       "<table border=\"1\" class=\"dataframe\">\n",
       "  <thead>\n",
       "    <tr style=\"text-align: right;\">\n",
       "      <th></th>\n",
       "      <th>ISBN</th>\n",
       "      <th>Book-Title</th>\n",
       "      <th>Book-Rating</th>\n",
       "    </tr>\n",
       "  </thead>\n",
       "  <tbody>\n",
       "    <tr>\n",
       "      <th>221525</th>\n",
       "      <td>0439064872</td>\n",
       "      <td>Harry Potter and the Chamber of Secrets (Book 2)</td>\n",
       "      <td>10</td>\n",
       "    </tr>\n",
       "    <tr>\n",
       "      <th>221526</th>\n",
       "      <td>0439136369</td>\n",
       "      <td>Harry Potter and the Prisoner of Azkaban (Book 3)</td>\n",
       "      <td>10</td>\n",
       "    </tr>\n",
       "    <tr>\n",
       "      <th>221527</th>\n",
       "      <td>0439139597</td>\n",
       "      <td>Harry Potter and the Goblet of Fire (Book 4)</td>\n",
       "      <td>10</td>\n",
       "    </tr>\n",
       "    <tr>\n",
       "      <th>221528</th>\n",
       "      <td>043935806X</td>\n",
       "      <td>Harry Potter and the Order of the Phoenix (Boo...</td>\n",
       "      <td>10</td>\n",
       "    </tr>\n",
       "    <tr>\n",
       "      <th>221529</th>\n",
       "      <td>043936213X</td>\n",
       "      <td>Harry Potter and the Sorcerer's Stone (Book 1)</td>\n",
       "      <td>10</td>\n",
       "    </tr>\n",
       "    <tr>\n",
       "      <th>221524</th>\n",
       "      <td>0140386335</td>\n",
       "      <td>The Neverending Story</td>\n",
       "      <td>9</td>\n",
       "    </tr>\n",
       "  </tbody>\n",
       "</table>\n",
       "</div>"
      ],
      "text/plain": [
       "              ISBN                                         Book-Title  \\\n",
       "221525  0439064872   Harry Potter and the Chamber of Secrets (Book 2)   \n",
       "221526  0439136369  Harry Potter and the Prisoner of Azkaban (Book 3)   \n",
       "221527  0439139597       Harry Potter and the Goblet of Fire (Book 4)   \n",
       "221528  043935806X  Harry Potter and the Order of the Phoenix (Boo...   \n",
       "221529  043936213X     Harry Potter and the Sorcerer's Stone (Book 1)   \n",
       "221524  0140386335                              The Neverending Story   \n",
       "\n",
       "        Book-Rating  \n",
       "221525           10  \n",
       "221526           10  \n",
       "221527           10  \n",
       "221528           10  \n",
       "221529           10  \n",
       "221524            9  "
      ]
     },
     "execution_count": 14,
     "metadata": {},
     "output_type": "execute_result"
    },
    {
     "name": "stdout",
     "output_type": "stream",
     "text": [
      "time: 27.3 ms (started: 2024-03-27 21:22:22 -03:00)\n"
     ]
    }
   ],
   "source": [
    "# #---- TOP 10 livros mais bem avaliados pelo usuário\n",
    "\n",
    "# df_train\\\n",
    "#     .query(f'`User-ID` == {user_id_rec}')\\\n",
    "#     .query(f'`Book-Rating` != 0')\\\n",
    "#     .sort_values(by = 'Book-Rating', ascending = False)[['ISBN', 'Book-Title', 'Book-Rating']]\\\n",
    "#     .drop_duplicates()\\\n",
    "#     .head(10)"
   ]
  },
  {
   "cell_type": "code",
   "execution_count": 15,
   "id": "ad2b6b3e-bdeb-41d6-abcc-a3ebf09685a4",
   "metadata": {},
   "outputs": [
    {
     "data": {
      "text/plain": [
       "['The Neverending Story',\n",
       " 'Harry Potter and the Chamber of Secrets (Book 2)',\n",
       " 'Harry Potter and the Prisoner of Azkaban (Book 3)',\n",
       " 'Harry Potter and the Goblet of Fire (Book 4)',\n",
       " 'Harry Potter and the Order of the Phoenix (Book 5)',\n",
       " \"Harry Potter and the Sorcerer's Stone (Book 1)\"]"
      ]
     },
     "execution_count": 15,
     "metadata": {},
     "output_type": "execute_result"
    },
    {
     "name": "stdout",
     "output_type": "stream",
     "text": [
      "time: 10.6 ms (started: 2024-03-27 21:22:22 -03:00)\n"
     ]
    }
   ],
   "source": [
    "# #---- Lista de ISBN que o usuário já leu\n",
    "\n",
    "# readed_isbn_by_user = df_train\\\n",
    "#     .query(f'`User-ID` == {user_id_rec}')['Book-Title']\\\n",
    "#     .unique()\\\n",
    "#     .tolist()\n",
    "\n",
    "# readed_isbn_by_user"
   ]
  },
  {
   "cell_type": "code",
   "execution_count": 16,
   "id": "3395b123-e47c-4012-9582-802e3cab2d74",
   "metadata": {},
   "outputs": [
    {
     "name": "stdout",
     "output_type": "stream",
     "text": [
      "time: 57.3 ms (started: 2024-03-27 21:22:22 -03:00)\n"
     ]
    }
   ],
   "source": [
    "# not_recommended_list_to_user = df_train\\\n",
    "#     .query(f'`Book-Title`.isin({readed_isbn_by_user})')['ISBN_ID_INT']\\\n",
    "#     .unique()\\\n",
    "#     .tolist()"
   ]
  },
  {
   "cell_type": "code",
   "execution_count": 17,
   "id": "bf2660f1-46c4-4fe1-8ac2-004f530067ba",
   "metadata": {},
   "outputs": [
    {
     "name": "stdout",
     "output_type": "stream",
     "text": [
      "Recomendações: (array([ 1623,   810,  1478,  2081,  2077, 19063,  2529,   200,  1316,\n",
      "         305], dtype=int32), array([0.6973636 , 0.3413098 , 0.31499463, 0.2582363 , 0.24672447,\n",
      "       0.24356365, 0.24171497, 0.23169836, 0.2124185 , 0.20761147],\n",
      "      dtype=float32))\n"
     ]
    },
    {
     "data": {
      "text/plain": [
       "array(['To Kill a Mockingbird', 'Fahrenheit 451',\n",
       "       'The Hobbit : The Enchanting Prelude to The Lord of the Rings',\n",
       "       'Angels &amp; Demons',\n",
       "       'The Fellowship of the Ring (The Lord of the Rings, Part 1)',\n",
       "       \"Harry Potter and the Sorcerer's Stone (Harry Potter (Paperback))\",\n",
       "       'The Catcher in the Rye',\n",
       "       'The Two Towers (The Lord of the Rings, Part 2)',\n",
       "       'The Bad Beginning (A Series of Unfortunate Events, Book 1)',\n",
       "       'The Return of the King (The Lord of the Rings, Part 3)'],\n",
       "      dtype=object)"
      ]
     },
     "execution_count": 17,
     "metadata": {},
     "output_type": "execute_result"
    },
    {
     "name": "stdout",
     "output_type": "stream",
     "text": [
      "time: 415 ms (started: 2024-03-27 21:22:22 -03:00)\n"
     ]
    }
   ],
   "source": [
    "# #---- Top10 recomendações para o usuário\n",
    "\n",
    "# recommendations = model.recommend(de_para_user_id_rec,\n",
    "#                                   train_data[de_para_user_id_rec], \n",
    "#                                   filter_already_liked_items = True,\n",
    "#                                   N = 10,\n",
    "#                                   filter_items = not_recommended_list_to_user)\n",
    "\n",
    "# print(f'Recomendações: {recommendations}')\n",
    "\n",
    "# list_recommendations = recommendations[0].tolist()\n",
    "\n",
    "# #---- De-para das recomendações para ISBN\n",
    "\n",
    "# # isbn_recommendations = df_train\\\n",
    "# #     .query(f'ISBN_ID_INT.isin({list_recommendations})')['ISBN']\\\n",
    "# #     .unique()\\\n",
    "# #     .tolist()\n",
    "\n",
    "# isbn_recommendations = list({k: v for k, v in de_para_isbn.items() if v in list_recommendations}.keys())\n",
    "\n",
    "# df_train\\\n",
    "#     .pipe(filter_list_ordered, \n",
    "#           col = 'ISBN', \n",
    "#           list_filter = isbn_recommendations)\\\n",
    "#     [['ISBN', 'Book-Title']]\\\n",
    "#     .drop_duplicates()['Book-Title'].unique()"
   ]
  },
  {
   "cell_type": "markdown",
   "id": "33a3aead-31da-4f61-a0fb-3e06433f7484",
   "metadata": {},
   "source": [
    "## 4. Avaliação das métricas"
   ]
  },
  {
   "cell_type": "code",
   "execution_count": 18,
   "id": "8ae007b5-776d-4ee5-885d-becf6c9356cf",
   "metadata": {},
   "outputs": [
    {
     "name": "stdout",
     "output_type": "stream",
     "text": [
      "time: 348 µs (started: 2024-03-27 21:22:23 -03:00)\n"
     ]
    }
   ],
   "source": [
    "# Criar uma função que olhe a coluna User-ID e faça as TOP N recomendações. Resultado: lista\n",
    "# Validar se dentro dessa lista de recomendações, está o livro-teste\n",
    "# Criaremos uma flag: se o livro está dentro das recomendações, 1, senão 0\n",
    "# Proporção dos valores 1 (Precision @ K)"
   ]
  },
  {
   "cell_type": "code",
   "execution_count": 32,
   "id": "a016c04d-b1f3-47f6-b734-bb5791812424",
   "metadata": {},
   "outputs": [
    {
     "name": "stdout",
     "output_type": "stream",
     "text": [
      "time: 873 µs (started: 2024-03-27 21:50:48 -03:00)\n"
     ]
    }
   ],
   "source": [
    "#---- Criando uma função para recomendar K itens a partir do nome do usuário\n",
    "\n",
    "def choose_books_als(user_id_to_rec: str, dict_de_para_user: dict, dict_de_para_isbn: dict, rec_matrix, n: int = 10):\n",
    "\n",
    "    # User_id para fazer a recomendação:\n",
    "\n",
    "    user_id_de_para = dict_de_para_user[user_id_to_rec]\n",
    "\n",
    "    recommendations = model.recommend(user_id_de_para,\n",
    "                                      rec_matrix[user_id_de_para], \n",
    "                                      filter_already_liked_items = True,\n",
    "                                      N = n)\n",
    "\n",
    "    list_recommendations = recommendations[0].tolist()\n",
    "\n",
    "    #---- De-para das recomendações para ISBN\n",
    "\n",
    "    isbn_recommendations = list({k: v for k, v in de_para_isbn.items() if v in list_recommendations}.keys())\n",
    "\n",
    "    return isbn_recommendations"
   ]
  },
  {
   "cell_type": "code",
   "execution_count": 33,
   "id": "282dba91-aeae-42b1-8d8f-87778200d501",
   "metadata": {},
   "outputs": [
    {
     "name": "stdout",
     "output_type": "stream",
     "text": [
      "1\n"
     ]
    },
    {
     "data": {
      "text/plain": [
       "['0446672211',\n",
       " '0385492081',\n",
       " '0804106304',\n",
       " '0440226430',\n",
       " '0671003755',\n",
       " '067976402X',\n",
       " '0060930535',\n",
       " '044021145X',\n",
       " '0375707972',\n",
       " '068484477X']"
      ]
     },
     "execution_count": 33,
     "metadata": {},
     "output_type": "execute_result"
    },
    {
     "name": "stdout",
     "output_type": "stream",
     "text": [
      "time: 41.3 ms (started: 2024-03-27 21:50:49 -03:00)\n"
     ]
    }
   ],
   "source": [
    "choose_books_als(user_id_to_rec = 276747,\n",
    "                 dict_de_para_user = de_para_user_id,\n",
    "                 dict_de_para_isbn = de_para_isbn,\n",
    "                 rec_matrix = train_data)"
   ]
  },
  {
   "cell_type": "code",
   "execution_count": 21,
   "id": "1ca2d84d-336c-476b-9e46-160b4991a0a7",
   "metadata": {},
   "outputs": [
    {
     "name": "stdout",
     "output_type": "stream",
     "text": [
      "time: 22.7 ms (started: 2024-03-27 21:22:23 -03:00)\n"
     ]
    }
   ],
   "source": [
    "# df_test_copy = df_test\\\n",
    "#     .sample(1000)"
   ]
  },
  {
   "cell_type": "code",
   "execution_count": 15,
   "id": "91f0b418-2142-42c8-878e-1d22de198a2e",
   "metadata": {},
   "outputs": [
    {
     "name": "stderr",
     "output_type": "stream",
     "text": [
      "Pandas Apply: 100%|███████████████████████| 22568/22568 [14:55<00:00, 25.19it/s]"
     ]
    },
    {
     "name": "stdout",
     "output_type": "stream",
     "text": [
      "time: 16min 38s (started: 2024-03-27 21:25:17 -03:00)\n"
     ]
    },
    {
     "name": "stderr",
     "output_type": "stream",
     "text": [
      "\n"
     ]
    }
   ],
   "source": [
    "df_test['TOP_N_RECOMMENDATIONS'] = df_test\\\n",
    "    .swifter.apply(lambda x: choose_books_als(user_id_to_rec = x['User-ID'], \n",
    "                                      dict_de_para_user = de_para_user_id,\n",
    "                                      dict_de_para_isbn = de_para_isbn,\n",
    "                                      rec_matrix = train_data), axis = 1)"
   ]
  },
  {
   "cell_type": "code",
   "execution_count": 17,
   "id": "b7b9da5b-cb6a-4f1a-afd5-af8900e3a39e",
   "metadata": {},
   "outputs": [
    {
     "data": {
      "text/html": [
       "<div>\n",
       "<style scoped>\n",
       "    .dataframe tbody tr th:only-of-type {\n",
       "        vertical-align: middle;\n",
       "    }\n",
       "\n",
       "    .dataframe tbody tr th {\n",
       "        vertical-align: top;\n",
       "    }\n",
       "\n",
       "    .dataframe thead th {\n",
       "        text-align: right;\n",
       "    }\n",
       "</style>\n",
       "<table border=\"1\" class=\"dataframe\">\n",
       "  <thead>\n",
       "    <tr style=\"text-align: right;\">\n",
       "      <th></th>\n",
       "      <th>User-ID</th>\n",
       "      <th>ISBN</th>\n",
       "      <th>Book-Rating</th>\n",
       "      <th>Book-Title</th>\n",
       "      <th>Book-Author</th>\n",
       "      <th>Year-Of-Publication</th>\n",
       "      <th>Publisher</th>\n",
       "      <th>Age</th>\n",
       "      <th>city</th>\n",
       "      <th>state</th>\n",
       "      <th>country</th>\n",
       "      <th>RN</th>\n",
       "      <th>TOP_N_RECOMMENDATIONS</th>\n",
       "    </tr>\n",
       "  </thead>\n",
       "  <tbody>\n",
       "    <tr>\n",
       "      <th>0</th>\n",
       "      <td>276747</td>\n",
       "      <td>1885408226</td>\n",
       "      <td>7</td>\n",
       "      <td>The Golden Rule of Schmoozing</td>\n",
       "      <td>Aye Jaye</td>\n",
       "      <td>1998</td>\n",
       "      <td>Listen &amp;amp; Live Audio</td>\n",
       "      <td>25.0</td>\n",
       "      <td>iowa city</td>\n",
       "      <td>iowa</td>\n",
       "      <td>usa</td>\n",
       "      <td>5</td>\n",
       "      <td>[0446672211, 0385492081, 0804106304, 044022643...</td>\n",
       "    </tr>\n",
       "    <tr>\n",
       "      <th>1</th>\n",
       "      <td>276762</td>\n",
       "      <td>N3453124715</td>\n",
       "      <td>4</td>\n",
       "      <td>None</td>\n",
       "      <td>None</td>\n",
       "      <td>None</td>\n",
       "      <td>None</td>\n",
       "      <td>25.0</td>\n",
       "      <td>duisburg</td>\n",
       "      <td>nordrhein-westfalen</td>\n",
       "      <td>germany</td>\n",
       "      <td>4</td>\n",
       "      <td>[0449221512, 0446610038, 0425163407, 044023722...</td>\n",
       "    </tr>\n",
       "    <tr>\n",
       "      <th>2</th>\n",
       "      <td>276772</td>\n",
       "      <td>3596151465</td>\n",
       "      <td>10</td>\n",
       "      <td>Henry der Held.</td>\n",
       "      <td>Roddy Doyle</td>\n",
       "      <td>2001</td>\n",
       "      <td>Fischer (Tb.), Frankfurt</td>\n",
       "      <td>NaN</td>\n",
       "      <td>bonn</td>\n",
       "      <td>nordrhein-westfalen</td>\n",
       "      <td>germany</td>\n",
       "      <td>3</td>\n",
       "      <td>[0061009059, 0811811409, 1400031354, 067100179...</td>\n",
       "    </tr>\n",
       "    <tr>\n",
       "      <th>3</th>\n",
       "      <td>276786</td>\n",
       "      <td>8478442588</td>\n",
       "      <td>6</td>\n",
       "      <td>El Elogio de La Sombra</td>\n",
       "      <td>Tanazaki</td>\n",
       "      <td>1998</td>\n",
       "      <td>Siruela</td>\n",
       "      <td>34.0</td>\n",
       "      <td>madrid</td>\n",
       "      <td>madrid</td>\n",
       "      <td>spain</td>\n",
       "      <td>4</td>\n",
       "      <td>[2266104535, 3257227809, 3404148665, 087352379...</td>\n",
       "    </tr>\n",
       "    <tr>\n",
       "      <th>4</th>\n",
       "      <td>276788</td>\n",
       "      <td>055310666X</td>\n",
       "      <td>10</td>\n",
       "      <td>False Memory</td>\n",
       "      <td>Dean R. Koontz</td>\n",
       "      <td>1999</td>\n",
       "      <td>Bantam Books</td>\n",
       "      <td>NaN</td>\n",
       "      <td>mentone</td>\n",
       "      <td>california</td>\n",
       "      <td>usa</td>\n",
       "      <td>3</td>\n",
       "      <td>[0345339681, 0439064872, 0439136369, 043913960...</td>\n",
       "    </tr>\n",
       "  </tbody>\n",
       "</table>\n",
       "</div>"
      ],
      "text/plain": [
       "   User-ID         ISBN  Book-Rating                     Book-Title  \\\n",
       "0   276747   1885408226            7  The Golden Rule of Schmoozing   \n",
       "1   276762  N3453124715            4                           None   \n",
       "2   276772   3596151465           10                Henry der Held.   \n",
       "3   276786   8478442588            6         El Elogio de La Sombra   \n",
       "4   276788   055310666X           10                   False Memory   \n",
       "\n",
       "      Book-Author Year-Of-Publication                 Publisher   Age  \\\n",
       "0        Aye Jaye                1998   Listen &amp; Live Audio  25.0   \n",
       "1            None                None                      None  25.0   \n",
       "2     Roddy Doyle                2001  Fischer (Tb.), Frankfurt   NaN   \n",
       "3        Tanazaki                1998                   Siruela  34.0   \n",
       "4  Dean R. Koontz                1999              Bantam Books   NaN   \n",
       "\n",
       "        city                 state   country  RN  \\\n",
       "0  iowa city                  iowa       usa   5   \n",
       "1   duisburg   nordrhein-westfalen   germany   4   \n",
       "2       bonn   nordrhein-westfalen   germany   3   \n",
       "3     madrid                madrid     spain   4   \n",
       "4    mentone            california       usa   3   \n",
       "\n",
       "                               TOP_N_RECOMMENDATIONS  \n",
       "0  [0446672211, 0385492081, 0804106304, 044022643...  \n",
       "1  [0449221512, 0446610038, 0425163407, 044023722...  \n",
       "2  [0061009059, 0811811409, 1400031354, 067100179...  \n",
       "3  [2266104535, 3257227809, 3404148665, 087352379...  \n",
       "4  [0345339681, 0439064872, 0439136369, 043913960...  "
      ]
     },
     "execution_count": 17,
     "metadata": {},
     "output_type": "execute_result"
    },
    {
     "name": "stdout",
     "output_type": "stream",
     "text": [
      "time: 29.4 ms (started: 2024-03-27 21:42:40 -03:00)\n"
     ]
    }
   ],
   "source": [
    "df_test\\\n",
    "    .head(5)"
   ]
  },
  {
   "cell_type": "markdown",
   "id": "61500f54-e69c-4d0e-af91-bb6231f1a0bb",
   "metadata": {},
   "source": [
    "## 5. Validando o Precision @  K"
   ]
  },
  {
   "cell_type": "code",
   "execution_count": 21,
   "id": "db3a218e-6d53-4dea-8b43-cfab91ec1468",
   "metadata": {},
   "outputs": [
    {
     "name": "stdout",
     "output_type": "stream",
     "text": [
      "time: 1.77 ms (started: 2024-03-27 21:46:21 -03:00)\n"
     ]
    }
   ],
   "source": [
    "def calculate_precision_k_als(df: pd.DataFrame, col_books: str):\n",
    "\n",
    "    df['flag_recommendations'] = df.apply(lambda x: x[col_books] in x['TOP_N_RECOMMENDATIONS'], axis = 1)\n",
    "\n",
    "    value_precision_k = df.query('flag_recommendations == 1').shape[0] / df.shape[0] * 100\n",
    "\n",
    "    precision_k = 0 if value_precision_k == 0 else value_precision_k\n",
    "\n",
    "    return df, precision_k"
   ]
  },
  {
   "cell_type": "code",
   "execution_count": 24,
   "id": "1c5e0e9f-a939-41f6-9d13-7da27b31e148",
   "metadata": {},
   "outputs": [
    {
     "data": {
      "text/html": [
       "<div>\n",
       "<style scoped>\n",
       "    .dataframe tbody tr th:only-of-type {\n",
       "        vertical-align: middle;\n",
       "    }\n",
       "\n",
       "    .dataframe tbody tr th {\n",
       "        vertical-align: top;\n",
       "    }\n",
       "\n",
       "    .dataframe thead th {\n",
       "        text-align: right;\n",
       "    }\n",
       "</style>\n",
       "<table border=\"1\" class=\"dataframe\">\n",
       "  <thead>\n",
       "    <tr style=\"text-align: right;\">\n",
       "      <th></th>\n",
       "      <th>User-ID</th>\n",
       "      <th>ISBN</th>\n",
       "      <th>Book-Rating</th>\n",
       "      <th>Book-Title</th>\n",
       "      <th>Book-Author</th>\n",
       "      <th>Year-Of-Publication</th>\n",
       "      <th>Publisher</th>\n",
       "      <th>Age</th>\n",
       "      <th>city</th>\n",
       "      <th>state</th>\n",
       "      <th>country</th>\n",
       "      <th>RN</th>\n",
       "      <th>TOP_N_RECOMMENDATIONS</th>\n",
       "      <th>flag_recommendations</th>\n",
       "    </tr>\n",
       "  </thead>\n",
       "  <tbody>\n",
       "    <tr>\n",
       "      <th>0</th>\n",
       "      <td>276747</td>\n",
       "      <td>1885408226</td>\n",
       "      <td>7</td>\n",
       "      <td>The Golden Rule of Schmoozing</td>\n",
       "      <td>Aye Jaye</td>\n",
       "      <td>1998</td>\n",
       "      <td>Listen &amp;amp; Live Audio</td>\n",
       "      <td>25.0</td>\n",
       "      <td>iowa city</td>\n",
       "      <td>iowa</td>\n",
       "      <td>usa</td>\n",
       "      <td>5</td>\n",
       "      <td>[0446672211, 0385492081, 0804106304, 044022643...</td>\n",
       "      <td>False</td>\n",
       "    </tr>\n",
       "    <tr>\n",
       "      <th>1</th>\n",
       "      <td>276762</td>\n",
       "      <td>N3453124715</td>\n",
       "      <td>4</td>\n",
       "      <td>None</td>\n",
       "      <td>None</td>\n",
       "      <td>None</td>\n",
       "      <td>None</td>\n",
       "      <td>25.0</td>\n",
       "      <td>duisburg</td>\n",
       "      <td>nordrhein-westfalen</td>\n",
       "      <td>germany</td>\n",
       "      <td>4</td>\n",
       "      <td>[0449221512, 0446610038, 0425163407, 044023722...</td>\n",
       "      <td>False</td>\n",
       "    </tr>\n",
       "    <tr>\n",
       "      <th>2</th>\n",
       "      <td>276772</td>\n",
       "      <td>3596151465</td>\n",
       "      <td>10</td>\n",
       "      <td>Henry der Held.</td>\n",
       "      <td>Roddy Doyle</td>\n",
       "      <td>2001</td>\n",
       "      <td>Fischer (Tb.), Frankfurt</td>\n",
       "      <td>NaN</td>\n",
       "      <td>bonn</td>\n",
       "      <td>nordrhein-westfalen</td>\n",
       "      <td>germany</td>\n",
       "      <td>3</td>\n",
       "      <td>[0061009059, 0811811409, 1400031354, 067100179...</td>\n",
       "      <td>False</td>\n",
       "    </tr>\n",
       "    <tr>\n",
       "      <th>3</th>\n",
       "      <td>276786</td>\n",
       "      <td>8478442588</td>\n",
       "      <td>6</td>\n",
       "      <td>El Elogio de La Sombra</td>\n",
       "      <td>Tanazaki</td>\n",
       "      <td>1998</td>\n",
       "      <td>Siruela</td>\n",
       "      <td>34.0</td>\n",
       "      <td>madrid</td>\n",
       "      <td>madrid</td>\n",
       "      <td>spain</td>\n",
       "      <td>4</td>\n",
       "      <td>[2266104535, 3257227809, 3404148665, 087352379...</td>\n",
       "      <td>False</td>\n",
       "    </tr>\n",
       "    <tr>\n",
       "      <th>4</th>\n",
       "      <td>276788</td>\n",
       "      <td>055310666X</td>\n",
       "      <td>10</td>\n",
       "      <td>False Memory</td>\n",
       "      <td>Dean R. Koontz</td>\n",
       "      <td>1999</td>\n",
       "      <td>Bantam Books</td>\n",
       "      <td>NaN</td>\n",
       "      <td>mentone</td>\n",
       "      <td>california</td>\n",
       "      <td>usa</td>\n",
       "      <td>3</td>\n",
       "      <td>[0345339681, 0439064872, 0439136369, 043913960...</td>\n",
       "      <td>False</td>\n",
       "    </tr>\n",
       "    <tr>\n",
       "      <th>...</th>\n",
       "      <td>...</td>\n",
       "      <td>...</td>\n",
       "      <td>...</td>\n",
       "      <td>...</td>\n",
       "      <td>...</td>\n",
       "      <td>...</td>\n",
       "      <td>...</td>\n",
       "      <td>...</td>\n",
       "      <td>...</td>\n",
       "      <td>...</td>\n",
       "      <td>...</td>\n",
       "      <td>...</td>\n",
       "      <td>...</td>\n",
       "      <td>...</td>\n",
       "    </tr>\n",
       "    <tr>\n",
       "      <th>22563</th>\n",
       "      <td>276680</td>\n",
       "      <td>1931561648</td>\n",
       "      <td>9</td>\n",
       "      <td>The Time Traveler's Wife (Today Show Book Club...</td>\n",
       "      <td>Audrey Niffenegger</td>\n",
       "      <td>2003</td>\n",
       "      <td>MacAdam/Cage Publishing</td>\n",
       "      <td>55.0</td>\n",
       "      <td>hopewell junction</td>\n",
       "      <td>new york</td>\n",
       "      <td>usa</td>\n",
       "      <td>91</td>\n",
       "      <td>[0452282152, 0446672211, 0060934417, 067102736...</td>\n",
       "      <td>False</td>\n",
       "    </tr>\n",
       "    <tr>\n",
       "      <th>22564</th>\n",
       "      <td>276681</td>\n",
       "      <td>1931333246</td>\n",
       "      <td>10</td>\n",
       "      <td>Chorus</td>\n",
       "      <td>Kurt Messick</td>\n",
       "      <td>2003</td>\n",
       "      <td>Dry Bones Press</td>\n",
       "      <td>43.0</td>\n",
       "      <td>chicago</td>\n",
       "      <td>illinois</td>\n",
       "      <td>usa</td>\n",
       "      <td>11</td>\n",
       "      <td>[0385504209, 0312195516, 0399501487, 031666634...</td>\n",
       "      <td>False</td>\n",
       "    </tr>\n",
       "    <tr>\n",
       "      <th>22565</th>\n",
       "      <td>276683</td>\n",
       "      <td>0553278231</td>\n",
       "      <td>9</td>\n",
       "      <td>Cannery Row</td>\n",
       "      <td>John Steinbeck</td>\n",
       "      <td>1986</td>\n",
       "      <td>Bantam Books</td>\n",
       "      <td>NaN</td>\n",
       "      <td>charlotte</td>\n",
       "      <td>north carolina</td>\n",
       "      <td>usa</td>\n",
       "      <td>3</td>\n",
       "      <td>[0345337662, 0345350499, 0380789035, 034531386...</td>\n",
       "      <td>False</td>\n",
       "    </tr>\n",
       "    <tr>\n",
       "      <th>22566</th>\n",
       "      <td>276688</td>\n",
       "      <td>1575660792</td>\n",
       "      <td>7</td>\n",
       "      <td>Gray Matter</td>\n",
       "      <td>Shirley Kennett</td>\n",
       "      <td>1996</td>\n",
       "      <td>Kensington Publishing Corporation</td>\n",
       "      <td>NaN</td>\n",
       "      <td>fort lee</td>\n",
       "      <td>new jersey</td>\n",
       "      <td>usa</td>\n",
       "      <td>29</td>\n",
       "      <td>[0061009059, 0553280368, 0312980140, 055328034...</td>\n",
       "      <td>False</td>\n",
       "    </tr>\n",
       "    <tr>\n",
       "      <th>22567</th>\n",
       "      <td>276704</td>\n",
       "      <td>1563526298</td>\n",
       "      <td>9</td>\n",
       "      <td>Get Clark Smart : The Ultimate Guide for the S...</td>\n",
       "      <td>Clark Howard</td>\n",
       "      <td>2000</td>\n",
       "      <td>Longstreet Press</td>\n",
       "      <td>NaN</td>\n",
       "      <td>cedar park</td>\n",
       "      <td>texas</td>\n",
       "      <td>usa</td>\n",
       "      <td>5</td>\n",
       "      <td>[0451167317, 0440224675, 0345417623, 037550439...</td>\n",
       "      <td>False</td>\n",
       "    </tr>\n",
       "  </tbody>\n",
       "</table>\n",
       "<p>22568 rows × 14 columns</p>\n",
       "</div>"
      ],
      "text/plain": [
       "       User-ID         ISBN  Book-Rating  \\\n",
       "0       276747   1885408226            7   \n",
       "1       276762  N3453124715            4   \n",
       "2       276772   3596151465           10   \n",
       "3       276786   8478442588            6   \n",
       "4       276788   055310666X           10   \n",
       "...        ...          ...          ...   \n",
       "22563   276680   1931561648            9   \n",
       "22564   276681   1931333246           10   \n",
       "22565   276683   0553278231            9   \n",
       "22566   276688   1575660792            7   \n",
       "22567   276704   1563526298            9   \n",
       "\n",
       "                                              Book-Title         Book-Author  \\\n",
       "0                          The Golden Rule of Schmoozing            Aye Jaye   \n",
       "1                                                   None                None   \n",
       "2                                        Henry der Held.         Roddy Doyle   \n",
       "3                                 El Elogio de La Sombra            Tanazaki   \n",
       "4                                           False Memory      Dean R. Koontz   \n",
       "...                                                  ...                 ...   \n",
       "22563  The Time Traveler's Wife (Today Show Book Club...  Audrey Niffenegger   \n",
       "22564                                             Chorus        Kurt Messick   \n",
       "22565                                        Cannery Row      John Steinbeck   \n",
       "22566                                        Gray Matter     Shirley Kennett   \n",
       "22567  Get Clark Smart : The Ultimate Guide for the S...        Clark Howard   \n",
       "\n",
       "      Year-Of-Publication                          Publisher   Age  \\\n",
       "0                    1998            Listen &amp; Live Audio  25.0   \n",
       "1                    None                               None  25.0   \n",
       "2                    2001           Fischer (Tb.), Frankfurt   NaN   \n",
       "3                    1998                            Siruela  34.0   \n",
       "4                    1999                       Bantam Books   NaN   \n",
       "...                   ...                                ...   ...   \n",
       "22563                2003            MacAdam/Cage Publishing  55.0   \n",
       "22564                2003                    Dry Bones Press  43.0   \n",
       "22565                1986                       Bantam Books   NaN   \n",
       "22566                1996  Kensington Publishing Corporation   NaN   \n",
       "22567                2000                   Longstreet Press   NaN   \n",
       "\n",
       "                    city                 state   country  RN  \\\n",
       "0              iowa city                  iowa       usa   5   \n",
       "1               duisburg   nordrhein-westfalen   germany   4   \n",
       "2                   bonn   nordrhein-westfalen   germany   3   \n",
       "3                 madrid                madrid     spain   4   \n",
       "4                mentone            california       usa   3   \n",
       "...                  ...                   ...       ...  ..   \n",
       "22563  hopewell junction              new york       usa  91   \n",
       "22564            chicago              illinois       usa  11   \n",
       "22565          charlotte        north carolina       usa   3   \n",
       "22566           fort lee            new jersey       usa  29   \n",
       "22567         cedar park                 texas       usa   5   \n",
       "\n",
       "                                   TOP_N_RECOMMENDATIONS  flag_recommendations  \n",
       "0      [0446672211, 0385492081, 0804106304, 044022643...                 False  \n",
       "1      [0449221512, 0446610038, 0425163407, 044023722...                 False  \n",
       "2      [0061009059, 0811811409, 1400031354, 067100179...                 False  \n",
       "3      [2266104535, 3257227809, 3404148665, 087352379...                 False  \n",
       "4      [0345339681, 0439064872, 0439136369, 043913960...                 False  \n",
       "...                                                  ...                   ...  \n",
       "22563  [0452282152, 0446672211, 0060934417, 067102736...                 False  \n",
       "22564  [0385504209, 0312195516, 0399501487, 031666634...                 False  \n",
       "22565  [0345337662, 0345350499, 0380789035, 034531386...                 False  \n",
       "22566  [0061009059, 0553280368, 0312980140, 055328034...                 False  \n",
       "22567  [0451167317, 0440224675, 0345417623, 037550439...                 False  \n",
       "\n",
       "[22568 rows x 14 columns]"
      ]
     },
     "execution_count": 24,
     "metadata": {},
     "output_type": "execute_result"
    },
    {
     "name": "stdout",
     "output_type": "stream",
     "text": [
      "time: 288 ms (started: 2024-03-27 21:47:21 -03:00)\n"
     ]
    }
   ],
   "source": [
    "calculate_precision_k_als(df = df_test, col_books = 'Book-Title')[0]"
   ]
  },
  {
   "cell_type": "markdown",
   "id": "f9b4ee29-1f4e-4e26-814d-ea8725a2d1fa",
   "metadata": {},
   "source": [
    "# Para a próxima rodada de estudo:\n",
    "\n",
    "- Otimizar o código\n",
    "- Continuar a avaliação da métrica"
   ]
  },
  {
   "cell_type": "markdown",
   "id": "b1681ac7-2282-4e0a-bcd4-f2b8f7d9ec5c",
   "metadata": {},
   "source": [
    "# TO-DO's\n",
    "\n",
    "- Ler um pouco mais sobre a teoria do ALS\n",
    "- Criar um código que exclua o primeiro item da recomendação do usuário"
   ]
  },
  {
   "cell_type": "markdown",
   "id": "d32be969-11eb-4a50-94a8-513469847d7a",
   "metadata": {},
   "source": [
    "# Validações"
   ]
  },
  {
   "cell_type": "code",
   "execution_count": null,
   "id": "1569e068-0507-459d-b371-55334394d773",
   "metadata": {},
   "outputs": [],
   "source": [
    "df_train['FLAG_HP'] = np.where(df_train['Book-Title'].str.contains('Potter'), 1, 0)"
   ]
  },
  {
   "cell_type": "code",
   "execution_count": null,
   "id": "1d580b91-35cf-49e7-9903-70d410b6fa67",
   "metadata": {},
   "outputs": [],
   "source": [
    "test = df_train[['User-ID', 'FLAG_HP']]\\\n",
    "    .value_counts()\\\n",
    "    .reset_index()\\\n",
    "    .sort_values(by = ['User-ID', 'FLAG_HP'])\n",
    "\n",
    "test['percent'] = test['count'] / test.groupby('User-ID')['count'].transform('sum') * 100\n",
    "\n",
    "test\\\n",
    "    .sort_values(by = 'percent', ascending = False)\\\n",
    "    .query('FLAG_HP == 1 & count >= 3')\\\n",
    "    .head(20)"
   ]
  },
  {
   "cell_type": "code",
   "execution_count": null,
   "id": "194d9904-2702-4ffa-a6cd-fbc2f7eea79d",
   "metadata": {},
   "outputs": [],
   "source": [
    "df_train\\\n",
    "    .query('`User-ID` == 252829')\\\n",
    "    .sort_values(by = 'Book-Title')"
   ]
  },
  {
   "cell_type": "code",
   "execution_count": null,
   "id": "b21ae3ba-3c89-4b60-969f-79910fe5b91b",
   "metadata": {},
   "outputs": [],
   "source": []
  }
 ],
 "metadata": {
  "kernelspec": {
   "display_name": "Python 3 (ipykernel)",
   "language": "python",
   "name": "python3"
  },
  "language_info": {
   "codemirror_mode": {
    "name": "ipython",
    "version": 3
   },
   "file_extension": ".py",
   "mimetype": "text/x-python",
   "name": "python",
   "nbconvert_exporter": "python",
   "pygments_lexer": "ipython3",
   "version": "3.10.12"
  }
 },
 "nbformat": 4,
 "nbformat_minor": 5
}
