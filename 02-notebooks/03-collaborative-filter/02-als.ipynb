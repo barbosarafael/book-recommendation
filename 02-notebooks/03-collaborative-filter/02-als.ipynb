{
 "cells": [
  {
   "cell_type": "markdown",
   "id": "0d0c88a0-a174-428c-b8d1-16a230cf2c10",
   "metadata": {},
   "source": [
    "## ALS"
   ]
  },
  {
   "cell_type": "markdown",
   "id": "0b0895c2-1fd3-454c-a649-8b65e9de0718",
   "metadata": {},
   "source": [
    "## 0. Setup"
   ]
  },
  {
   "cell_type": "code",
   "execution_count": 1,
   "id": "f8e33445-0ade-4247-8b79-366f0334d705",
   "metadata": {},
   "outputs": [
    {
     "name": "stderr",
     "output_type": "stream",
     "text": [
      "/home/rafa/Documentos/github/book-recommendation/venv/lib/python3.10/site-packages/tqdm/auto.py:21: TqdmWarning: IProgress not found. Please update jupyter and ipywidgets. See https://ipywidgets.readthedocs.io/en/stable/user_install.html\n",
      "  from .autonotebook import tqdm as notebook_tqdm\n"
     ]
    }
   ],
   "source": [
    "#---- Bibliotecas:\n",
    "\n",
    "# Análise e manipulação de dados:\n",
    "\n",
    "import pandas as pd\n",
    "import numpy as np\n",
    "\n",
    "# Visualização de dados:\n",
    "\n",
    "import plotly.io as pio\n",
    "import plotly.express as px\n",
    "\n",
    "# Manuseio nos dados\n",
    "\n",
    "from os import chdir\n",
    "\n",
    "# ALS\n",
    "\n",
    "from implicit import als"
   ]
  },
  {
   "cell_type": "code",
   "execution_count": 2,
   "id": "618182d6-1b39-419c-9565-f67895e2fdea",
   "metadata": {},
   "outputs": [],
   "source": [
    "#---- Mudando o diretório raiz para a pasta principal do projeto\n",
    "\n",
    "chdir('../../')\n",
    "\n",
    "#---- Template dos gráficos:\n",
    "\n",
    "pio.templates.default = \"plotly_white\"\n",
    "\n",
    "#---- Carregando as funções\n",
    "\n",
    "from functions import *"
   ]
  },
  {
   "cell_type": "markdown",
   "id": "9fbf7e14-c725-47fe-bf83-98e4fd5b3111",
   "metadata": {},
   "source": [
    "## 1. Extração dos dados"
   ]
  },
  {
   "cell_type": "code",
   "execution_count": 3,
   "id": "2758b971-880e-4de0-aa84-726fac4d4995",
   "metadata": {},
   "outputs": [
    {
     "data": {
      "text/plain": [
       "<22568x158235 sparse matrix of type '<class 'numpy.int64'>'\n",
       "\twith 346011 stored elements in Compressed Sparse Row format>"
      ]
     },
     "execution_count": 3,
     "metadata": {},
     "output_type": "execute_result"
    }
   ],
   "source": [
    "#---- Dados de treino\n",
    "\n",
    "train_data = load_sparse_csr('03-data/02-processed/04-ALS-train-data.npz')\n",
    "\n",
    "train_data"
   ]
  },
  {
   "cell_type": "code",
   "execution_count": 4,
   "id": "29e69a6c-126a-4255-90c6-83bf0b58b79b",
   "metadata": {},
   "outputs": [
    {
     "data": {
      "text/html": [
       "<div>\n",
       "<style scoped>\n",
       "    .dataframe tbody tr th:only-of-type {\n",
       "        vertical-align: middle;\n",
       "    }\n",
       "\n",
       "    .dataframe tbody tr th {\n",
       "        vertical-align: top;\n",
       "    }\n",
       "\n",
       "    .dataframe thead th {\n",
       "        text-align: right;\n",
       "    }\n",
       "</style>\n",
       "<table border=\"1\" class=\"dataframe\">\n",
       "  <thead>\n",
       "    <tr style=\"text-align: right;\">\n",
       "      <th></th>\n",
       "      <th>User-ID</th>\n",
       "      <th>ISBN</th>\n",
       "      <th>Book-Rating</th>\n",
       "      <th>Book-Title</th>\n",
       "      <th>Book-Author</th>\n",
       "      <th>Year-Of-Publication</th>\n",
       "      <th>Publisher</th>\n",
       "      <th>Age</th>\n",
       "      <th>city</th>\n",
       "      <th>state</th>\n",
       "      <th>country</th>\n",
       "      <th>RN</th>\n",
       "    </tr>\n",
       "  </thead>\n",
       "  <tbody>\n",
       "    <tr>\n",
       "      <th>0</th>\n",
       "      <td>276747</td>\n",
       "      <td>1885408226</td>\n",
       "      <td>7</td>\n",
       "      <td>The Golden Rule of Schmoozing</td>\n",
       "      <td>Aye Jaye</td>\n",
       "      <td>1998</td>\n",
       "      <td>Listen &amp;amp; Live Audio</td>\n",
       "      <td>25.0</td>\n",
       "      <td>iowa city</td>\n",
       "      <td>iowa</td>\n",
       "      <td>usa</td>\n",
       "      <td>5</td>\n",
       "    </tr>\n",
       "    <tr>\n",
       "      <th>1</th>\n",
       "      <td>276762</td>\n",
       "      <td>N3453124715</td>\n",
       "      <td>4</td>\n",
       "      <td>None</td>\n",
       "      <td>None</td>\n",
       "      <td>None</td>\n",
       "      <td>None</td>\n",
       "      <td>25.0</td>\n",
       "      <td>duisburg</td>\n",
       "      <td>nordrhein-westfalen</td>\n",
       "      <td>germany</td>\n",
       "      <td>4</td>\n",
       "    </tr>\n",
       "    <tr>\n",
       "      <th>2</th>\n",
       "      <td>276772</td>\n",
       "      <td>3596151465</td>\n",
       "      <td>10</td>\n",
       "      <td>Henry der Held.</td>\n",
       "      <td>Roddy Doyle</td>\n",
       "      <td>2001</td>\n",
       "      <td>Fischer (Tb.), Frankfurt</td>\n",
       "      <td>NaN</td>\n",
       "      <td>bonn</td>\n",
       "      <td>nordrhein-westfalen</td>\n",
       "      <td>germany</td>\n",
       "      <td>3</td>\n",
       "    </tr>\n",
       "    <tr>\n",
       "      <th>3</th>\n",
       "      <td>276786</td>\n",
       "      <td>8478442588</td>\n",
       "      <td>6</td>\n",
       "      <td>El Elogio de La Sombra</td>\n",
       "      <td>Tanazaki</td>\n",
       "      <td>1998</td>\n",
       "      <td>Siruela</td>\n",
       "      <td>34.0</td>\n",
       "      <td>madrid</td>\n",
       "      <td>madrid</td>\n",
       "      <td>spain</td>\n",
       "      <td>4</td>\n",
       "    </tr>\n",
       "    <tr>\n",
       "      <th>4</th>\n",
       "      <td>276788</td>\n",
       "      <td>055310666X</td>\n",
       "      <td>10</td>\n",
       "      <td>False Memory</td>\n",
       "      <td>Dean R. Koontz</td>\n",
       "      <td>1999</td>\n",
       "      <td>Bantam Books</td>\n",
       "      <td>NaN</td>\n",
       "      <td>mentone</td>\n",
       "      <td>california</td>\n",
       "      <td>usa</td>\n",
       "      <td>3</td>\n",
       "    </tr>\n",
       "  </tbody>\n",
       "</table>\n",
       "</div>"
      ],
      "text/plain": [
       "   User-ID         ISBN  Book-Rating                     Book-Title  \\\n",
       "0   276747   1885408226            7  The Golden Rule of Schmoozing   \n",
       "1   276762  N3453124715            4                           None   \n",
       "2   276772   3596151465           10                Henry der Held.   \n",
       "3   276786   8478442588            6         El Elogio de La Sombra   \n",
       "4   276788   055310666X           10                   False Memory   \n",
       "\n",
       "      Book-Author Year-Of-Publication                 Publisher   Age  \\\n",
       "0        Aye Jaye                1998   Listen &amp; Live Audio  25.0   \n",
       "1            None                None                      None  25.0   \n",
       "2     Roddy Doyle                2001  Fischer (Tb.), Frankfurt   NaN   \n",
       "3        Tanazaki                1998                   Siruela  34.0   \n",
       "4  Dean R. Koontz                1999              Bantam Books   NaN   \n",
       "\n",
       "        city                 state   country  RN  \n",
       "0  iowa city                  iowa       usa   5  \n",
       "1   duisburg   nordrhein-westfalen   germany   4  \n",
       "2       bonn   nordrhein-westfalen   germany   3  \n",
       "3     madrid                madrid     spain   4  \n",
       "4    mentone            california       usa   3  "
      ]
     },
     "execution_count": 4,
     "metadata": {},
     "output_type": "execute_result"
    }
   ],
   "source": [
    "#---- Dados de teste\n",
    "\n",
    "test_data = pd.read_parquet('03-data/02-processed/02-test_data.parquet')\n",
    "\n",
    "test_data.head()"
   ]
  },
  {
   "cell_type": "code",
   "execution_count": 5,
   "id": "1fcee8c7-286e-4045-8ec2-765963491577",
   "metadata": {},
   "outputs": [
    {
     "name": "stdout",
     "output_type": "stream",
     "text": [
      "<class 'pandas.core.frame.DataFrame'>\n",
      "RangeIndex: 22568 entries, 0 to 22567\n",
      "Data columns (total 12 columns):\n",
      " #   Column               Non-Null Count  Dtype  \n",
      "---  ------               --------------  -----  \n",
      " 0   User-ID              22568 non-null  int64  \n",
      " 1   ISBN                 22568 non-null  object \n",
      " 2   Book-Rating          22568 non-null  int64  \n",
      " 3   Book-Title           18886 non-null  object \n",
      " 4   Book-Author          18886 non-null  object \n",
      " 5   Year-Of-Publication  18886 non-null  object \n",
      " 6   Publisher            18886 non-null  object \n",
      " 7   Age                  15357 non-null  float64\n",
      " 8   city                 22568 non-null  object \n",
      " 9   state                22568 non-null  object \n",
      " 10  country              22568 non-null  object \n",
      " 11  RN                   22568 non-null  int64  \n",
      "dtypes: float64(1), int64(3), object(8)\n",
      "memory usage: 2.1+ MB\n"
     ]
    }
   ],
   "source": [
    "test_data.info()"
   ]
  },
  {
   "cell_type": "code",
   "execution_count": 6,
   "id": "87a7da13-e436-48ff-a71d-c7df249a6b33",
   "metadata": {},
   "outputs": [],
   "source": [
    "#---- De-para's:\n",
    "\n",
    "de_para_isbn = pd.read_parquet('03-data/02-processed/05-ALS-DE-PARA-ISBN.parquet')\n",
    "de_para_user = pd.read_parquet('03-data/02-processed/06-ALS-DE-PARA-USER.parquet')"
   ]
  },
  {
   "cell_type": "markdown",
   "id": "defd2953-ac2c-480e-bce8-4ff0db1d7f22",
   "metadata": {},
   "source": [
    "## 2. Modelagem"
   ]
  },
  {
   "cell_type": "code",
   "execution_count": 7,
   "id": "0daad1dc-d43a-4bfe-b478-adae8bcc2977",
   "metadata": {},
   "outputs": [
    {
     "name": "stderr",
     "output_type": "stream",
     "text": [
      "/home/rafa/Documentos/github/book-recommendation/venv/lib/python3.10/site-packages/implicit/cpu/als.py:95: RuntimeWarning: OpenBLAS is configured to use 8 threads. It is highly recommended to disable its internal threadpool by setting the environment variable 'OPENBLAS_NUM_THREADS=1' or by calling 'threadpoolctl.threadpool_limits(1, \"blas\")'. Having OpenBLAS use a threadpool can lead to severe performance issues here.\n",
      "  check_blas_config()\n"
     ]
    },
    {
     "data": {
      "text/plain": [
       "<implicit.cpu.als.AlternatingLeastSquares at 0x7f09dab88dc0>"
      ]
     },
     "execution_count": 7,
     "metadata": {},
     "output_type": "execute_result"
    }
   ],
   "source": [
    "model = als.AlternatingLeastSquares(factors = 50)\n",
    "\n",
    "model"
   ]
  },
  {
   "cell_type": "code",
   "execution_count": 8,
   "id": "3bbe802b-58ce-44e2-9c71-c20c2d57ecae",
   "metadata": {},
   "outputs": [
    {
     "name": "stderr",
     "output_type": "stream",
     "text": [
      "100%|███████████████████████████████████████████| 15/15 [00:35<00:00,  2.38s/it]\n"
     ]
    }
   ],
   "source": [
    "model.fit(train_data)"
   ]
  },
  {
   "cell_type": "code",
   "execution_count": 10,
   "id": "ed91647c-0811-416d-b5ed-fc80b20b3940",
   "metadata": {},
   "outputs": [
    {
     "data": {
      "text/plain": [
       "2"
      ]
     },
     "execution_count": 10,
     "metadata": {},
     "output_type": "execute_result"
    }
   ],
   "source": [
    "user_id_rec = 22406\n",
    "\n",
    "de_para_user_id_rec = de_para_user.query(f'`User-ID` == {user_id_rec}')['INDEX'].iloc[0]\n",
    "de_para_user_id_rec"
   ]
  },
  {
   "cell_type": "code",
   "execution_count": 11,
   "id": "22bff452-95f4-4fb9-8a8c-50fe251a4dbd",
   "metadata": {},
   "outputs": [
    {
     "data": {
      "text/plain": [
       "(array([    2, 14342, 15528,   665, 19734,  3827, 18639, 16812, 21281,\n",
       "         8393], dtype=int32),\n",
       " array([1.0000001 , 0.84841084, 0.59876746, 0.5863348 , 0.58539367,\n",
       "        0.5799726 , 0.56359124, 0.5616552 , 0.5486857 , 0.5469215 ],\n",
       "       dtype=float32))"
      ]
     },
     "execution_count": 11,
     "metadata": {},
     "output_type": "execute_result"
    }
   ],
   "source": [
    "#---- Recomendação para um usuário:\n",
    "\n",
    "recommendations = model.similar_users(userid = de_para_user_id_rec, N = 10)\n",
    "\n",
    "recommendations"
   ]
  },
  {
   "cell_type": "code",
   "execution_count": 12,
   "id": "5a943c1e-3c2f-483f-b767-ced74312c74d",
   "metadata": {},
   "outputs": [
    {
     "data": {
      "text/plain": [
       "158230"
      ]
     },
     "execution_count": 12,
     "metadata": {},
     "output_type": "execute_result"
    }
   ],
   "source": [
    "isnb_rec = 47405\n",
    "de_para_isbn_rec = de_para_isbn.query(f'`ISBN` == {isnb_rec}')['INDEX'].iloc[0]\n",
    "de_para_isbn_rec"
   ]
  },
  {
   "cell_type": "code",
   "execution_count": 13,
   "id": "442b5091-b55c-444a-839c-356e428c2e08",
   "metadata": {},
   "outputs": [
    {
     "data": {
      "text/plain": [
       "(array([74161,  2030,  1907,  1614,  1491,  1356,  1347,  1193,   424,\n",
       "          243], dtype=int32),\n",
       " array([1.0000001, 1.0000001, 1.0000001, 1.0000001, 1.0000001, 1.0000001,\n",
       "        1.0000001, 1.0000001, 1.0000001, 1.0000001], dtype=float32))"
      ]
     },
     "execution_count": 13,
     "metadata": {},
     "output_type": "execute_result"
    }
   ],
   "source": [
    "#---- Recomendação para um item:\n",
    "\n",
    "recommendations = model.similar_items(itemid = de_para_isbn_rec)\n",
    "\n",
    "recommendations"
   ]
  },
  {
   "cell_type": "markdown",
   "id": "b1681ac7-2282-4e0a-bcd4-f2b8f7d9ec5c",
   "metadata": {},
   "source": [
    "# TO-DO's\n",
    "\n",
    "- Ler um pouco mais sobre a teoria do ALS\n",
    "- Criar um código que exclua o primeiro item da recomendação do usuário"
   ]
  },
  {
   "cell_type": "code",
   "execution_count": null,
   "id": "b48209d3-e85c-42ac-8650-a16e6ae32c8d",
   "metadata": {},
   "outputs": [],
   "source": []
  }
 ],
 "metadata": {
  "kernelspec": {
   "display_name": "Python 3 (ipykernel)",
   "language": "python",
   "name": "python3"
  },
  "language_info": {
   "codemirror_mode": {
    "name": "ipython",
    "version": 3
   },
   "file_extension": ".py",
   "mimetype": "text/x-python",
   "name": "python",
   "nbconvert_exporter": "python",
   "pygments_lexer": "ipython3",
   "version": "3.10.6"
  }
 },
 "nbformat": 4,
 "nbformat_minor": 5
}
