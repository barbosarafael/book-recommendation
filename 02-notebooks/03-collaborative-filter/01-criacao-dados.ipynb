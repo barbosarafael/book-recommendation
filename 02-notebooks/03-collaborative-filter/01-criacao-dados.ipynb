{
 "cells": [
  {
   "cell_type": "markdown",
   "id": "87ce32ce-36ed-42f1-853b-01cf6de5e31f",
   "metadata": {},
   "source": [
    "# Criação dos dados para o filtro colaborativo\n",
    "\n",
    "**Link**: https://github.com/benfred/implicit"
   ]
  }
 ],
 "metadata": {
  "kernelspec": {
   "display_name": "Python 3 (ipykernel)",
   "language": "python",
   "name": "python3"
  },
  "language_info": {
   "codemirror_mode": {
    "name": "ipython",
    "version": 3
   },
   "file_extension": ".py",
   "mimetype": "text/x-python",
   "name": "python",
   "nbconvert_exporter": "python",
   "pygments_lexer": "ipython3",
   "version": "3.10.6"
  }
 },
 "nbformat": 4,
 "nbformat_minor": 5
}
