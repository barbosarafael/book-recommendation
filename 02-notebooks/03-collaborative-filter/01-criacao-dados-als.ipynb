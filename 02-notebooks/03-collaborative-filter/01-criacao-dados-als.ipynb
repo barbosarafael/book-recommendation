{
 "cells": [
  {
   "cell_type": "markdown",
   "id": "af94a8bc-f2b7-47f9-a3ac-d722d214525b",
   "metadata": {},
   "source": [
    "# Explorações iniciais"
   ]
  },
  {
   "cell_type": "markdown",
   "id": "6f4c09a6-157f-4399-a4ec-52667a3392b3",
   "metadata": {},
   "source": [
    "## 0. Setup"
   ]
  },
  {
   "cell_type": "code",
   "execution_count": 1,
   "id": "d3c5d92f-3867-443e-a541-5ff62a4e923c",
   "metadata": {},
   "outputs": [],
   "source": [
    "#---- Bibliotecas:\n",
    "\n",
    "# Análise e manipulação de dados:\n",
    "\n",
    "import pandas as pd\n",
    "import numpy as np\n",
    "\n",
    "# Visualização de dados:\n",
    "\n",
    "import plotly.io as pio\n",
    "import plotly.express as px\n",
    "\n",
    "# Manuseio nos dados\n",
    "\n",
    "from os import chdir"
   ]
  },
  {
   "cell_type": "code",
   "execution_count": 2,
   "id": "273114ae-16e0-441f-9a58-f27c55287c10",
   "metadata": {},
   "outputs": [],
   "source": [
    "#---- Mudando o diretório raiz para a pasta principal do projeto\n",
    "\n",
    "chdir('../../')\n",
    "\n",
    "#---- Template dos gráficos:\n",
    "\n",
    "pio.templates.default = \"plotly_white\"\n",
    "\n",
    "#---- Carregando as funções\n",
    "\n",
    "from functions import *"
   ]
  },
  {
   "cell_type": "markdown",
   "id": "7d8332a0-2617-45a5-acc2-28e70dd8bc5f",
   "metadata": {},
   "source": [
    "## 1. Extração dos dados"
   ]
  },
  {
   "cell_type": "code",
   "execution_count": 3,
   "id": "18667fd7-8566-41d1-ac5a-51d3765b8dae",
   "metadata": {},
   "outputs": [
    {
     "data": {
      "text/html": [
       "<div>\n",
       "<style scoped>\n",
       "    .dataframe tbody tr th:only-of-type {\n",
       "        vertical-align: middle;\n",
       "    }\n",
       "\n",
       "    .dataframe tbody tr th {\n",
       "        vertical-align: top;\n",
       "    }\n",
       "\n",
       "    .dataframe thead th {\n",
       "        text-align: right;\n",
       "    }\n",
       "</style>\n",
       "<table border=\"1\" class=\"dataframe\">\n",
       "  <thead>\n",
       "    <tr style=\"text-align: right;\">\n",
       "      <th></th>\n",
       "      <th>User-ID</th>\n",
       "      <th>ISBN</th>\n",
       "      <th>Book-Rating</th>\n",
       "      <th>Book-Title</th>\n",
       "      <th>Book-Author</th>\n",
       "      <th>Year-Of-Publication</th>\n",
       "      <th>Publisher</th>\n",
       "      <th>Age</th>\n",
       "      <th>city</th>\n",
       "      <th>state</th>\n",
       "      <th>country</th>\n",
       "      <th>RN</th>\n",
       "    </tr>\n",
       "  </thead>\n",
       "  <tbody>\n",
       "    <tr>\n",
       "      <th>0</th>\n",
       "      <td>276747</td>\n",
       "      <td>0060517794</td>\n",
       "      <td>9</td>\n",
       "      <td>Little Altars Everywhere</td>\n",
       "      <td>Rebecca Wells</td>\n",
       "      <td>2003</td>\n",
       "      <td>HarperTorch</td>\n",
       "      <td>25.0</td>\n",
       "      <td>iowa city</td>\n",
       "      <td>iowa</td>\n",
       "      <td>usa</td>\n",
       "      <td>1</td>\n",
       "    </tr>\n",
       "    <tr>\n",
       "      <th>1</th>\n",
       "      <td>276747</td>\n",
       "      <td>0671537458</td>\n",
       "      <td>9</td>\n",
       "      <td>Waiting to Exhale</td>\n",
       "      <td>Terry McMillan</td>\n",
       "      <td>1995</td>\n",
       "      <td>Pocket</td>\n",
       "      <td>25.0</td>\n",
       "      <td>iowa city</td>\n",
       "      <td>iowa</td>\n",
       "      <td>usa</td>\n",
       "      <td>2</td>\n",
       "    </tr>\n",
       "    <tr>\n",
       "      <th>2</th>\n",
       "      <td>276747</td>\n",
       "      <td>0679776818</td>\n",
       "      <td>8</td>\n",
       "      <td>Birdsong: A Novel of Love and War</td>\n",
       "      <td>Sebastian Faulks</td>\n",
       "      <td>1997</td>\n",
       "      <td>Vintage Books USA</td>\n",
       "      <td>25.0</td>\n",
       "      <td>iowa city</td>\n",
       "      <td>iowa</td>\n",
       "      <td>usa</td>\n",
       "      <td>3</td>\n",
       "    </tr>\n",
       "    <tr>\n",
       "      <th>3</th>\n",
       "      <td>276747</td>\n",
       "      <td>0943066433</td>\n",
       "      <td>7</td>\n",
       "      <td>How to Deal With Difficult People</td>\n",
       "      <td>Rick Brinkman</td>\n",
       "      <td>1995</td>\n",
       "      <td>Careertrack Inc.</td>\n",
       "      <td>25.0</td>\n",
       "      <td>iowa city</td>\n",
       "      <td>iowa</td>\n",
       "      <td>usa</td>\n",
       "      <td>4</td>\n",
       "    </tr>\n",
       "    <tr>\n",
       "      <th>4</th>\n",
       "      <td>276762</td>\n",
       "      <td>0380711524</td>\n",
       "      <td>5</td>\n",
       "      <td>See Jane Run</td>\n",
       "      <td>Joy Fielding</td>\n",
       "      <td>1992</td>\n",
       "      <td>Avon</td>\n",
       "      <td>25.0</td>\n",
       "      <td>duisburg</td>\n",
       "      <td>nordrhein-westfalen</td>\n",
       "      <td>germany</td>\n",
       "      <td>1</td>\n",
       "    </tr>\n",
       "  </tbody>\n",
       "</table>\n",
       "</div>"
      ],
      "text/plain": [
       "   User-ID        ISBN  Book-Rating                         Book-Title  \\\n",
       "0   276747  0060517794            9           Little Altars Everywhere   \n",
       "1   276747  0671537458            9                  Waiting to Exhale   \n",
       "2   276747  0679776818            8  Birdsong: A Novel of Love and War   \n",
       "3   276747  0943066433            7  How to Deal With Difficult People   \n",
       "4   276762  0380711524            5                       See Jane Run   \n",
       "\n",
       "        Book-Author Year-Of-Publication          Publisher   Age       city  \\\n",
       "0     Rebecca Wells                2003        HarperTorch  25.0  iowa city   \n",
       "1    Terry McMillan                1995             Pocket  25.0  iowa city   \n",
       "2  Sebastian Faulks                1997  Vintage Books USA  25.0  iowa city   \n",
       "3     Rick Brinkman                1995   Careertrack Inc.  25.0  iowa city   \n",
       "4      Joy Fielding                1992               Avon  25.0   duisburg   \n",
       "\n",
       "                  state   country  RN  \n",
       "0                  iowa       usa   1  \n",
       "1                  iowa       usa   2  \n",
       "2                  iowa       usa   3  \n",
       "3                  iowa       usa   4  \n",
       "4   nordrhein-westfalen   germany   1  "
      ]
     },
     "execution_count": 3,
     "metadata": {},
     "output_type": "execute_result"
    }
   ],
   "source": [
    "#---- Dados de treino:\n",
    "\n",
    "df_train = pd.read_parquet('03-data/02-processed/01-train_data.parquet')\n",
    "\n",
    "df_train.head()"
   ]
  },
  {
   "cell_type": "markdown",
   "id": "ca076835-26c1-431a-b894-4777f1b90635",
   "metadata": {},
   "source": [
    "## 2. Manuseio nos dados"
   ]
  },
  {
   "cell_type": "code",
   "execution_count": 4,
   "id": "fc5788ff-aa3d-4fd9-bdd1-03387436ade7",
   "metadata": {},
   "outputs": [
    {
     "data": {
      "text/plain": [
       "<158235x22568 sparse matrix of type '<class 'numpy.int64'>'\n",
       "\twith 346011 stored elements in Compressed Sparse Row format>"
      ]
     },
     "execution_count": 4,
     "metadata": {},
     "output_type": "execute_result"
    }
   ],
   "source": [
    "#---- Criando a matriz de usuário x item\n",
    "\n",
    "from scipy.sparse import csr_matrix\n",
    "\n",
    "sparse_matrix = csr_matrix(\n",
    "    (\n",
    "        df_train['Book-Rating'], \n",
    "        (df_train['ISBN'].astype('category').cat.codes, df_train['User-ID'].astype('category').cat.codes)\n",
    "    )\n",
    ")\n",
    "\n",
    "sparse_matrix"
   ]
  },
  {
   "cell_type": "code",
   "execution_count": 5,
   "id": "1224bbed-3cb5-434f-86ec-b44cfff7b3c2",
   "metadata": {},
   "outputs": [],
   "source": [
    "#---- Salvando os dados\n",
    "\n",
    "save_sparse_csr(array = sparse_matrix, filename = '03-data/02-processed/04-ALS-train-data.npz')"
   ]
  }
 ],
 "metadata": {
  "kernelspec": {
   "display_name": "Python 3 (ipykernel)",
   "language": "python",
   "name": "python3"
  },
  "language_info": {
   "codemirror_mode": {
    "name": "ipython",
    "version": 3
   },
   "file_extension": ".py",
   "mimetype": "text/x-python",
   "name": "python",
   "nbconvert_exporter": "python",
   "pygments_lexer": "ipython3",
   "version": "3.10.6"
  }
 },
 "nbformat": 4,
 "nbformat_minor": 5
}
