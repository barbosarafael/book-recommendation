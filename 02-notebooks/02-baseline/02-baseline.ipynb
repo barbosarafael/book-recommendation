{
 "cells": [
  {
   "cell_type": "markdown",
   "id": "32881f3a-4b89-4a13-a857-784900e7e002",
   "metadata": {},
   "source": [
    "# Baseline\n",
    "\n",
    "**Metodologia**: Como baseline, iremos recomendar livros aleatórios."
   ]
  },
  {
   "cell_type": "markdown",
   "id": "1407dbbb-ba6e-463b-b5a6-5132c9fbf1f4",
   "metadata": {},
   "source": [
    "## 0. Setup"
   ]
  },
  {
   "cell_type": "code",
   "execution_count": 1,
   "id": "c16a14d9-591c-44ff-8ee4-4bf0535df4b4",
   "metadata": {},
   "outputs": [
    {
     "name": "stdout",
     "output_type": "stream",
     "text": [
      "time: 164 µs (started: 2024-02-18 23:38:16 -03:00)\n"
     ]
    }
   ],
   "source": [
    "%load_ext autotime"
   ]
  },
  {
   "cell_type": "code",
   "execution_count": 2,
   "id": "7cc36ab0-564a-44ad-af4e-37628c2270fa",
   "metadata": {},
   "outputs": [
    {
     "name": "stdout",
     "output_type": "stream",
     "text": [
      "time: 479 ms (started: 2024-02-18 23:38:17 -03:00)\n"
     ]
    }
   ],
   "source": [
    "#---- Bibliotecas:\n",
    "\n",
    "# Análise e manipulação de dados:\n",
    "\n",
    "import pandas as pd\n",
    "import numpy as np\n",
    "\n",
    "# Visualização de dados:\n",
    "\n",
    "import plotly.io as pio\n",
    "import plotly.express as px"
   ]
  },
  {
   "cell_type": "code",
   "execution_count": 3,
   "id": "6ef74247-b5b2-42dc-b67f-74a9e15dd9ee",
   "metadata": {},
   "outputs": [
    {
     "name": "stdout",
     "output_type": "stream",
     "text": [
      "time: 147 ms (started: 2024-02-18 23:38:17 -03:00)\n"
     ]
    }
   ],
   "source": [
    "#---- Data path:\n",
    "\n",
    "data_path = '../../03-data/'\n",
    "\n",
    "#---- Template dos gráficos:\n",
    "\n",
    "pio.templates.default = 'plotly_white'"
   ]
  },
  {
   "cell_type": "markdown",
   "id": "a8ba9254-c9d8-40d1-b041-c54678541801",
   "metadata": {},
   "source": [
    "## 1. Extração dos dados"
   ]
  },
  {
   "cell_type": "markdown",
   "id": "367d71d8-60bc-4781-addc-4a443d9e5ecb",
   "metadata": {},
   "source": [
    "### 1.1. Dados de treino e teste"
   ]
  },
  {
   "cell_type": "code",
   "execution_count": 4,
   "id": "f5a17257-a97f-47ab-b347-d666aabde1d8",
   "metadata": {},
   "outputs": [
    {
     "name": "stdout",
     "output_type": "stream",
     "text": [
      "time: 343 ms (started: 2024-02-18 23:38:17 -03:00)\n"
     ]
    }
   ],
   "source": [
    "df_train = pd.read_parquet(data_path + '02-processed/01-train_data.parquet')\n",
    "df_test = pd.read_parquet(data_path + '02-processed/02-test_data.parquet')"
   ]
  },
  {
   "cell_type": "markdown",
   "id": "d4465fe2-617a-4498-be88-c61abb7b07ba",
   "metadata": {},
   "source": [
    "### 1.2. Full data"
   ]
  },
  {
   "cell_type": "code",
   "execution_count": 5,
   "id": "39b9feec-a51f-4d77-b4e4-4d490033a747",
   "metadata": {},
   "outputs": [
    {
     "name": "stdout",
     "output_type": "stream",
     "text": [
      "time: 982 ms (started: 2024-02-18 23:38:17 -03:00)\n"
     ]
    }
   ],
   "source": [
    "df_full = pd.read_parquet(data_path + '02-processed/03-full_data.parquet')"
   ]
  },
  {
   "cell_type": "markdown",
   "id": "36e6b34d-0827-4f21-b986-65c23dd52b93",
   "metadata": {},
   "source": [
    "## 2. Baseline"
   ]
  },
  {
   "cell_type": "markdown",
   "id": "edcae074-3023-4d9f-be1f-95c66a53b6f9",
   "metadata": {},
   "source": [
    "### 2.1. Separando os livros em uma lista para a escolha aleatória"
   ]
  },
  {
   "cell_type": "code",
   "execution_count": 6,
   "id": "6f9996a0-8957-435e-9ce2-e2ad5a7a7aed",
   "metadata": {},
   "outputs": [
    {
     "name": "stdout",
     "output_type": "stream",
     "text": [
      "time: 940 ms (started: 2024-02-18 23:38:18 -03:00)\n"
     ]
    }
   ],
   "source": [
    "list_of_books = df_full\\\n",
    "    .groupby('Book-Title', as_index = False)\\\n",
    "    .agg(\n",
    "        media_rating = ('Book-Rating', 'mean'),\n",
    "        frequencia = ('ISBN', 'count')\n",
    "    )\\\n",
    "    .query('frequencia > 10')['Book-Title']\\\n",
    "    .to_list()"
   ]
  },
  {
   "cell_type": "code",
   "execution_count": 7,
   "id": "d40106da-45a1-4591-8ba2-80528cd02b36",
   "metadata": {},
   "outputs": [
    {
     "data": {
      "text/plain": [
       "['The Eleventh Plague',\n",
       " 'Retribution',\n",
       " 'The Scottish Bride (Bride Trilogy (Paperback))',\n",
       " 'The Picture of Dorian Gray and Other Short Stories',\n",
       " 'Centaur Aisle']"
      ]
     },
     "execution_count": 7,
     "metadata": {},
     "output_type": "execute_result"
    },
    {
     "name": "stdout",
     "output_type": "stream",
     "text": [
      "time: 4.37 ms (started: 2024-02-18 23:32:36 -03:00)\n"
     ]
    }
   ],
   "source": [
    "from random import sample\n",
    "\n",
    "random_book = sample(list_of_books, 5)\n",
    "random_book"
   ]
  },
  {
   "cell_type": "code",
   "execution_count": 8,
   "id": "bc7488cd-0f86-41cb-b08c-c9c3a4cb0378",
   "metadata": {},
   "outputs": [
    {
     "name": "stdout",
     "output_type": "stream",
     "text": [
      "time: 822 µs (started: 2024-02-18 23:32:36 -03:00)\n"
     ]
    }
   ],
   "source": [
    "def choose_random_books(n: int = 5):\n",
    "\n",
    "    random_book = sample(list_of_books, n)\n",
    "\n",
    "    return random_book"
   ]
  },
  {
   "cell_type": "code",
   "execution_count": 9,
   "id": "3e6c63eb-8664-4f1b-84ae-bde9d47ca902",
   "metadata": {},
   "outputs": [
    {
     "name": "stdout",
     "output_type": "stream",
     "text": [
      "time: 438 ms (started: 2024-02-18 23:31:35 -03:00)\n"
     ]
    }
   ],
   "source": [
    "df_test['recommendations'] = df_test.apply(lambda x: choose_random_books(n = 20), axis = 1)"
   ]
  },
  {
   "cell_type": "code",
   "execution_count": 10,
   "id": "b495e331-4594-4f5e-81de-30d229604b61",
   "metadata": {},
   "outputs": [
    {
     "name": "stdout",
     "output_type": "stream",
     "text": [
      "time: 222 ms (started: 2024-02-18 23:31:38 -03:00)\n"
     ]
    }
   ],
   "source": [
    "df_test['flag_recommendations'] = df_test.apply(lambda x: x['Book-Title'] in x['recommendations'], axis = 1)"
   ]
  },
  {
   "cell_type": "code",
   "execution_count": 12,
   "id": "77c2d775-7ec6-465b-8979-186bad75c07c",
   "metadata": {},
   "outputs": [
    {
     "data": {
      "text/plain": [
       "0.03544842254519674"
      ]
     },
     "execution_count": 12,
     "metadata": {},
     "output_type": "execute_result"
    },
    {
     "name": "stdout",
     "output_type": "stream",
     "text": [
      "time: 11.4 ms (started: 2024-02-18 23:32:00 -03:00)\n"
     ]
    }
   ],
   "source": [
    "precision_k = df_test.query('flag_recommendations == 1').shape[0] / df_test.shape[0] * 100\n",
    "\n",
    "precision_k"
   ]
  },
  {
   "cell_type": "code",
   "execution_count": 7,
   "id": "d1b150d5-b897-4f9d-9c1f-22073834c6fe",
   "metadata": {},
   "outputs": [
    {
     "name": "stdout",
     "output_type": "stream",
     "text": [
      "time: 662 µs (started: 2024-02-18 23:38:25 -03:00)\n"
     ]
    }
   ],
   "source": [
    "from random import sample\n",
    "\n",
    "def choose_random_books(n: int = 5):\n",
    "\n",
    "    random_book = sample(list_of_books, n)\n",
    "\n",
    "    return random_book"
   ]
  },
  {
   "cell_type": "code",
   "execution_count": 8,
   "id": "6488183b-b7f1-43a8-a298-591aef5d26e1",
   "metadata": {},
   "outputs": [
    {
     "name": "stdout",
     "output_type": "stream",
     "text": [
      "time: 1.27 ms (started: 2024-02-18 23:38:25 -03:00)\n"
     ]
    }
   ],
   "source": [
    "def calculate_precision_k_baseline(df: pd.DataFrame, col_books: str, lst_recommendations: list, k: int = 10):\n",
    "\n",
    "    df['recommendations'] = df.apply(lambda x: choose_random_books(n = k), axis = 1)\n",
    "\n",
    "    df['flag_recommendations'] = df.apply(lambda x: x[col_books] in x['recommendations'], axis = 1)\n",
    "\n",
    "    precision_k = df.query('flag_recommendations == 1').shape[0] / df.shape[0] * 100\n",
    "\n",
    "    return df, precision_k"
   ]
  },
  {
   "cell_type": "code",
   "execution_count": 9,
   "id": "1d086dfc-9d31-43ee-95b4-7d8561ee02b7",
   "metadata": {},
   "outputs": [
    {
     "name": "stdout",
     "output_type": "stream",
     "text": [
      "time: 663 ms (started: 2024-02-18 23:38:27 -03:00)\n"
     ]
    }
   ],
   "source": [
    "df, precision_k = calculate_precision_k_baseline(df = df_test, col_books = 'Book-Title', lst_recommendations = list_of_books, k = 20)"
   ]
  },
  {
   "cell_type": "code",
   "execution_count": 10,
   "id": "653bf4c3-f975-4a68-b6c7-7f05a246894e",
   "metadata": {},
   "outputs": [
    {
     "data": {
      "text/html": [
       "<div>\n",
       "<style scoped>\n",
       "    .dataframe tbody tr th:only-of-type {\n",
       "        vertical-align: middle;\n",
       "    }\n",
       "\n",
       "    .dataframe tbody tr th {\n",
       "        vertical-align: top;\n",
       "    }\n",
       "\n",
       "    .dataframe thead th {\n",
       "        text-align: right;\n",
       "    }\n",
       "</style>\n",
       "<table border=\"1\" class=\"dataframe\">\n",
       "  <thead>\n",
       "    <tr style=\"text-align: right;\">\n",
       "      <th></th>\n",
       "      <th>User-ID</th>\n",
       "      <th>ISBN</th>\n",
       "      <th>Book-Rating</th>\n",
       "      <th>Book-Title</th>\n",
       "      <th>Book-Author</th>\n",
       "      <th>Year-Of-Publication</th>\n",
       "      <th>Publisher</th>\n",
       "      <th>Age</th>\n",
       "      <th>city</th>\n",
       "      <th>state</th>\n",
       "      <th>country</th>\n",
       "      <th>RN</th>\n",
       "      <th>recommendations</th>\n",
       "      <th>flag_recommendations</th>\n",
       "    </tr>\n",
       "  </thead>\n",
       "  <tbody>\n",
       "    <tr>\n",
       "      <th>0</th>\n",
       "      <td>276747</td>\n",
       "      <td>1885408226</td>\n",
       "      <td>7</td>\n",
       "      <td>The Golden Rule of Schmoozing</td>\n",
       "      <td>Aye Jaye</td>\n",
       "      <td>1998</td>\n",
       "      <td>Listen &amp;amp; Live Audio</td>\n",
       "      <td>25.0</td>\n",
       "      <td>iowa city</td>\n",
       "      <td>iowa</td>\n",
       "      <td>usa</td>\n",
       "      <td>5</td>\n",
       "      <td>[The Lasko Tangent, The Ear, the Eye, and the ...</td>\n",
       "      <td>False</td>\n",
       "    </tr>\n",
       "    <tr>\n",
       "      <th>1</th>\n",
       "      <td>276762</td>\n",
       "      <td>N3453124715</td>\n",
       "      <td>4</td>\n",
       "      <td>None</td>\n",
       "      <td>None</td>\n",
       "      <td>None</td>\n",
       "      <td>None</td>\n",
       "      <td>25.0</td>\n",
       "      <td>duisburg</td>\n",
       "      <td>nordrhein-westfalen</td>\n",
       "      <td>germany</td>\n",
       "      <td>4</td>\n",
       "      <td>[New York Dead, Therapy, Thank You for Smoking...</td>\n",
       "      <td>False</td>\n",
       "    </tr>\n",
       "    <tr>\n",
       "      <th>2</th>\n",
       "      <td>276772</td>\n",
       "      <td>3596151465</td>\n",
       "      <td>10</td>\n",
       "      <td>Henry der Held.</td>\n",
       "      <td>Roddy Doyle</td>\n",
       "      <td>2001</td>\n",
       "      <td>Fischer (Tb.), Frankfurt</td>\n",
       "      <td>NaN</td>\n",
       "      <td>bonn</td>\n",
       "      <td>nordrhein-westfalen</td>\n",
       "      <td>germany</td>\n",
       "      <td>3</td>\n",
       "      <td>[My Sister's Keeper : A Novel (Picoult, Jodi),...</td>\n",
       "      <td>False</td>\n",
       "    </tr>\n",
       "    <tr>\n",
       "      <th>3</th>\n",
       "      <td>276786</td>\n",
       "      <td>8478442588</td>\n",
       "      <td>6</td>\n",
       "      <td>El Elogio de La Sombra</td>\n",
       "      <td>Tanazaki</td>\n",
       "      <td>1998</td>\n",
       "      <td>Siruela</td>\n",
       "      <td>34.0</td>\n",
       "      <td>madrid</td>\n",
       "      <td>madrid</td>\n",
       "      <td>spain</td>\n",
       "      <td>4</td>\n",
       "      <td>[Family: The Ties That Bind and Gag, Dreamer, ...</td>\n",
       "      <td>False</td>\n",
       "    </tr>\n",
       "    <tr>\n",
       "      <th>4</th>\n",
       "      <td>276788</td>\n",
       "      <td>055310666X</td>\n",
       "      <td>10</td>\n",
       "      <td>False Memory</td>\n",
       "      <td>Dean R. Koontz</td>\n",
       "      <td>1999</td>\n",
       "      <td>Bantam Books</td>\n",
       "      <td>NaN</td>\n",
       "      <td>mentone</td>\n",
       "      <td>california</td>\n",
       "      <td>usa</td>\n",
       "      <td>3</td>\n",
       "      <td>[The Green Knight, My Name Is Asher Lev, The M...</td>\n",
       "      <td>False</td>\n",
       "    </tr>\n",
       "    <tr>\n",
       "      <th>...</th>\n",
       "      <td>...</td>\n",
       "      <td>...</td>\n",
       "      <td>...</td>\n",
       "      <td>...</td>\n",
       "      <td>...</td>\n",
       "      <td>...</td>\n",
       "      <td>...</td>\n",
       "      <td>...</td>\n",
       "      <td>...</td>\n",
       "      <td>...</td>\n",
       "      <td>...</td>\n",
       "      <td>...</td>\n",
       "      <td>...</td>\n",
       "      <td>...</td>\n",
       "    </tr>\n",
       "    <tr>\n",
       "      <th>22563</th>\n",
       "      <td>276680</td>\n",
       "      <td>1931561648</td>\n",
       "      <td>9</td>\n",
       "      <td>The Time Traveler's Wife (Today Show Book Club...</td>\n",
       "      <td>Audrey Niffenegger</td>\n",
       "      <td>2003</td>\n",
       "      <td>MacAdam/Cage Publishing</td>\n",
       "      <td>55.0</td>\n",
       "      <td>hopewell junction</td>\n",
       "      <td>new york</td>\n",
       "      <td>usa</td>\n",
       "      <td>91</td>\n",
       "      <td>[Fruitcake (Mira), House of Smoke, The Snowman...</td>\n",
       "      <td>False</td>\n",
       "    </tr>\n",
       "    <tr>\n",
       "      <th>22564</th>\n",
       "      <td>276681</td>\n",
       "      <td>1931333246</td>\n",
       "      <td>10</td>\n",
       "      <td>Chorus</td>\n",
       "      <td>Kurt Messick</td>\n",
       "      <td>2003</td>\n",
       "      <td>Dry Bones Press</td>\n",
       "      <td>43.0</td>\n",
       "      <td>chicago</td>\n",
       "      <td>illinois</td>\n",
       "      <td>usa</td>\n",
       "      <td>11</td>\n",
       "      <td>[Winter Moon, The Day Trader, Because It Is Bi...</td>\n",
       "      <td>False</td>\n",
       "    </tr>\n",
       "    <tr>\n",
       "      <th>22565</th>\n",
       "      <td>276683</td>\n",
       "      <td>0553278231</td>\n",
       "      <td>9</td>\n",
       "      <td>Cannery Row</td>\n",
       "      <td>John Steinbeck</td>\n",
       "      <td>1986</td>\n",
       "      <td>Bantam Books</td>\n",
       "      <td>NaN</td>\n",
       "      <td>charlotte</td>\n",
       "      <td>north carolina</td>\n",
       "      <td>usa</td>\n",
       "      <td>3</td>\n",
       "      <td>[Slightly Married (Get Connected Romances), 21...</td>\n",
       "      <td>False</td>\n",
       "    </tr>\n",
       "    <tr>\n",
       "      <th>22566</th>\n",
       "      <td>276688</td>\n",
       "      <td>1575660792</td>\n",
       "      <td>7</td>\n",
       "      <td>Gray Matter</td>\n",
       "      <td>Shirley Kennett</td>\n",
       "      <td>1996</td>\n",
       "      <td>Kensington Publishing Corporation</td>\n",
       "      <td>NaN</td>\n",
       "      <td>fort lee</td>\n",
       "      <td>new jersey</td>\n",
       "      <td>usa</td>\n",
       "      <td>29</td>\n",
       "      <td>[Picture Postcard, Of Mice and Men (Penguin Gr...</td>\n",
       "      <td>False</td>\n",
       "    </tr>\n",
       "    <tr>\n",
       "      <th>22567</th>\n",
       "      <td>276704</td>\n",
       "      <td>1563526298</td>\n",
       "      <td>9</td>\n",
       "      <td>Get Clark Smart : The Ultimate Guide for the S...</td>\n",
       "      <td>Clark Howard</td>\n",
       "      <td>2000</td>\n",
       "      <td>Longstreet Press</td>\n",
       "      <td>NaN</td>\n",
       "      <td>cedar park</td>\n",
       "      <td>texas</td>\n",
       "      <td>usa</td>\n",
       "      <td>5</td>\n",
       "      <td>[The Guardian (O'Malley #2), An Egg on Three S...</td>\n",
       "      <td>False</td>\n",
       "    </tr>\n",
       "  </tbody>\n",
       "</table>\n",
       "<p>22568 rows × 14 columns</p>\n",
       "</div>"
      ],
      "text/plain": [
       "       User-ID         ISBN  Book-Rating  \\\n",
       "0       276747   1885408226            7   \n",
       "1       276762  N3453124715            4   \n",
       "2       276772   3596151465           10   \n",
       "3       276786   8478442588            6   \n",
       "4       276788   055310666X           10   \n",
       "...        ...          ...          ...   \n",
       "22563   276680   1931561648            9   \n",
       "22564   276681   1931333246           10   \n",
       "22565   276683   0553278231            9   \n",
       "22566   276688   1575660792            7   \n",
       "22567   276704   1563526298            9   \n",
       "\n",
       "                                              Book-Title         Book-Author  \\\n",
       "0                          The Golden Rule of Schmoozing            Aye Jaye   \n",
       "1                                                   None                None   \n",
       "2                                        Henry der Held.         Roddy Doyle   \n",
       "3                                 El Elogio de La Sombra            Tanazaki   \n",
       "4                                           False Memory      Dean R. Koontz   \n",
       "...                                                  ...                 ...   \n",
       "22563  The Time Traveler's Wife (Today Show Book Club...  Audrey Niffenegger   \n",
       "22564                                             Chorus        Kurt Messick   \n",
       "22565                                        Cannery Row      John Steinbeck   \n",
       "22566                                        Gray Matter     Shirley Kennett   \n",
       "22567  Get Clark Smart : The Ultimate Guide for the S...        Clark Howard   \n",
       "\n",
       "      Year-Of-Publication                          Publisher   Age  \\\n",
       "0                    1998            Listen &amp; Live Audio  25.0   \n",
       "1                    None                               None  25.0   \n",
       "2                    2001           Fischer (Tb.), Frankfurt   NaN   \n",
       "3                    1998                            Siruela  34.0   \n",
       "4                    1999                       Bantam Books   NaN   \n",
       "...                   ...                                ...   ...   \n",
       "22563                2003            MacAdam/Cage Publishing  55.0   \n",
       "22564                2003                    Dry Bones Press  43.0   \n",
       "22565                1986                       Bantam Books   NaN   \n",
       "22566                1996  Kensington Publishing Corporation   NaN   \n",
       "22567                2000                   Longstreet Press   NaN   \n",
       "\n",
       "                    city                 state   country  RN  \\\n",
       "0              iowa city                  iowa       usa   5   \n",
       "1               duisburg   nordrhein-westfalen   germany   4   \n",
       "2                   bonn   nordrhein-westfalen   germany   3   \n",
       "3                 madrid                madrid     spain   4   \n",
       "4                mentone            california       usa   3   \n",
       "...                  ...                   ...       ...  ..   \n",
       "22563  hopewell junction              new york       usa  91   \n",
       "22564            chicago              illinois       usa  11   \n",
       "22565          charlotte        north carolina       usa   3   \n",
       "22566           fort lee            new jersey       usa  29   \n",
       "22567         cedar park                 texas       usa   5   \n",
       "\n",
       "                                         recommendations  flag_recommendations  \n",
       "0      [The Lasko Tangent, The Ear, the Eye, and the ...                 False  \n",
       "1      [New York Dead, Therapy, Thank You for Smoking...                 False  \n",
       "2      [My Sister's Keeper : A Novel (Picoult, Jodi),...                 False  \n",
       "3      [Family: The Ties That Bind and Gag, Dreamer, ...                 False  \n",
       "4      [The Green Knight, My Name Is Asher Lev, The M...                 False  \n",
       "...                                                  ...                   ...  \n",
       "22563  [Fruitcake (Mira), House of Smoke, The Snowman...                 False  \n",
       "22564  [Winter Moon, The Day Trader, Because It Is Bi...                 False  \n",
       "22565  [Slightly Married (Get Connected Romances), 21...                 False  \n",
       "22566  [Picture Postcard, Of Mice and Men (Penguin Gr...                 False  \n",
       "22567  [The Guardian (O'Malley #2), An Egg on Three S...                 False  \n",
       "\n",
       "[22568 rows x 14 columns]"
      ]
     },
     "execution_count": 10,
     "metadata": {},
     "output_type": "execute_result"
    },
    {
     "name": "stdout",
     "output_type": "stream",
     "text": [
      "time: 31.9 ms (started: 2024-02-18 23:38:27 -03:00)\n"
     ]
    }
   ],
   "source": [
    "df"
   ]
  },
  {
   "cell_type": "code",
   "execution_count": 11,
   "id": "9930a701-c3b7-4d99-82f3-3d1e84d27941",
   "metadata": {},
   "outputs": [
    {
     "data": {
      "text/plain": [
       "0.044310528181495924"
      ]
     },
     "execution_count": 11,
     "metadata": {},
     "output_type": "execute_result"
    },
    {
     "name": "stdout",
     "output_type": "stream",
     "text": [
      "time: 2.21 ms (started: 2024-02-18 23:38:28 -03:00)\n"
     ]
    }
   ],
   "source": [
    "precision_k"
   ]
  },
  {
   "cell_type": "markdown",
   "id": "22594d28-c112-4927-a138-7a02f6f7873e",
   "metadata": {},
   "source": [
    "# TO-DO\n",
    "\n",
    "- Entender o recall@k\n",
    "- Calcular ao recall@k\n",
    "- MAR@K\n",
    "- MAP@K\n",
    "- https://medium.com/@m_n_malaeb/recall-and-precision-at-k-for-recommender-systems-618483226c54\n",
    "- https://cran.r-project.org/web/packages/recometrics/recometrics.pdf\n",
    "- https://medium.com/@judaikawa/building-and-evaluating-a-recommender-system-for-implicit-feedback-59495d2077d4"
   ]
  },
  {
   "cell_type": "code",
   "execution_count": null,
   "id": "e342d682-96cd-4efa-a6c8-2f74b5d550d6",
   "metadata": {},
   "outputs": [],
   "source": []
  }
 ],
 "metadata": {
  "kernelspec": {
   "display_name": "Python 3 (ipykernel)",
   "language": "python",
   "name": "python3"
  },
  "language_info": {
   "codemirror_mode": {
    "name": "ipython",
    "version": 3
   },
   "file_extension": ".py",
   "mimetype": "text/x-python",
   "name": "python",
   "nbconvert_exporter": "python",
   "pygments_lexer": "ipython3",
   "version": "3.10.6"
  }
 },
 "nbformat": 4,
 "nbformat_minor": 5
}
