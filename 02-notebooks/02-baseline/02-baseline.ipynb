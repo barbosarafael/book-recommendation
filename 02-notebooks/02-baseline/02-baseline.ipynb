{
 "cells": [
  {
   "cell_type": "markdown",
   "id": "32881f3a-4b89-4a13-a857-784900e7e002",
   "metadata": {},
   "source": [
    "# Baseline\n",
    "\n",
    "**Metodologia**: Como baseline, iremos recomendar os livros mais bem avaliados."
   ]
  },
  {
   "cell_type": "markdown",
   "id": "1407dbbb-ba6e-463b-b5a6-5132c9fbf1f4",
   "metadata": {},
   "source": [
    "## 0. Setup"
   ]
  },
  {
   "cell_type": "code",
   "execution_count": 1,
   "id": "c16a14d9-591c-44ff-8ee4-4bf0535df4b4",
   "metadata": {},
   "outputs": [
    {
     "name": "stdout",
     "output_type": "stream",
     "text": [
      "time: 190 µs (started: 2024-02-17 23:19:10 -03:00)\n"
     ]
    }
   ],
   "source": [
    "%load_ext autotime"
   ]
  },
  {
   "cell_type": "code",
   "execution_count": 2,
   "id": "7cc36ab0-564a-44ad-af4e-37628c2270fa",
   "metadata": {},
   "outputs": [
    {
     "name": "stdout",
     "output_type": "stream",
     "text": [
      "time: 484 ms (started: 2024-02-17 23:19:10 -03:00)\n"
     ]
    }
   ],
   "source": [
    "#---- Bibliotecas:\n",
    "\n",
    "# Análise e manipulação de dados:\n",
    "\n",
    "import pandas as pd\n",
    "import numpy as np\n",
    "\n",
    "# Visualização de dados:\n",
    "\n",
    "import plotly.io as pio\n",
    "import plotly.express as px"
   ]
  },
  {
   "cell_type": "code",
   "execution_count": 3,
   "id": "6ef74247-b5b2-42dc-b67f-74a9e15dd9ee",
   "metadata": {},
   "outputs": [
    {
     "name": "stdout",
     "output_type": "stream",
     "text": [
      "time: 148 ms (started: 2024-02-17 23:19:10 -03:00)\n"
     ]
    }
   ],
   "source": [
    "#---- Data path:\n",
    "\n",
    "data_path = '../../03-data/'\n",
    "\n",
    "#---- Template dos gráficos:\n",
    "\n",
    "pio.templates.default = \"plotly_white\""
   ]
  },
  {
   "cell_type": "markdown",
   "id": "a8ba9254-c9d8-40d1-b041-c54678541801",
   "metadata": {},
   "source": [
    "## 1. Extração dos dados"
   ]
  },
  {
   "cell_type": "code",
   "execution_count": 4,
   "id": "9bd4a490-98ad-4784-806b-20ebccf28234",
   "metadata": {},
   "outputs": [
    {
     "data": {
      "text/html": [
       "<div>\n",
       "<style scoped>\n",
       "    .dataframe tbody tr th:only-of-type {\n",
       "        vertical-align: middle;\n",
       "    }\n",
       "\n",
       "    .dataframe tbody tr th {\n",
       "        vertical-align: top;\n",
       "    }\n",
       "\n",
       "    .dataframe thead th {\n",
       "        text-align: right;\n",
       "    }\n",
       "</style>\n",
       "<table border=\"1\" class=\"dataframe\">\n",
       "  <thead>\n",
       "    <tr style=\"text-align: right;\">\n",
       "      <th></th>\n",
       "      <th>User-ID</th>\n",
       "      <th>ISBN</th>\n",
       "      <th>Book-Rating</th>\n",
       "      <th>Book-Title</th>\n",
       "      <th>Book-Author</th>\n",
       "      <th>Year-Of-Publication</th>\n",
       "      <th>Publisher</th>\n",
       "      <th>Age</th>\n",
       "      <th>city</th>\n",
       "      <th>state</th>\n",
       "      <th>country</th>\n",
       "    </tr>\n",
       "  </thead>\n",
       "  <tbody>\n",
       "    <tr>\n",
       "      <th>0</th>\n",
       "      <td>276725</td>\n",
       "      <td>034545104X</td>\n",
       "      <td>0</td>\n",
       "      <td>Flesh Tones: A Novel</td>\n",
       "      <td>M. J. Rose</td>\n",
       "      <td>2002</td>\n",
       "      <td>Ballantine Books</td>\n",
       "      <td>NaN</td>\n",
       "      <td>tyler</td>\n",
       "      <td>texas</td>\n",
       "      <td>usa</td>\n",
       "    </tr>\n",
       "    <tr>\n",
       "      <th>1</th>\n",
       "      <td>276726</td>\n",
       "      <td>0155061224</td>\n",
       "      <td>5</td>\n",
       "      <td>Rites of Passage</td>\n",
       "      <td>Judith Rae</td>\n",
       "      <td>2001</td>\n",
       "      <td>Heinle</td>\n",
       "      <td>NaN</td>\n",
       "      <td>seattle</td>\n",
       "      <td>washington</td>\n",
       "      <td>usa</td>\n",
       "    </tr>\n",
       "    <tr>\n",
       "      <th>2</th>\n",
       "      <td>276727</td>\n",
       "      <td>0446520802</td>\n",
       "      <td>0</td>\n",
       "      <td>The Notebook</td>\n",
       "      <td>Nicholas Sparks</td>\n",
       "      <td>1996</td>\n",
       "      <td>Warner Books</td>\n",
       "      <td>16.0</td>\n",
       "      <td>h</td>\n",
       "      <td>new south wales</td>\n",
       "      <td>australia</td>\n",
       "    </tr>\n",
       "    <tr>\n",
       "      <th>3</th>\n",
       "      <td>276729</td>\n",
       "      <td>052165615X</td>\n",
       "      <td>3</td>\n",
       "      <td>Help!: Level 1</td>\n",
       "      <td>Philip Prowse</td>\n",
       "      <td>1999</td>\n",
       "      <td>Cambridge University Press</td>\n",
       "      <td>16.0</td>\n",
       "      <td>rijeka</td>\n",
       "      <td>n/a</td>\n",
       "      <td>croatia</td>\n",
       "    </tr>\n",
       "    <tr>\n",
       "      <th>4</th>\n",
       "      <td>276729</td>\n",
       "      <td>0521795028</td>\n",
       "      <td>6</td>\n",
       "      <td>The Amsterdam Connection : Level 4 (Cambridge ...</td>\n",
       "      <td>Sue Leather</td>\n",
       "      <td>2001</td>\n",
       "      <td>Cambridge University Press</td>\n",
       "      <td>16.0</td>\n",
       "      <td>rijeka</td>\n",
       "      <td>n/a</td>\n",
       "      <td>croatia</td>\n",
       "    </tr>\n",
       "  </tbody>\n",
       "</table>\n",
       "</div>"
      ],
      "text/plain": [
       "   User-ID        ISBN  Book-Rating  \\\n",
       "0   276725  034545104X            0   \n",
       "1   276726  0155061224            5   \n",
       "2   276727  0446520802            0   \n",
       "3   276729  052165615X            3   \n",
       "4   276729  0521795028            6   \n",
       "\n",
       "                                          Book-Title      Book-Author  \\\n",
       "0                               Flesh Tones: A Novel       M. J. Rose   \n",
       "1                                   Rites of Passage       Judith Rae   \n",
       "2                                       The Notebook  Nicholas Sparks   \n",
       "3                                     Help!: Level 1    Philip Prowse   \n",
       "4  The Amsterdam Connection : Level 4 (Cambridge ...      Sue Leather   \n",
       "\n",
       "  Year-Of-Publication                   Publisher   Age     city  \\\n",
       "0                2002            Ballantine Books   NaN    tyler   \n",
       "1                2001                      Heinle   NaN  seattle   \n",
       "2                1996                Warner Books  16.0        h   \n",
       "3                1999  Cambridge University Press  16.0   rijeka   \n",
       "4                2001  Cambridge University Press  16.0   rijeka   \n",
       "\n",
       "              state     country  \n",
       "0             texas         usa  \n",
       "1        washington         usa  \n",
       "2   new south wales   australia  \n",
       "3               n/a     croatia  \n",
       "4               n/a     croatia  "
      ]
     },
     "execution_count": 4,
     "metadata": {},
     "output_type": "execute_result"
    },
    {
     "name": "stdout",
     "output_type": "stream",
     "text": [
      "time: 1.13 s (started: 2024-02-17 23:20:50 -03:00)\n"
     ]
    }
   ],
   "source": [
    "dados = pd.read_parquet(data_path + '02-processed/01-baseline/01-baseline-data.parquet')\n",
    "\n",
    "dados.head()"
   ]
  },
  {
   "cell_type": "code",
   "execution_count": 5,
   "id": "ee31fdaf-34b7-4aa2-886e-3f67de91bb1d",
   "metadata": {},
   "outputs": [
    {
     "name": "stdout",
     "output_type": "stream",
     "text": [
      "<class 'pandas.core.frame.DataFrame'>\n",
      "RangeIndex: 1149780 entries, 0 to 1149779\n",
      "Data columns (total 11 columns):\n",
      " #   Column               Non-Null Count    Dtype  \n",
      "---  ------               --------------    -----  \n",
      " 0   User-ID              1149780 non-null  int64  \n",
      " 1   ISBN                 1149780 non-null  object \n",
      " 2   Book-Rating          1149780 non-null  int64  \n",
      " 3   Book-Title           1031136 non-null  object \n",
      " 4   Book-Author          1031134 non-null  object \n",
      " 5   Year-Of-Publication  1031136 non-null  object \n",
      " 6   Publisher            1031134 non-null  object \n",
      " 7   Age                  840288 non-null   float64\n",
      " 8   city                 1149780 non-null  object \n",
      " 9   state                1149780 non-null  object \n",
      " 10  country              1149780 non-null  object \n",
      "dtypes: float64(1), int64(2), object(8)\n",
      "memory usage: 96.5+ MB\n",
      "time: 383 ms (started: 2024-02-17 23:21:01 -03:00)\n"
     ]
    }
   ],
   "source": [
    "dados.info()"
   ]
  },
  {
   "cell_type": "markdown",
   "id": "36e6b34d-0827-4f21-b986-65c23dd52b93",
   "metadata": {},
   "source": [
    "## 2. Baseline"
   ]
  },
  {
   "cell_type": "markdown",
   "id": "ba3e6479-f175-4f50-9833-bf80c486136f",
   "metadata": {},
   "source": [
    "## 2.1. Escolha dos top 5, 10 e 20 livros \n",
    "\n",
    "**Regras**: \n",
    "\n",
    "- Melhores avaliações (média)\n",
    "- Ter sido avaliado por 10 ou mais usuários"
   ]
  },
  {
   "cell_type": "code",
   "execution_count": 8,
   "id": "fe29d852-f5c9-4a44-a201-6189011b86b2",
   "metadata": {},
   "outputs": [
    {
     "data": {
      "text/plain": [
       "['The Blue Day Book: A Lesson in Cheering Yourself Up',\n",
       " 'The Baby Book: Everything You Need to Know About Your Baby from Birth to Age Two',\n",
       " 'Les Fleurs Du Mal',\n",
       " 'The Lorax',\n",
       " 'Die unendliche Geschichte: Von A bis Z',\n",
       " 'Marching Through Culpeper : A Novel of Culpeper, Virginia, Crossroads of the Civil War',\n",
       " 'Chobits (Chobits)',\n",
       " 'Free',\n",
       " 'Harry Potter Und Der Feuerkelch',\n",
       " \"There's Treasure Everywhere--A Calvin and Hobbes Collection\",\n",
       " 'Der Kleine Hobbit',\n",
       " 'El Hobbit',\n",
       " 'Warchild',\n",
       " \"Beyond Civilization: Humanity's Next Great Adventure\",\n",
       " \"Ain't Nobody's Business If You Do : The Absurdity of Consensual Crimes in Our Free Country\",\n",
       " 'Jesus Freaks: DC Talk and The Voice of the Martyrs - Stories of Those Who Stood For Jesus, the Ultimate Jesus Freaks',\n",
       " 'Ranma 1/2 (Ranma 1/2)',\n",
       " 'Good Faeries Bad Faeries',\n",
       " 'How the Grinch Stole Christmas!',\n",
       " 'A Game of You (Sandman, Book 5)']"
      ]
     },
     "execution_count": 8,
     "metadata": {},
     "output_type": "execute_result"
    },
    {
     "name": "stdout",
     "output_type": "stream",
     "text": [
      "time: 881 ms (started: 2024-02-17 23:41:27 -03:00)\n"
     ]
    }
   ],
   "source": [
    "top20_books = dados\\\n",
    "    .groupby('Book-Title', as_index = False)\\\n",
    "    .agg(\n",
    "        media_rating = ('Book-Rating', 'mean'),\n",
    "        frequencia = ('ISBN', 'count')\n",
    "    )\\\n",
    "    .query('frequencia > 10')\\\n",
    "    .sort_values(by = 'media_rating', ascending = False)\\\n",
    "    .head(20)['Book-Title']\\\n",
    "    .to_list()\n",
    "\n",
    "top20_books"
   ]
  },
  {
   "cell_type": "markdown",
   "id": "198524de-6cb2-444b-a882-50e5d2a50e16",
   "metadata": {},
   "source": [
    "### 2.2. "
   ]
  },
  {
   "cell_type": "code",
   "execution_count": null,
   "id": "33c355cd-000a-4981-884e-4b2e16cff2b2",
   "metadata": {},
   "outputs": [],
   "source": [
    "dados\\\n",
    "    .groupby()"
   ]
  }
 ],
 "metadata": {
  "kernelspec": {
   "display_name": "Python 3 (ipykernel)",
   "language": "python",
   "name": "python3"
  },
  "language_info": {
   "codemirror_mode": {
    "name": "ipython",
    "version": 3
   },
   "file_extension": ".py",
   "mimetype": "text/x-python",
   "name": "python",
   "nbconvert_exporter": "python",
   "pygments_lexer": "ipython3",
   "version": "3.10.6"
  }
 },
 "nbformat": 4,
 "nbformat_minor": 5
}
