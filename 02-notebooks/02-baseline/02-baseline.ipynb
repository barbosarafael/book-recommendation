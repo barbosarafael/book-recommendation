{
 "cells": [
  {
   "cell_type": "markdown",
   "id": "32881f3a-4b89-4a13-a857-784900e7e002",
   "metadata": {},
   "source": [
    "# Baseline\n",
    "\n",
    "**Metodologia**: Como baseline, iremos recomendar livros aleatórios."
   ]
  },
  {
   "cell_type": "markdown",
   "id": "1407dbbb-ba6e-463b-b5a6-5132c9fbf1f4",
   "metadata": {},
   "source": [
    "## 0. Setup"
   ]
  },
  {
   "cell_type": "code",
   "execution_count": 1,
   "id": "c16a14d9-591c-44ff-8ee4-4bf0535df4b4",
   "metadata": {},
   "outputs": [
    {
     "name": "stdout",
     "output_type": "stream",
     "text": [
      "time: 123 µs (started: 2024-02-19 22:52:54 -03:00)\n"
     ]
    }
   ],
   "source": [
    "%load_ext autotime"
   ]
  },
  {
   "cell_type": "code",
   "execution_count": 2,
   "id": "7cc36ab0-564a-44ad-af4e-37628c2270fa",
   "metadata": {},
   "outputs": [
    {
     "name": "stdout",
     "output_type": "stream",
     "text": [
      "time: 465 ms (started: 2024-02-19 22:52:54 -03:00)\n"
     ]
    }
   ],
   "source": [
    "#---- Bibliotecas:\n",
    "\n",
    "# Análise e manipulação de dados:\n",
    "\n",
    "import pandas as pd\n",
    "import numpy as np\n",
    "\n",
    "# Visualização de dados:\n",
    "\n",
    "import plotly.io as pio\n",
    "import plotly.express as px"
   ]
  },
  {
   "cell_type": "code",
   "execution_count": 3,
   "id": "6ef74247-b5b2-42dc-b67f-74a9e15dd9ee",
   "metadata": {},
   "outputs": [
    {
     "name": "stdout",
     "output_type": "stream",
     "text": [
      "time: 133 ms (started: 2024-02-19 22:52:54 -03:00)\n"
     ]
    }
   ],
   "source": [
    "#---- Data path:\n",
    "\n",
    "data_path = '../../03-data/'\n",
    "\n",
    "#---- Template dos gráficos:\n",
    "\n",
    "pio.templates.default = 'plotly_white'"
   ]
  },
  {
   "cell_type": "markdown",
   "id": "a8ba9254-c9d8-40d1-b041-c54678541801",
   "metadata": {},
   "source": [
    "## 1. Extração dos dados"
   ]
  },
  {
   "cell_type": "markdown",
   "id": "367d71d8-60bc-4781-addc-4a443d9e5ecb",
   "metadata": {},
   "source": [
    "### 1.1. Dados de treino e teste"
   ]
  },
  {
   "cell_type": "code",
   "execution_count": 4,
   "id": "f5a17257-a97f-47ab-b347-d666aabde1d8",
   "metadata": {},
   "outputs": [
    {
     "name": "stdout",
     "output_type": "stream",
     "text": [
      "time: 358 ms (started: 2024-02-19 22:52:54 -03:00)\n"
     ]
    }
   ],
   "source": [
    "df_train = pd.read_parquet(data_path + '02-processed/01-train_data.parquet')\n",
    "df_test = pd.read_parquet(data_path + '02-processed/02-test_data.parquet')"
   ]
  },
  {
   "cell_type": "markdown",
   "id": "d4465fe2-617a-4498-be88-c61abb7b07ba",
   "metadata": {},
   "source": [
    "### 1.2. Full data"
   ]
  },
  {
   "cell_type": "code",
   "execution_count": 5,
   "id": "39b9feec-a51f-4d77-b4e4-4d490033a747",
   "metadata": {},
   "outputs": [
    {
     "name": "stdout",
     "output_type": "stream",
     "text": [
      "time: 1.02 s (started: 2024-02-19 22:52:55 -03:00)\n"
     ]
    }
   ],
   "source": [
    "df_full = pd.read_parquet(data_path + '02-processed/03-full_data.parquet')"
   ]
  },
  {
   "cell_type": "markdown",
   "id": "36e6b34d-0827-4f21-b986-65c23dd52b93",
   "metadata": {},
   "source": [
    "## 2. Baseline"
   ]
  },
  {
   "cell_type": "markdown",
   "id": "edcae074-3023-4d9f-be1f-95c66a53b6f9",
   "metadata": {},
   "source": [
    "### 2.1. Separando os livros em uma lista para a escolha aleatória"
   ]
  },
  {
   "cell_type": "code",
   "execution_count": 6,
   "id": "6f9996a0-8957-435e-9ce2-e2ad5a7a7aed",
   "metadata": {},
   "outputs": [
    {
     "name": "stdout",
     "output_type": "stream",
     "text": [
      "time: 1.1 s (started: 2024-02-19 22:52:56 -03:00)\n"
     ]
    }
   ],
   "source": [
    "list_of_books = df_full\\\n",
    "    .groupby('Book-Title', as_index = False)\\\n",
    "    .agg(\n",
    "        media_rating = ('Book-Rating', 'mean'),\n",
    "        frequencia = ('ISBN', 'count')\n",
    "    )\\\n",
    "    .query('frequencia > 10')['Book-Title']\\\n",
    "    .to_list()"
   ]
  },
  {
   "cell_type": "code",
   "execution_count": 7,
   "id": "d1b150d5-b897-4f9d-9c1f-22073834c6fe",
   "metadata": {},
   "outputs": [
    {
     "name": "stdout",
     "output_type": "stream",
     "text": [
      "time: 445 µs (started: 2024-02-19 22:52:57 -03:00)\n"
     ]
    }
   ],
   "source": [
    "#---- Criando uma função para trazer K itens aleatórios da lista de livros\n",
    "\n",
    "from random import sample\n",
    "\n",
    "def choose_random_books(n: int = 5):\n",
    "\n",
    "    random_book = sample(list_of_books, n)\n",
    "\n",
    "    return random_book"
   ]
  },
  {
   "cell_type": "code",
   "execution_count": 8,
   "id": "6488183b-b7f1-43a8-a298-591aef5d26e1",
   "metadata": {},
   "outputs": [
    {
     "name": "stdout",
     "output_type": "stream",
     "text": [
      "time: 1.58 ms (started: 2024-02-19 22:52:57 -03:00)\n"
     ]
    }
   ],
   "source": [
    "#---- Criando uma função que:\n",
    "# - Aplica escolhe K livros aleatórios para cada usuário\n",
    "# - Cria uma flag para validar se o livro \"teste\" está dentro das K recomendações\n",
    "# - Calcula a fórmula da precision\n",
    "\n",
    "def calculate_precision_k_baseline(df: pd.DataFrame, col_books: str, lst_recommendations: list, k: int = 10):\n",
    "\n",
    "    df['recommendations'] = df.apply(lambda x: choose_random_books(n = k), axis = 1)\n",
    "\n",
    "    df['flag_recommendations'] = df.apply(lambda x: x[col_books] in x['recommendations'], axis = 1)\n",
    "\n",
    "    value_precision_k = df.query('flag_recommendations == 1').shape[0] / df.shape[0] * 100\n",
    "\n",
    "    precision_k = 0 if value_precision_k == 0 else value_precision_k\n",
    "\n",
    "    return precision_k"
   ]
  },
  {
   "cell_type": "code",
   "execution_count": 9,
   "id": "1d086dfc-9d31-43ee-95b4-7d8561ee02b7",
   "metadata": {},
   "outputs": [
    {
     "name": "stdout",
     "output_type": "stream",
     "text": [
      "time: 756 ms (started: 2024-02-19 22:52:57 -03:00)\n"
     ]
    }
   ],
   "source": [
    "precision_k = calculate_precision_k_baseline(df = df_test, col_books = 'Book-Title', lst_recommendations = list_of_books, k = 20)"
   ]
  },
  {
   "cell_type": "code",
   "execution_count": 10,
   "id": "9930a701-c3b7-4d99-82f3-3d1e84d27941",
   "metadata": {},
   "outputs": [
    {
     "data": {
      "text/plain": [
       "0.0576036866359447"
      ]
     },
     "execution_count": 10,
     "metadata": {},
     "output_type": "execute_result"
    },
    {
     "name": "stdout",
     "output_type": "stream",
     "text": [
      "time: 6.21 ms (started: 2024-02-19 22:52:58 -03:00)\n"
     ]
    }
   ],
   "source": [
    "precision_k"
   ]
  }
 ],
 "metadata": {
  "kernelspec": {
   "display_name": "Python 3 (ipykernel)",
   "language": "python",
   "name": "python3"
  },
  "language_info": {
   "codemirror_mode": {
    "name": "ipython",
    "version": 3
   },
   "file_extension": ".py",
   "mimetype": "text/x-python",
   "name": "python",
   "nbconvert_exporter": "python",
   "pygments_lexer": "ipython3",
   "version": "3.10.12"
  }
 },
 "nbformat": 4,
 "nbformat_minor": 5
}
